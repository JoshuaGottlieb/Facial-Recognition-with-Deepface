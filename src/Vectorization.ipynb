{
 "cells": [
  {
   "cell_type": "code",
   "execution_count": 2,
   "id": "a9e67145",
   "metadata": {},
   "outputs": [],
   "source": [
    "import cv2\n",
    "import os\n",
    "import pickle\n",
    "import numpy as np\n",
    "import pandas as pd\n",
    "import modules.data_manipulation as dm\n",
    "import modules.dataset_ops as dops\n",
    "import modules.utils as utils\n",
    "import modules.stat_utils as st\n",
    "from modules.image_vectorizer import ImageVectorizer\n",
    "import matplotlib.pyplot as plt\n",
    "import seaborn as sns\n",
    "from sklearn.metrics import PrecisionRecallDisplay, auc"
   ]
  },
  {
   "cell_type": "markdown",
   "id": "89393da1",
   "metadata": {},
   "source": [
    "# Vectorizing Datasets"
   ]
  },
  {
   "cell_type": "code",
   "execution_count": 3,
   "id": "06665676",
   "metadata": {},
   "outputs": [],
   "source": [
    "vectorizer = ImageVectorizer('../pretrained_models/VGGFace2_DeepFace_weights_val-0.9034.h5')\n",
    "vectorizer.initialize()"
   ]
  },
  {
   "cell_type": "markdown",
   "id": "93d64f19",
   "metadata": {},
   "source": [
    "## Vectorizing Padded_152"
   ]
  },
  {
   "cell_type": "code",
   "execution_count": null,
   "id": "0ee26d86",
   "metadata": {},
   "outputs": [],
   "source": [
    "dataset_path = '../data/preprocessed/resized_152_padded'\n",
    "destination_root = '../data/vectorized/padded_152'\n",
    "path_suffix = 'pad_152'\n",
    "\n",
    "dops.vectorize_processed_dataset(dataset_path, destination_root, path_suffix, vectorizer = vectorizer)"
   ]
  },
  {
   "cell_type": "markdown",
   "id": "d9206d73",
   "metadata": {},
   "source": [
    "## Vectorizing Stretched_152"
   ]
  },
  {
   "cell_type": "code",
   "execution_count": null,
   "id": "2bc95bd4",
   "metadata": {},
   "outputs": [],
   "source": [
    "dataset_path = '../data/preprocessed/resized_152_stretched'\n",
    "destination_root = '../data/vectorized/stretched_152'\n",
    "path_suffix = 'stretched_152'\n",
    "\n",
    "dops.vectorize_processed_dataset(dataset_path, destination_root, path_suffix, vectorizer = vectorizer)"
   ]
  },
  {
   "cell_type": "markdown",
   "id": "bf7b3dad",
   "metadata": {},
   "source": [
    "## Vectorizing Ghosh_152"
   ]
  },
  {
   "cell_type": "code",
   "execution_count": null,
   "id": "d566b12f",
   "metadata": {},
   "outputs": [],
   "source": [
    "dataset_path = '../data/preprocessed/resized_152_ghosh'\n",
    "destination_root = '../data/vectorized/ghosh_152'\n",
    "path_suffix = 'ghosh_152'\n",
    "\n",
    "dops.vectorize_processed_dataset(dataset_path, destination_root, path_suffix, vectorizer = vectorizer)"
   ]
  },
  {
   "cell_type": "markdown",
   "id": "5e4211c6",
   "metadata": {},
   "source": [
    "## Vectorizing Manually Inpsected Random Subsample Using Ghosh"
   ]
  },
  {
   "cell_type": "code",
   "execution_count": null,
   "id": "e983ef30",
   "metadata": {},
   "outputs": [],
   "source": [
    "dataset_path = '../data/preprocessed/random_sample_resized'\n",
    "destination_root = '../data/vectorized/random_sample'\n",
    "path_suffix = 'random_sample'\n",
    "\n",
    "dops.vectorize_processed_dataset(dataset_path, destination_root, path_suffix, vectorizer = vectorizer)"
   ]
  },
  {
   "cell_type": "markdown",
   "id": "3fd98599",
   "metadata": {},
   "source": [
    "## Vectorizing Personal Images"
   ]
  },
  {
   "cell_type": "code",
   "execution_count": null,
   "id": "d90852c0",
   "metadata": {},
   "outputs": [],
   "source": [
    "dataset_path = '../data/personal_images/preprocessed'\n",
    "destination_root = '../data/personal_images/vectorized'\n",
    "path_suffix = 'personal'\n",
    "\n",
    "dops.vectorize_processed_dataset(dataset_path, destination_root, path_suffix, vectorizer = vectorizer)"
   ]
  },
  {
   "cell_type": "markdown",
   "id": "f2d4aba3",
   "metadata": {},
   "source": [
    "## Vectorizing Personal Images Batch 2"
   ]
  },
  {
   "cell_type": "code",
   "execution_count": 3,
   "id": "cfb5b496",
   "metadata": {},
   "outputs": [
    {
     "name": "stdout",
     "output_type": "stream",
     "text": [
      "Vectorizing image 1 from ./data/personal_images_batch2/preprocessed/Adam-01.png\n",
      "1/1 [==============================] - 0s 67ms/step\n",
      "Pickling vector 1 at ./data/personal_images_batch2/vectorized/Adam-01-personal.pickle\n",
      "Vectorizing image 2 from ./data/personal_images_batch2/preprocessed/Adam-02.png\n",
      "1/1 [==============================] - 0s 58ms/step\n",
      "Pickling vector 2 at ./data/personal_images_batch2/vectorized/Adam-02-personal.pickle\n",
      "Vectorizing image 3 from ./data/personal_images_batch2/preprocessed/Dan1-01.png\n",
      "1/1 [==============================] - 0s 73ms/step\n",
      "Pickling vector 3 at ./data/personal_images_batch2/vectorized/Dan1-01-personal.pickle\n",
      "Vectorizing image 4 from ./data/personal_images_batch2/preprocessed/Dan1-02.png\n",
      "1/1 [==============================] - 0s 81ms/step\n",
      "Pickling vector 4 at ./data/personal_images_batch2/vectorized/Dan1-02-personal.pickle\n",
      "Vectorizing image 5 from ./data/personal_images_batch2/preprocessed/Dan1-03.png\n",
      "1/1 [==============================] - 0s 88ms/step\n",
      "Pickling vector 5 at ./data/personal_images_batch2/vectorized/Dan1-03-personal.pickle\n",
      "Vectorizing image 6 from ./data/personal_images_batch2/preprocessed/Dan2-01.png\n",
      "1/1 [==============================] - 0s 71ms/step\n",
      "Pickling vector 6 at ./data/personal_images_batch2/vectorized/Dan2-01-personal.pickle\n",
      "Vectorizing image 7 from ./data/personal_images_batch2/preprocessed/Dan2-02.png\n",
      "1/1 [==============================] - 0s 74ms/step\n",
      "Pickling vector 7 at ./data/personal_images_batch2/vectorized/Dan2-02-personal.pickle\n",
      "Vectorizing image 8 from ./data/personal_images_batch2/preprocessed/Ed-01.png\n",
      "1/1 [==============================] - 0s 87ms/step\n",
      "Pickling vector 8 at ./data/personal_images_batch2/vectorized/Ed-01-personal.pickle\n",
      "Vectorizing image 9 from ./data/personal_images_batch2/preprocessed/Ed-02.png\n",
      "1/1 [==============================] - 0s 84ms/step\n",
      "Pickling vector 9 at ./data/personal_images_batch2/vectorized/Ed-02-personal.pickle\n",
      "Vectorizing image 10 from ./data/personal_images_batch2/preprocessed/Eric-01.png\n",
      "1/1 [==============================] - 0s 79ms/step\n",
      "Pickling vector 10 at ./data/personal_images_batch2/vectorized/Eric-01-personal.pickle\n",
      "Vectorizing image 11 from ./data/personal_images_batch2/preprocessed/Eric-02.png\n",
      "1/1 [==============================] - 0s 120ms/step\n",
      "Pickling vector 11 at ./data/personal_images_batch2/vectorized/Eric-02-personal.pickle\n",
      "Vectorizing image 12 from ./data/personal_images_batch2/preprocessed/Girl-01.png\n",
      "1/1 [==============================] - 0s 179ms/step\n",
      "Pickling vector 12 at ./data/personal_images_batch2/vectorized/Girl-01-personal.pickle\n",
      "Vectorizing image 13 from ./data/personal_images_batch2/preprocessed/Girl-02.png\n",
      "1/1 [==============================] - 0s 120ms/step\n",
      "Pickling vector 13 at ./data/personal_images_batch2/vectorized/Girl-02-personal.pickle\n",
      "Vectorizing image 14 from ./data/personal_images_batch2/preprocessed/Izhak-01.png\n",
      "1/1 [==============================] - 0s 118ms/step\n",
      "Pickling vector 14 at ./data/personal_images_batch2/vectorized/Izhak-01-personal.pickle\n",
      "Vectorizing image 15 from ./data/personal_images_batch2/preprocessed/Izhak-02.png\n",
      "1/1 [==============================] - 0s 95ms/step\n",
      "Pickling vector 15 at ./data/personal_images_batch2/vectorized/Izhak-02-personal.pickle\n",
      "Vectorizing image 16 from ./data/personal_images_batch2/preprocessed/Jack-01.png\n",
      "1/1 [==============================] - 0s 187ms/step\n",
      "Pickling vector 16 at ./data/personal_images_batch2/vectorized/Jack-01-personal.pickle\n",
      "Vectorizing image 17 from ./data/personal_images_batch2/preprocessed/Jack-02.png\n",
      "1/1 [==============================] - 0s 89ms/step\n",
      "Pickling vector 17 at ./data/personal_images_batch2/vectorized/Jack-02-personal.pickle\n",
      "Vectorizing image 18 from ./data/personal_images_batch2/preprocessed/Jack-03.png\n",
      "1/1 [==============================] - 0s 90ms/step\n",
      "Pickling vector 18 at ./data/personal_images_batch2/vectorized/Jack-03-personal.pickle\n",
      "Vectorizing image 19 from ./data/personal_images_batch2/preprocessed/Jack-04.png\n",
      "1/1 [==============================] - 0s 92ms/step\n",
      "Pickling vector 19 at ./data/personal_images_batch2/vectorized/Jack-04-personal.pickle\n",
      "Vectorizing image 20 from ./data/personal_images_batch2/preprocessed/Jen-01.png\n",
      "1/1 [==============================] - 0s 133ms/step\n",
      "Pickling vector 20 at ./data/personal_images_batch2/vectorized/Jen-01-personal.pickle\n",
      "Vectorizing image 21 from ./data/personal_images_batch2/preprocessed/Jen-02.png\n",
      "1/1 [==============================] - 0s 115ms/step\n",
      "Pickling vector 21 at ./data/personal_images_batch2/vectorized/Jen-02-personal.pickle\n",
      "Vectorizing image 22 from ./data/personal_images_batch2/preprocessed/Jen-03.png\n",
      "1/1 [==============================] - 0s 110ms/step\n",
      "Pickling vector 22 at ./data/personal_images_batch2/vectorized/Jen-03-personal.pickle\n",
      "Vectorizing image 23 from ./data/personal_images_batch2/preprocessed/Josh1-01.png\n",
      "1/1 [==============================] - 0s 74ms/step\n",
      "Pickling vector 23 at ./data/personal_images_batch2/vectorized/Josh1-01-personal.pickle\n",
      "Vectorizing image 24 from ./data/personal_images_batch2/preprocessed/Josh1-02.png\n",
      "1/1 [==============================] - 0s 72ms/step\n",
      "Pickling vector 24 at ./data/personal_images_batch2/vectorized/Josh1-02-personal.pickle\n",
      "Vectorizing image 25 from ./data/personal_images_batch2/preprocessed/Josh1-03.png\n",
      "1/1 [==============================] - 0s 85ms/step\n",
      "Pickling vector 25 at ./data/personal_images_batch2/vectorized/Josh1-03-personal.pickle\n",
      "Vectorizing image 26 from ./data/personal_images_batch2/preprocessed/Josh2-01.png\n",
      "1/1 [==============================] - 0s 79ms/step\n",
      "Pickling vector 26 at ./data/personal_images_batch2/vectorized/Josh2-01-personal.pickle\n",
      "Vectorizing image 27 from ./data/personal_images_batch2/preprocessed/Josh2-02.png\n",
      "1/1 [==============================] - 0s 66ms/step\n",
      "Pickling vector 27 at ./data/personal_images_batch2/vectorized/Josh2-02-personal.pickle\n",
      "Vectorizing image 28 from ./data/personal_images_batch2/preprocessed/Josh2-03.png\n",
      "1/1 [==============================] - 0s 59ms/step\n",
      "Pickling vector 28 at ./data/personal_images_batch2/vectorized/Josh2-03-personal.pickle\n",
      "Vectorizing image 29 from ./data/personal_images_batch2/preprocessed/Josh3-01.png\n",
      "1/1 [==============================] - 0s 74ms/step\n",
      "Pickling vector 29 at ./data/personal_images_batch2/vectorized/Josh3-01-personal.pickle\n",
      "Vectorizing image 30 from ./data/personal_images_batch2/preprocessed/Josh3-02.png\n",
      "1/1 [==============================] - 0s 108ms/step\n",
      "Pickling vector 30 at ./data/personal_images_batch2/vectorized/Josh3-02-personal.pickle\n",
      "Vectorizing image 31 from ./data/personal_images_batch2/preprocessed/Josh4-01.png\n",
      "1/1 [==============================] - 0s 85ms/step\n",
      "Pickling vector 31 at ./data/personal_images_batch2/vectorized/Josh4-01-personal.pickle\n",
      "Vectorizing image 32 from ./data/personal_images_batch2/preprocessed/Josh4-02.png\n",
      "1/1 [==============================] - 0s 82ms/step\n",
      "Pickling vector 32 at ./data/personal_images_batch2/vectorized/Josh4-02-personal.pickle\n",
      "Vectorizing image 33 from ./data/personal_images_batch2/preprocessed/Josh4-03.png\n",
      "1/1 [==============================] - 0s 87ms/step\n",
      "Pickling vector 33 at ./data/personal_images_batch2/vectorized/Josh4-03-personal.pickle\n",
      "Vectorizing image 34 from ./data/personal_images_batch2/preprocessed/Josh4-05.png\n",
      "1/1 [==============================] - 0s 83ms/step\n",
      "Pickling vector 34 at ./data/personal_images_batch2/vectorized/Josh4-05-personal.pickle\n",
      "Vectorizing image 35 from ./data/personal_images_batch2/preprocessed/Joyce-01.png\n",
      "1/1 [==============================] - 0s 75ms/step\n",
      "Pickling vector 35 at ./data/personal_images_batch2/vectorized/Joyce-01-personal.pickle\n",
      "Vectorizing image 36 from ./data/personal_images_batch2/preprocessed/Joyce-02.png\n",
      "1/1 [==============================] - 0s 76ms/step\n",
      "Pickling vector 36 at ./data/personal_images_batch2/vectorized/Joyce-02-personal.pickle\n",
      "Vectorizing image 37 from ./data/personal_images_batch2/preprocessed/Joyce-03.png\n",
      "1/1 [==============================] - 0s 81ms/step\n",
      "Pickling vector 37 at ./data/personal_images_batch2/vectorized/Joyce-03-personal.pickle\n",
      "Vectorizing image 38 from ./data/personal_images_batch2/preprocessed/Lauren-01.png\n"
     ]
    },
    {
     "name": "stdout",
     "output_type": "stream",
     "text": [
      "1/1 [==============================] - 0s 92ms/step\n",
      "Pickling vector 38 at ./data/personal_images_batch2/vectorized/Lauren-01-personal.pickle\n",
      "Vectorizing image 39 from ./data/personal_images_batch2/preprocessed/Lauren-02.png\n",
      "1/1 [==============================] - 0s 78ms/step\n",
      "Pickling vector 39 at ./data/personal_images_batch2/vectorized/Lauren-02-personal.pickle\n",
      "Vectorizing image 40 from ./data/personal_images_batch2/preprocessed/Lauren-03.png\n",
      "1/1 [==============================] - 0s 73ms/step\n",
      "Pickling vector 40 at ./data/personal_images_batch2/vectorized/Lauren-03-personal.pickle\n",
      "Vectorizing image 41 from ./data/personal_images_batch2/preprocessed/Lauren-04.png\n",
      "1/1 [==============================] - 0s 67ms/step\n",
      "Pickling vector 41 at ./data/personal_images_batch2/vectorized/Lauren-04-personal.pickle\n",
      "Vectorizing image 42 from ./data/personal_images_batch2/preprocessed/Lauren-05.png\n",
      "1/1 [==============================] - 0s 88ms/step\n",
      "Pickling vector 42 at ./data/personal_images_batch2/vectorized/Lauren-05-personal.pickle\n",
      "Vectorizing image 43 from ./data/personal_images_batch2/preprocessed/Lauren-06.png\n",
      "1/1 [==============================] - 0s 92ms/step\n",
      "Pickling vector 43 at ./data/personal_images_batch2/vectorized/Lauren-06-personal.pickle\n",
      "Vectorizing image 44 from ./data/personal_images_batch2/preprocessed/Lauren-07.png\n",
      "1/1 [==============================] - 0s 58ms/step\n",
      "Pickling vector 44 at ./data/personal_images_batch2/vectorized/Lauren-07-personal.pickle\n",
      "Vectorizing image 45 from ./data/personal_images_batch2/preprocessed/Li-01.png\n",
      "1/1 [==============================] - 0s 61ms/step\n",
      "Pickling vector 45 at ./data/personal_images_batch2/vectorized/Li-01-personal.pickle\n",
      "Vectorizing image 46 from ./data/personal_images_batch2/preprocessed/Li-02.png\n",
      "1/1 [==============================] - 0s 57ms/step\n",
      "Pickling vector 46 at ./data/personal_images_batch2/vectorized/Li-02-personal.pickle\n",
      "Vectorizing image 47 from ./data/personal_images_batch2/preprocessed/Li-03.png\n",
      "1/1 [==============================] - 0s 56ms/step\n",
      "Pickling vector 47 at ./data/personal_images_batch2/vectorized/Li-03-personal.pickle\n",
      "Vectorizing image 48 from ./data/personal_images_batch2/preprocessed/Li-04.png\n",
      "1/1 [==============================] - 0s 60ms/step\n",
      "Pickling vector 48 at ./data/personal_images_batch2/vectorized/Li-04-personal.pickle\n",
      "Vectorizing image 49 from ./data/personal_images_batch2/preprocessed/Li-05.png\n",
      "1/1 [==============================] - 0s 62ms/step\n",
      "Pickling vector 49 at ./data/personal_images_batch2/vectorized/Li-05-personal.pickle\n",
      "Vectorizing image 50 from ./data/personal_images_batch2/preprocessed/Li-06.png\n",
      "1/1 [==============================] - 0s 58ms/step\n",
      "Pickling vector 50 at ./data/personal_images_batch2/vectorized/Li-06-personal.pickle\n",
      "Vectorizing image 51 from ./data/personal_images_batch2/preprocessed/Li-07.png\n",
      "1/1 [==============================] - 0s 59ms/step\n",
      "Pickling vector 51 at ./data/personal_images_batch2/vectorized/Li-07-personal.pickle\n",
      "Vectorizing image 52 from ./data/personal_images_batch2/preprocessed/Luke1-01.png\n",
      "1/1 [==============================] - 0s 58ms/step\n",
      "Pickling vector 52 at ./data/personal_images_batch2/vectorized/Luke1-01-personal.pickle\n",
      "Vectorizing image 53 from ./data/personal_images_batch2/preprocessed/Luke1-02.png\n",
      "1/1 [==============================] - 0s 63ms/step\n",
      "Pickling vector 53 at ./data/personal_images_batch2/vectorized/Luke1-02-personal.pickle\n",
      "Vectorizing image 54 from ./data/personal_images_batch2/preprocessed/Luke2-01.png\n",
      "1/1 [==============================] - 0s 82ms/step\n",
      "Pickling vector 54 at ./data/personal_images_batch2/vectorized/Luke2-01-personal.pickle\n",
      "Vectorizing image 55 from ./data/personal_images_batch2/preprocessed/Luke2-02.png\n",
      "1/1 [==============================] - 0s 134ms/step\n",
      "Pickling vector 55 at ./data/personal_images_batch2/vectorized/Luke2-02-personal.pickle\n",
      "Vectorizing image 56 from ./data/personal_images_batch2/preprocessed/Marina1-01.png\n",
      "1/1 [==============================] - 0s 115ms/step\n",
      "Pickling vector 56 at ./data/personal_images_batch2/vectorized/Marina1-01-personal.pickle\n",
      "Vectorizing image 57 from ./data/personal_images_batch2/preprocessed/Marina1-02.png\n",
      "1/1 [==============================] - 0s 84ms/step\n",
      "Pickling vector 57 at ./data/personal_images_batch2/vectorized/Marina1-02-personal.pickle\n",
      "Vectorizing image 58 from ./data/personal_images_batch2/preprocessed/Marina2-01.png\n",
      "1/1 [==============================] - 0s 70ms/step\n",
      "Pickling vector 58 at ./data/personal_images_batch2/vectorized/Marina2-01-personal.pickle\n",
      "Vectorizing image 59 from ./data/personal_images_batch2/preprocessed/Marina2-02.png\n",
      "1/1 [==============================] - 0s 66ms/step\n",
      "Pickling vector 59 at ./data/personal_images_batch2/vectorized/Marina2-02-personal.pickle\n",
      "Vectorizing image 60 from ./data/personal_images_batch2/preprocessed/Marina3-01.png\n",
      "1/1 [==============================] - 0s 47ms/step\n",
      "Pickling vector 60 at ./data/personal_images_batch2/vectorized/Marina3-01-personal.pickle\n",
      "Vectorizing image 61 from ./data/personal_images_batch2/preprocessed/Marina3-02.png\n",
      "1/1 [==============================] - 0s 58ms/step\n",
      "Pickling vector 61 at ./data/personal_images_batch2/vectorized/Marina3-02-personal.pickle\n",
      "Vectorizing image 62 from ./data/personal_images_batch2/preprocessed/Model1-01.png\n",
      "1/1 [==============================] - 0s 56ms/step\n",
      "Pickling vector 62 at ./data/personal_images_batch2/vectorized/Model1-01-personal.pickle\n",
      "Vectorizing image 63 from ./data/personal_images_batch2/preprocessed/Model1-02.png\n",
      "1/1 [==============================] - 0s 60ms/step\n",
      "Pickling vector 63 at ./data/personal_images_batch2/vectorized/Model1-02-personal.pickle\n",
      "Vectorizing image 64 from ./data/personal_images_batch2/preprocessed/Model1-03.png\n",
      "1/1 [==============================] - 0s 168ms/step\n",
      "Pickling vector 64 at ./data/personal_images_batch2/vectorized/Model1-03-personal.pickle\n",
      "Vectorizing image 65 from ./data/personal_images_batch2/preprocessed/Model1-04.png\n",
      "1/1 [==============================] - 0s 142ms/step\n",
      "Pickling vector 65 at ./data/personal_images_batch2/vectorized/Model1-04-personal.pickle\n",
      "Vectorizing image 66 from ./data/personal_images_batch2/preprocessed/Model1-05.png\n",
      "1/1 [==============================] - 0s 93ms/step\n",
      "Pickling vector 66 at ./data/personal_images_batch2/vectorized/Model1-05-personal.pickle\n",
      "Vectorizing image 67 from ./data/personal_images_batch2/preprocessed/Model2-01.png\n",
      "1/1 [==============================] - 0s 72ms/step\n",
      "Pickling vector 67 at ./data/personal_images_batch2/vectorized/Model2-01-personal.pickle\n",
      "Vectorizing image 68 from ./data/personal_images_batch2/preprocessed/Model2-02.png\n",
      "1/1 [==============================] - 0s 59ms/step\n",
      "Pickling vector 68 at ./data/personal_images_batch2/vectorized/Model2-02-personal.pickle\n",
      "Vectorizing image 69 from ./data/personal_images_batch2/preprocessed/Model2-03.png\n",
      "1/1 [==============================] - 0s 58ms/step\n",
      "Pickling vector 69 at ./data/personal_images_batch2/vectorized/Model2-03-personal.pickle\n",
      "Vectorizing image 70 from ./data/personal_images_batch2/preprocessed/Model2-04.png\n",
      "1/1 [==============================] - 0s 71ms/step\n",
      "Pickling vector 70 at ./data/personal_images_batch2/vectorized/Model2-04-personal.pickle\n",
      "Vectorizing image 71 from ./data/personal_images_batch2/preprocessed/Model2-05.png\n",
      "1/1 [==============================] - 0s 58ms/step\n",
      "Pickling vector 71 at ./data/personal_images_batch2/vectorized/Model2-05-personal.pickle\n",
      "Vectorizing image 72 from ./data/personal_images_batch2/preprocessed/Model2-06.png\n",
      "1/1 [==============================] - 0s 73ms/step\n",
      "Pickling vector 72 at ./data/personal_images_batch2/vectorized/Model2-06-personal.pickle\n",
      "Vectorizing image 73 from ./data/personal_images_batch2/preprocessed/Model2-07.png\n",
      "1/1 [==============================] - 0s 95ms/step\n",
      "Pickling vector 73 at ./data/personal_images_batch2/vectorized/Model2-07-personal.pickle\n",
      "Vectorizing image 74 from ./data/personal_images_batch2/preprocessed/Model2-08.png\n",
      "1/1 [==============================] - 0s 98ms/step\n",
      "Pickling vector 74 at ./data/personal_images_batch2/vectorized/Model2-08-personal.pickle\n",
      "Vectorizing image 75 from ./data/personal_images_batch2/preprocessed/Model2-09.png\n"
     ]
    },
    {
     "name": "stdout",
     "output_type": "stream",
     "text": [
      "1/1 [==============================] - 0s 171ms/step\n",
      "Pickling vector 75 at ./data/personal_images_batch2/vectorized/Model2-09-personal.pickle\n",
      "Vectorizing image 76 from ./data/personal_images_batch2/preprocessed/Model2-10.png\n",
      "1/1 [==============================] - 0s 73ms/step\n",
      "Pickling vector 76 at ./data/personal_images_batch2/vectorized/Model2-10-personal.pickle\n",
      "Vectorizing image 77 from ./data/personal_images_batch2/preprocessed/Model2-11.png\n",
      "1/1 [==============================] - 0s 55ms/step\n",
      "Pickling vector 77 at ./data/personal_images_batch2/vectorized/Model2-11-personal.pickle\n",
      "Vectorizing image 78 from ./data/personal_images_batch2/preprocessed/Model2-12.png\n",
      "1/1 [==============================] - 0s 57ms/step\n",
      "Pickling vector 78 at ./data/personal_images_batch2/vectorized/Model2-12-personal.pickle\n",
      "Vectorizing image 79 from ./data/personal_images_batch2/preprocessed/Model2-13.png\n",
      "1/1 [==============================] - 0s 60ms/step\n",
      "Pickling vector 79 at ./data/personal_images_batch2/vectorized/Model2-13-personal.pickle\n",
      "Vectorizing image 80 from ./data/personal_images_batch2/preprocessed/Model2-14.png\n",
      "1/1 [==============================] - 0s 63ms/step\n",
      "Pickling vector 80 at ./data/personal_images_batch2/vectorized/Model2-14-personal.pickle\n",
      "Vectorizing image 81 from ./data/personal_images_batch2/preprocessed/Model2-15.png\n",
      "1/1 [==============================] - 0s 55ms/step\n",
      "Pickling vector 81 at ./data/personal_images_batch2/vectorized/Model2-15-personal.pickle\n",
      "Vectorizing image 82 from ./data/personal_images_batch2/preprocessed/Model2-16.png\n",
      "1/1 [==============================] - 0s 58ms/step\n",
      "Pickling vector 82 at ./data/personal_images_batch2/vectorized/Model2-16-personal.pickle\n",
      "Vectorizing image 83 from ./data/personal_images_batch2/preprocessed/Model2-17.png\n",
      "1/1 [==============================] - 0s 111ms/step\n",
      "Pickling vector 83 at ./data/personal_images_batch2/vectorized/Model2-17-personal.pickle\n",
      "Vectorizing image 84 from ./data/personal_images_batch2/preprocessed/Sarah-01.png\n",
      "1/1 [==============================] - 0s 65ms/step\n",
      "Pickling vector 84 at ./data/personal_images_batch2/vectorized/Sarah-01-personal.pickle\n",
      "Vectorizing image 85 from ./data/personal_images_batch2/preprocessed/Sarah-02.png\n",
      "1/1 [==============================] - 0s 110ms/step\n",
      "Pickling vector 85 at ./data/personal_images_batch2/vectorized/Sarah-02-personal.pickle\n",
      "Vectorizing image 86 from ./data/personal_images_batch2/preprocessed/Sarah-03.png\n",
      "1/1 [==============================] - 0s 73ms/step\n",
      "Pickling vector 86 at ./data/personal_images_batch2/vectorized/Sarah-03-personal.pickle\n",
      "Vectorizing image 87 from ./data/personal_images_batch2/preprocessed/Sasha-01.png\n",
      "1/1 [==============================] - 0s 59ms/step\n",
      "Pickling vector 87 at ./data/personal_images_batch2/vectorized/Sasha-01-personal.pickle\n",
      "Vectorizing image 88 from ./data/personal_images_batch2/preprocessed/Sasha-02.png\n",
      "1/1 [==============================] - 0s 60ms/step\n",
      "Pickling vector 88 at ./data/personal_images_batch2/vectorized/Sasha-02-personal.pickle\n",
      "Vectorizing image 89 from ./data/personal_images_batch2/preprocessed/Sasha-03.png\n",
      "1/1 [==============================] - 0s 60ms/step\n",
      "Pickling vector 89 at ./data/personal_images_batch2/vectorized/Sasha-03-personal.pickle\n",
      "Vectorizing image 90 from ./data/personal_images_batch2/preprocessed/Sasha-04.png\n",
      "1/1 [==============================] - 0s 94ms/step\n",
      "Pickling vector 90 at ./data/personal_images_batch2/vectorized/Sasha-04-personal.pickle\n",
      "Vectorizing image 91 from ./data/personal_images_batch2/preprocessed/Sasha-05.png\n",
      "1/1 [==============================] - 0s 70ms/step\n",
      "Pickling vector 91 at ./data/personal_images_batch2/vectorized/Sasha-05-personal.pickle\n",
      "Vectorizing image 92 from ./data/personal_images_batch2/preprocessed/Sasha-06.png\n",
      "1/1 [==============================] - 0s 126ms/step\n",
      "Pickling vector 92 at ./data/personal_images_batch2/vectorized/Sasha-06-personal.pickle\n",
      "Vectorizing image 93 from ./data/personal_images_batch2/preprocessed/Sasha-07.png\n",
      "1/1 [==============================] - 0s 128ms/step\n",
      "Pickling vector 93 at ./data/personal_images_batch2/vectorized/Sasha-07-personal.pickle\n",
      "Vectorizing image 94 from ./data/personal_images_batch2/preprocessed/Sasha-08.png\n",
      "1/1 [==============================] - 0s 110ms/step\n",
      "Pickling vector 94 at ./data/personal_images_batch2/vectorized/Sasha-08-personal.pickle\n",
      "Vectorizing image 95 from ./data/personal_images_batch2/preprocessed/Sasha-09.png\n",
      "1/1 [==============================] - 0s 116ms/step\n",
      "Pickling vector 95 at ./data/personal_images_batch2/vectorized/Sasha-09-personal.pickle\n"
     ]
    }
   ],
   "source": [
    "dataset_path = '../data/personal_images_batch2/preprocessed'\n",
    "destination_root = '../data/personal_images_batch2/vectorized'\n",
    "path_suffix = 'personal'\n",
    "\n",
    "dops.vectorize_processed_dataset(dataset_path, destination_root, path_suffix, vectorizer = vectorizer)"
   ]
  },
  {
   "cell_type": "markdown",
   "id": "626064e3",
   "metadata": {},
   "source": [
    "# Processing Intra- and Inter-Label Distances"
   ]
  },
  {
   "cell_type": "markdown",
   "id": "26a58dab",
   "metadata": {},
   "source": [
    "## Intra- and Inter-Distances for Padded_152"
   ]
  },
  {
   "cell_type": "markdown",
   "id": "d952ca5e",
   "metadata": {},
   "source": [
    "### Intra-Distances for Padded_152"
   ]
  },
  {
   "cell_type": "code",
   "execution_count": null,
   "id": "5b4ca1d0",
   "metadata": {},
   "outputs": [],
   "source": [
    "root_path = '../data/vectorized/padded_152'\n",
    "json_path = '../data/vectorized/padded_152_intra_distances.json'"
   ]
  },
  {
   "cell_type": "code",
   "execution_count": null,
   "id": "8ee6c919",
   "metadata": {},
   "outputs": [],
   "source": [
    "# Grab all unique names, vector paths, and load vectors into memory\n",
    "unique_names = utils.get_unique_names(root_path)\n",
    "all_paths, vectors = dm.get_all_paths_and_vectors(root_path)"
   ]
  },
  {
   "cell_type": "code",
   "execution_count": null,
   "id": "f951722f",
   "metadata": {},
   "outputs": [],
   "source": [
    "# Calculate intra-label distances and write to disk\n",
    "dm.calculate_intra_distances(unique_names, all_paths, vectors, json_path)"
   ]
  },
  {
   "cell_type": "code",
   "execution_count": null,
   "id": "5803b788",
   "metadata": {},
   "outputs": [],
   "source": [
    "# Read intra-label distances from disk and place into dataframe\n",
    "intra_df = utils.load_json_into_frame(json_path)"
   ]
  },
  {
   "cell_type": "code",
   "execution_count": null,
   "id": "f50b19d6",
   "metadata": {},
   "outputs": [],
   "source": [
    "# Verifying correct counts for each label\n",
    "all_paths = utils.get_all_paths(root_path)\n",
    "intra_df_counts = dm.confirm_intra_distance_counts(intra_df, all_paths)\n",
    "intra_df_counts.loc[intra_df_counts.proper_count == False]"
   ]
  },
  {
   "cell_type": "code",
   "execution_count": null,
   "id": "7b7f96cb",
   "metadata": {},
   "outputs": [],
   "source": [
    "# Writing intra-label l2 distances to separate csv for further use\n",
    "l2_csv_path = '../data/vectorized/padded_152_intra_distances_l2.csv'\n",
    "intra_l2_df = dm.get_distance_df(intra_df, 'l2_distances')\n",
    "intra_l2_df.to_csv(l2_csv_path, index = False)"
   ]
  },
  {
   "cell_type": "code",
   "execution_count": null,
   "id": "2479530c",
   "metadata": {},
   "outputs": [],
   "source": [
    "# Writing intra-label cosine distances to separate csv for further use\n",
    "cos_csv_path = '../data/vectorized/padded_152_intra_distances_cos.csv'\n",
    "intra_cos_df = dm.get_distance_df(intra_df, 'cosine_distances')\n",
    "intra_cos_df.to_csv(cos_csv_path, index = False)"
   ]
  },
  {
   "cell_type": "markdown",
   "id": "e0647de8",
   "metadata": {},
   "source": [
    "### Inter-Label Distances for Padded_152"
   ]
  },
  {
   "cell_type": "code",
   "execution_count": null,
   "id": "9e15e26f",
   "metadata": {},
   "outputs": [],
   "source": [
    "root_path = '../data/vectorized/padded_152'\n",
    "distances_stem = '../data/vectorized/padded_152_inter_distances'\n",
    "vector_leaf = '-pad'"
   ]
  },
  {
   "cell_type": "code",
   "execution_count": null,
   "id": "4c278973",
   "metadata": {},
   "outputs": [],
   "source": [
    "# Grab all unique names, vector paths, and load vectors into memory\n",
    "unique_names = utils.get_unique_names(root_path)\n",
    "all_paths, vectors = dm.get_all_paths_and_vectors(root_path)"
   ]
  },
  {
   "cell_type": "code",
   "execution_count": null,
   "id": "19f79083",
   "metadata": {},
   "outputs": [],
   "source": [
    "# Calculating inter-label distances and writing to disk\n",
    "# Processing was able to be done using 20 GB of memory, required ~2-3 hours to process\n",
    "dm.calculate_inter_distances(unique_names, all_paths, vectors, distances_stem)"
   ]
  },
  {
   "cell_type": "code",
   "execution_count": null,
   "id": "2fcc9a25",
   "metadata": {},
   "outputs": [],
   "source": [
    "# Grab all paths of inter-label json batches\n",
    "inter_df_jsons = dm.get_batch_paths(distances_stem, '.json', root = '../data/vectorized')"
   ]
  },
  {
   "cell_type": "code",
   "execution_count": null,
   "id": "81e25465",
   "metadata": {},
   "outputs": [],
   "source": [
    "# Process into batch csvs\n",
    "# This processing was able to be done with 20 GB of memory\n",
    "dm.write_inter_batch_frames(inter_df_jsons, distances_stem)"
   ]
  },
  {
   "cell_type": "code",
   "execution_count": null,
   "id": "5fe0be40",
   "metadata": {},
   "outputs": [],
   "source": [
    "# Verifying correct counts for each label\n",
    "pair_df_counts = dm.confirm_inter_distance_counts(distances_stem, vector_leaf)\n",
    "pair_df_counts.loc[pair_df_counts.proper_count == False]"
   ]
  },
  {
   "cell_type": "markdown",
   "id": "98ecbdb3",
   "metadata": {},
   "source": [
    "## Intra- and Inter-Distances for Stretched_152"
   ]
  },
  {
   "cell_type": "markdown",
   "id": "89f809cf",
   "metadata": {},
   "source": [
    "### Intra-Distances for Stretched_152"
   ]
  },
  {
   "cell_type": "code",
   "execution_count": null,
   "id": "ce2f332c",
   "metadata": {},
   "outputs": [],
   "source": [
    "root_path = '../data/vectorized/stretched_152'\n",
    "json_path = '../data/vectorized/stretched_152_intra_distances.json'"
   ]
  },
  {
   "cell_type": "code",
   "execution_count": null,
   "id": "886ce710",
   "metadata": {},
   "outputs": [],
   "source": [
    "# Grab all unique names, vector paths, and load vectors into memory\n",
    "unique_names = utils.get_unique_names(root_path)\n",
    "all_paths, vectors = dm.get_all_paths_and_vectors(root_path)"
   ]
  },
  {
   "cell_type": "code",
   "execution_count": null,
   "id": "31eba10b",
   "metadata": {},
   "outputs": [],
   "source": [
    "# Calculate intra-label distances and write to disk\n",
    "dm.calculate_intra_distances(unique_names, all_paths, vectors, json_path)"
   ]
  },
  {
   "cell_type": "code",
   "execution_count": null,
   "id": "ddc3f3a4",
   "metadata": {},
   "outputs": [],
   "source": [
    "# Read intra-label distances from disk and place into dataframe\n",
    "intra_df = utils.load_json_into_frame(json_path)"
   ]
  },
  {
   "cell_type": "code",
   "execution_count": null,
   "id": "06992226",
   "metadata": {},
   "outputs": [],
   "source": [
    "# Verifying correct counts for each label\n",
    "all_paths = utils.get_all_paths(root_path)\n",
    "intra_df_counts = dm.confirm_intra_distance_counts(intra_df, all_paths)\n",
    "intra_df_counts.loc[intra_df_counts.proper_count == False]"
   ]
  },
  {
   "cell_type": "code",
   "execution_count": null,
   "id": "c4aae21b",
   "metadata": {},
   "outputs": [],
   "source": [
    "# Writing intra-label l2 distances to separate csv for further use\n",
    "l2_csv_path = '../data/vectorized/stretched_152_intra_distances_l2.csv'\n",
    "intra_l2_df = dm.get_distance_df(intra_df, 'l2_distances')\n",
    "intra_l2_df.to_csv(l2_csv_path, index = False)"
   ]
  },
  {
   "cell_type": "code",
   "execution_count": null,
   "id": "10540387",
   "metadata": {},
   "outputs": [],
   "source": [
    "# Writing intra-label cosine distances to separate csv for further use\n",
    "cos_csv_path = '../data/vectorized/stretched_152_intra_distances_cos.csv'\n",
    "intra_cos_df = dm.get_distance_df(intra_df, 'cosine_distances')\n",
    "intra_cos_df.to_csv(cos_csv_path, index = False)"
   ]
  },
  {
   "cell_type": "markdown",
   "id": "d5ba993b",
   "metadata": {},
   "source": [
    "### Inter-Distances for Stretched_152"
   ]
  },
  {
   "cell_type": "code",
   "execution_count": null,
   "id": "41aa9cde",
   "metadata": {},
   "outputs": [],
   "source": [
    "root_path = '../data/vectorized/stretched_152'\n",
    "distances_stem = '../data/vectorized/stretched_152_inter_distances'\n",
    "vector_leaf = '-stretched'"
   ]
  },
  {
   "cell_type": "code",
   "execution_count": null,
   "id": "425b5f6b",
   "metadata": {},
   "outputs": [],
   "source": [
    "# Grab all unique names, vector paths, and load vectors into memory\n",
    "unique_names = utils.get_unique_names(root_path)\n",
    "all_paths, vectors = dm.get_all_paths_and_vectors(root_path)"
   ]
  },
  {
   "cell_type": "code",
   "execution_count": null,
   "id": "3ebc6724",
   "metadata": {},
   "outputs": [],
   "source": [
    "# Calculating inter-label distances and writing to disk\n",
    "# Processing was able to be done using 20 GB of memory, required ~2-3 hours to process\n",
    "dm.calculate_inter_distances(unique_names, all_paths, vectors, distances_stem)"
   ]
  },
  {
   "cell_type": "code",
   "execution_count": null,
   "id": "1fd7f9d8",
   "metadata": {},
   "outputs": [],
   "source": [
    "# Grab all paths of inter-label json batches\n",
    "inter_df_jsons = dm.get_batch_paths(distances_stem, '.json', root = '../data/vectorized')"
   ]
  },
  {
   "cell_type": "code",
   "execution_count": null,
   "id": "3253ad2d",
   "metadata": {},
   "outputs": [],
   "source": [
    "# Process into batch csvs\n",
    "# This processing was able to be done with 20 GB of memory\n",
    "dm.write_inter_batch_frames(inter_df_jsons, distances_stem)"
   ]
  },
  {
   "cell_type": "code",
   "execution_count": null,
   "id": "33090ba6",
   "metadata": {},
   "outputs": [],
   "source": [
    "# Verifying correct counts for each label\n",
    "pair_df_counts = dm.confirm_inter_distance_counts(distances_stem, vector_leaf)\n",
    "pair_df_counts.loc[pair_df_counts.proper_count == False]"
   ]
  },
  {
   "cell_type": "markdown",
   "id": "327079f0",
   "metadata": {},
   "source": [
    "## Intra- and Inter-Distances for Ghosh_152"
   ]
  },
  {
   "cell_type": "markdown",
   "id": "fa8f6e86",
   "metadata": {},
   "source": [
    "### Intra-Distances for Ghosh_152"
   ]
  },
  {
   "cell_type": "code",
   "execution_count": null,
   "id": "ad2176be",
   "metadata": {},
   "outputs": [],
   "source": [
    "root_path = '../data/vectorized/ghosh_152'\n",
    "json_path = '../data/vectorized/ghosh_152_intra_distances.json'"
   ]
  },
  {
   "cell_type": "code",
   "execution_count": null,
   "id": "91d42379",
   "metadata": {},
   "outputs": [],
   "source": [
    "# Grab all unique names, vector paths, and load vectors into memory\n",
    "unique_names = utils.get_unique_names(root_path)\n",
    "all_paths, vectors = dm.get_all_paths_and_vectors(root_path)"
   ]
  },
  {
   "cell_type": "code",
   "execution_count": null,
   "id": "59087739",
   "metadata": {},
   "outputs": [],
   "source": [
    "# Calculate intra-label distances and write to disk\n",
    "dm.calculate_intra_distances(unique_names, all_paths, vectors, json_path)"
   ]
  },
  {
   "cell_type": "code",
   "execution_count": null,
   "id": "bd9cbadb",
   "metadata": {},
   "outputs": [],
   "source": [
    "# Read intra-label distances from disk and place into dataframe\n",
    "intra_df = utils.load_json_into_frame(json_path)"
   ]
  },
  {
   "cell_type": "code",
   "execution_count": null,
   "id": "c4865682",
   "metadata": {},
   "outputs": [],
   "source": [
    "# Verifying correct counts for each label\n",
    "all_paths = utils.get_all_paths(root_path)\n",
    "intra_df_counts = dm.confirm_intra_distance_counts(intra_df, all_paths)\n",
    "intra_df_counts.loc[intra_df_counts.proper_count == False]"
   ]
  },
  {
   "cell_type": "code",
   "execution_count": null,
   "id": "b7ffb65b",
   "metadata": {},
   "outputs": [],
   "source": [
    "# Writing intra-label l2 distances to separate csv for further use\n",
    "l2_csv_path = '../data/vectorized/ghosh_152_intra_distances_l2.csv'\n",
    "intra_l2_df = dm.get_distance_df(intra_df, 'l2_distances')\n",
    "intra_l2_df.to_csv(l2_csv_path, index = False)"
   ]
  },
  {
   "cell_type": "code",
   "execution_count": null,
   "id": "e3c6be7b",
   "metadata": {},
   "outputs": [],
   "source": [
    "# Writing intra-label cosine distances to separate csv for further use\n",
    "cos_csv_path = '../data/vectorized/ghosh_152_intra_distances_cos.csv'\n",
    "intra_cos_df = dm.get_distance_df(intra_df, 'cosine_distances')\n",
    "intra_cos_df.to_csv(cos_csv_path, index = False)"
   ]
  },
  {
   "cell_type": "markdown",
   "id": "765dc323",
   "metadata": {},
   "source": [
    "### Inter-Distances for Ghosh_152"
   ]
  },
  {
   "cell_type": "code",
   "execution_count": null,
   "id": "933a9ee8",
   "metadata": {},
   "outputs": [],
   "source": [
    "root_path = '../data/vectorized/ghosh_152'\n",
    "distances_stem = '../data/vectorized/ghosh_152_inter_distances'\n",
    "vector_leaf = '-ghosh'"
   ]
  },
  {
   "cell_type": "code",
   "execution_count": null,
   "id": "bd6debf6",
   "metadata": {},
   "outputs": [],
   "source": [
    "# Grab all unique names, vector paths, and load vectors into memory\n",
    "unique_names = utils.get_unique_names(root_path)\n",
    "all_paths, vectors = dm.get_all_paths_and_vectors(root_path)"
   ]
  },
  {
   "cell_type": "code",
   "execution_count": null,
   "id": "67a34024",
   "metadata": {},
   "outputs": [],
   "source": [
    "# Calculating inter-label distances and writing to disk\n",
    "# Processing was able to be done using 20 GB of memory, required ~2-3 hours to process\n",
    "dm.calculate_inter_distances(unique_names, all_paths, vectors, distances_stem)"
   ]
  },
  {
   "cell_type": "code",
   "execution_count": null,
   "id": "6203dee0",
   "metadata": {},
   "outputs": [],
   "source": [
    "# Grab all paths of inter-label json batches\n",
    "inter_df_jsons = dm.get_batch_paths(distances_stem, '.json', root = '../data/vectorized')"
   ]
  },
  {
   "cell_type": "code",
   "execution_count": null,
   "id": "552d2cf5",
   "metadata": {},
   "outputs": [],
   "source": [
    "# Process into batch csvs\n",
    "# This processing was able to be done with 20 GB of memory\n",
    "dm.write_inter_batch_frames(inter_df_jsons, distances_stem)"
   ]
  },
  {
   "cell_type": "code",
   "execution_count": null,
   "id": "18537c25",
   "metadata": {},
   "outputs": [],
   "source": [
    "# Verifying correct counts for each label\n",
    "pair_df_counts = dm.confirm_inter_distance_counts(distances_stem, vector_leaf)\n",
    "pair_df_counts.loc[pair_df_counts.proper_count == False]"
   ]
  },
  {
   "cell_type": "markdown",
   "id": "b4e0251a",
   "metadata": {},
   "source": [
    "## Intra- and Inter-Distances for Random Sample"
   ]
  },
  {
   "cell_type": "markdown",
   "id": "0467b1b9",
   "metadata": {},
   "source": [
    "### Intra-Distances for Random Sample"
   ]
  },
  {
   "cell_type": "code",
   "execution_count": 4,
   "id": "a2c76175",
   "metadata": {},
   "outputs": [],
   "source": [
    "root_path = '../data/vectorized/random_sample'\n",
    "json_path = '../data/vectorized/random_sample_intra_distances.json'"
   ]
  },
  {
   "cell_type": "code",
   "execution_count": 5,
   "id": "1d3cb872",
   "metadata": {},
   "outputs": [],
   "source": [
    "# Grab all unique names, vector paths, and load vectors into memory\n",
    "unique_names = utils.get_unique_names(root_path)\n",
    "all_paths, vectors = dm.get_all_paths_and_vectors(root_path)"
   ]
  },
  {
   "cell_type": "code",
   "execution_count": 6,
   "id": "18408a57",
   "metadata": {},
   "outputs": [
    {
     "name": "stdout",
     "output_type": "stream",
     "text": [
      "Calculating intra-label distances for Akbar_Hashemi_Rafsanjani\n",
      "Appending inter-label distances for Akbar_Hashemi_Rafsanjani to dictionary\n",
      "Calculating intra-label distances for Alexander_Downer\n",
      "Appending inter-label distances for Alexander_Downer to dictionary\n",
      "Calculating intra-label distances for Alexander_Losyukov\n",
      "Appending inter-label distances for Alexander_Losyukov to dictionary\n",
      "Calculating intra-label distances for Alexandra_Stevenson\n",
      "Appending inter-label distances for Alexandra_Stevenson to dictionary\n",
      "Calculating intra-label distances for Amer_al-Saadi\n",
      "Appending inter-label distances for Amer_al-Saadi to dictionary\n",
      "Calculating intra-label distances for Anders_Fogh_Rasmussen\n",
      "Appending inter-label distances for Anders_Fogh_Rasmussen to dictionary\n",
      "Calculating intra-label distances for Angelo_Reyes\n",
      "Appending inter-label distances for Angelo_Reyes to dictionary\n",
      "Calculating intra-label distances for Anne_Krueger\n",
      "Appending inter-label distances for Anne_Krueger to dictionary\n",
      "Calculating intra-label distances for Antony_Leung\n",
      "Appending inter-label distances for Antony_Leung to dictionary\n",
      "Calculating intra-label distances for Arnold_Palmer\n",
      "Appending inter-label distances for Arnold_Palmer to dictionary\n",
      "Calculating intra-label distances for Ashton_Kutcher\n",
      "Appending inter-label distances for Ashton_Kutcher to dictionary\n",
      "Calculating intra-label distances for Augustin_Calleri\n",
      "Appending inter-label distances for Augustin_Calleri to dictionary\n",
      "Calculating intra-label distances for Bashar_Assad\n",
      "Appending inter-label distances for Bashar_Assad to dictionary\n",
      "Calculating intra-label distances for Biljana_Plavsic\n",
      "Appending inter-label distances for Biljana_Plavsic to dictionary\n",
      "Calculating intra-label distances for Bill_Callahan\n",
      "Appending inter-label distances for Bill_Callahan to dictionary\n",
      "Calculating intra-label distances for Brad_Garrett\n",
      "Appending inter-label distances for Brad_Garrett to dictionary\n",
      "Calculating intra-label distances for Carlos_Manuel_Pruneda\n",
      "Appending inter-label distances for Carlos_Manuel_Pruneda to dictionary\n",
      "Calculating intra-label distances for Carlos_Vives\n",
      "Appending inter-label distances for Carlos_Vives to dictionary\n",
      "Calculating intra-label distances for Caroline_Kennedy\n",
      "Appending inter-label distances for Caroline_Kennedy to dictionary\n",
      "Calculating intra-label distances for Carson_Palmer\n",
      "Appending inter-label distances for Carson_Palmer to dictionary\n",
      "Calculating intra-label distances for Charles_Bronson\n",
      "Appending inter-label distances for Charles_Bronson to dictionary\n",
      "Calculating intra-label distances for Chick_Hearn\n",
      "Appending inter-label distances for Chick_Hearn to dictionary\n",
      "Calculating intra-label distances for Christian_Longo\n",
      "Appending inter-label distances for Christian_Longo to dictionary\n",
      "Calculating intra-label distances for Christopher_Reeve\n",
      "Appending inter-label distances for Christopher_Reeve to dictionary\n",
      "Calculating intra-label distances for Cindy_Crawford\n",
      "Appending inter-label distances for Cindy_Crawford to dictionary\n",
      "Calculating intra-label distances for Claire_Danes\n",
      "Appending inter-label distances for Claire_Danes to dictionary\n",
      "Calculating intra-label distances for Clare_Short\n",
      "Appending inter-label distances for Clare_Short to dictionary\n",
      "Calculating intra-label distances for Conan_OBrien\n",
      "Appending inter-label distances for Conan_OBrien to dictionary\n",
      "Calculating intra-label distances for Dale_Earnhardt_Jr\n",
      "Appending inter-label distances for Dale_Earnhardt_Jr to dictionary\n",
      "Calculating intra-label distances for David_Caruso\n",
      "Appending inter-label distances for David_Caruso to dictionary\n",
      "Calculating intra-label distances for David_Stern\n",
      "Appending inter-label distances for David_Stern to dictionary\n",
      "Calculating intra-label distances for Dean_Barkley\n",
      "Appending inter-label distances for Dean_Barkley to dictionary\n",
      "Calculating intra-label distances for Debbie_Reynolds\n",
      "Appending inter-label distances for Debbie_Reynolds to dictionary\n",
      "Calculating intra-label distances for Demi_Moore\n",
      "Appending inter-label distances for Demi_Moore to dictionary\n",
      "Calculating intra-label distances for Derek_Jeter\n",
      "Appending inter-label distances for Derek_Jeter to dictionary\n",
      "Calculating intra-label distances for Diana_Munz\n",
      "Appending inter-label distances for Diana_Munz to dictionary\n",
      "Calculating intra-label distances for Dick_Clark\n",
      "Appending inter-label distances for Dick_Clark to dictionary\n",
      "Calculating intra-label distances for Donald_Fehr\n",
      "Appending inter-label distances for Donald_Fehr to dictionary\n",
      "Calculating intra-label distances for Doris_Roberts\n",
      "Appending inter-label distances for Doris_Roberts to dictionary\n",
      "Calculating intra-label distances for Edmund_Hillary\n",
      "Appending inter-label distances for Edmund_Hillary to dictionary\n",
      "Calculating intra-label distances for Edwin_Edwards\n",
      "Appending inter-label distances for Edwin_Edwards to dictionary\n",
      "Calculating intra-label distances for Eileen_Coparropa\n",
      "Appending inter-label distances for Eileen_Coparropa to dictionary\n",
      "Calculating intra-label distances for Elena_Bovina\n",
      "Appending inter-label distances for Elena_Bovina to dictionary\n",
      "Calculating intra-label distances for Elijah_Wood\n",
      "Appending inter-label distances for Elijah_Wood to dictionary\n",
      "Calculating intra-label distances for Emma_Thompson\n",
      "Appending inter-label distances for Emma_Thompson to dictionary\n",
      "Calculating intra-label distances for Evan_Rachel_Wood\n",
      "Appending inter-label distances for Evan_Rachel_Wood to dictionary\n",
      "Calculating intra-label distances for Farouk_al-Sharaa\n",
      "Appending inter-label distances for Farouk_al-Sharaa to dictionary\n",
      "Calculating intra-label distances for Fayssal_Mekdad\n",
      "Appending inter-label distances for Fayssal_Mekdad to dictionary\n",
      "Calculating intra-label distances for Felipe_Perez_Roque\n",
      "Appending inter-label distances for Felipe_Perez_Roque to dictionary\n",
      "Calculating intra-label distances for Filippo_Inzaghi\n",
      "Appending inter-label distances for Filippo_Inzaghi to dictionary\n",
      "Calculating intra-label distances for Francisco_Flores\n",
      "Appending inter-label distances for Francisco_Flores to dictionary\n",
      "Calculating intra-label distances for Frank_Cassell\n",
      "Appending inter-label distances for Frank_Cassell to dictionary\n",
      "Calculating intra-label distances for Franz_Muentefering\n",
      "Appending inter-label distances for Franz_Muentefering to dictionary\n",
      "Calculating intra-label distances for Fred_Eckhard\n",
      "Appending inter-label distances for Fred_Eckhard to dictionary\n",
      "Calculating intra-label distances for George_Galloway\n",
      "Appending inter-label distances for George_Galloway to dictionary\n",
      "Calculating intra-label distances for George_Papandreou\n",
      "Appending inter-label distances for George_Papandreou to dictionary\n",
      "Calculating intra-label distances for George_Ryan\n",
      "Appending inter-label distances for George_Ryan to dictionary\n",
      "Calculating intra-label distances for George_Voinovich\n",
      "Appending inter-label distances for George_Voinovich to dictionary\n",
      "Calculating intra-label distances for Geraldine_Chaplin\n",
      "Appending inter-label distances for Geraldine_Chaplin to dictionary\n",
      "Calculating intra-label distances for Gianna_Angelopoulos-Daskalaki\n",
      "Appending inter-label distances for Gianna_Angelopoulos-Daskalaki to dictionary\n",
      "Calculating intra-label distances for Greg_Rusedski\n",
      "Appending inter-label distances for Greg_Rusedski to dictionary\n",
      "Calculating intra-label distances for Gustavo_Kuerten\n",
      "Appending inter-label distances for Gustavo_Kuerten to dictionary\n",
      "Calculating intra-label distances for Heidi_Fleiss\n",
      "Appending inter-label distances for Heidi_Fleiss to dictionary\n",
      "Calculating intra-label distances for Heinz_Feldmann\n",
      "Appending inter-label distances for Heinz_Feldmann to dictionary\n",
      "Calculating intra-label distances for Hilary_Duff\n",
      "Appending inter-label distances for Hilary_Duff to dictionary\n",
      "Calculating intra-label distances for Horst_Koehler\n",
      "Appending inter-label distances for Horst_Koehler to dictionary\n",
      "Calculating intra-label distances for Ian_McKellen\n",
      "Appending inter-label distances for Ian_McKellen to dictionary\n",
      "Calculating intra-label distances for Intisar_Ajouri\n",
      "Appending inter-label distances for Intisar_Ajouri to dictionary\n",
      "Calculating intra-label distances for Isabella_Rossellini\n",
      "Appending inter-label distances for Isabella_Rossellini to dictionary\n",
      "Calculating intra-label distances for James_Caan\n",
      "Appending inter-label distances for James_Caan to dictionary\n",
      "Calculating intra-label distances for James_Gandolfini\n",
      "Appending inter-label distances for James_Gandolfini to dictionary\n",
      "Calculating intra-label distances for Janet_Napolitano\n",
      "Appending inter-label distances for Janet_Napolitano to dictionary\n",
      "Calculating intra-label distances for Jayson_Williams\n",
      "Appending inter-label distances for Jayson_Williams to dictionary\n",
      "Calculating intra-label distances for Jennifer_Keller\n",
      "Appending inter-label distances for Jennifer_Keller to dictionary\n",
      "Calculating intra-label distances for Jerry_Regier\n",
      "Appending inter-label distances for Jerry_Regier to dictionary\n",
      "Calculating intra-label distances for Jerry_Springer\n",
      "Appending inter-label distances for Jerry_Springer to dictionary\n",
      "Calculating intra-label distances for Jesse_Harris\n",
      "Appending inter-label distances for Jesse_Harris to dictionary\n",
      "Calculating intra-label distances for Jesse_Ventura\n",
      "Appending inter-label distances for Jesse_Ventura to dictionary\n",
      "Calculating intra-label distances for Jodie_Foster\n",
      "Appending inter-label distances for Jodie_Foster to dictionary\n",
      "Calculating intra-label distances for Joe_Torre\n",
      "Appending inter-label distances for Joe_Torre to dictionary\n",
      "Calculating intra-label distances for John_Mayer\n",
      "Appending inter-label distances for John_Mayer to dictionary\n",
      "Calculating intra-label distances for John_Rosa\n",
      "Appending inter-label distances for John_Rosa to dictionary\n",
      "Calculating intra-label distances for John_Swofford\n",
      "Appending inter-label distances for John_Swofford to dictionary\n",
      "Calculating intra-label distances for John_Warner\n",
      "Appending inter-label distances for John_Warner to dictionary\n",
      "Calculating intra-label distances for Jong_Wook_Lee\n",
      "Appending inter-label distances for Jong_Wook_Lee to dictionary\n",
      "Calculating intra-label distances for Joseph_Estrada\n",
      "Appending inter-label distances for Joseph_Estrada to dictionary\n",
      "Calculating intra-label distances for Juan_Ignacio_Chela\n",
      "Appending inter-label distances for Juan_Ignacio_Chela to dictionary\n",
      "Calculating intra-label distances for Justin_Guarini\n",
      "Appending inter-label distances for Justin_Guarini to dictionary\n",
      "Calculating intra-label distances for Justin_Leonard\n",
      "Appending inter-label distances for Justin_Leonard to dictionary\n",
      "Calculating intra-label distances for Kate_Winslet\n",
      "Appending inter-label distances for Kate_Winslet to dictionary\n",
      "Calculating intra-label distances for Katherine_Harris\n",
      "Appending inter-label distances for Katherine_Harris to dictionary\n",
      "Calculating intra-label distances for Kathleen_Kennedy_Townsend\n",
      "Appending inter-label distances for Kathleen_Kennedy_Townsend to dictionary\n",
      "Calculating intra-label distances for Keith_Bogans\n",
      "Appending inter-label distances for Keith_Bogans to dictionary\n",
      "Calculating intra-label distances for Kelly_Clarkson\n",
      "Appending inter-label distances for Kelly_Clarkson to dictionary\n",
      "Calculating intra-label distances for Kemal_Dervis\n",
      "Appending inter-label distances for Kemal_Dervis to dictionary\n",
      "Calculating intra-label distances for Kim_Jong-Il\n",
      "Appending inter-label distances for Kim_Jong-Il to dictionary\n",
      "Calculating intra-label distances for Kim_Yong-il\n",
      "Appending inter-label distances for Kim_Yong-il to dictionary\n",
      "Calculating intra-label distances for Kobe_Bryant\n",
      "Appending inter-label distances for Kobe_Bryant to dictionary\n",
      "Calculating intra-label distances for Kwon_Yang-sook\n",
      "Appending inter-label distances for Kwon_Yang-sook to dictionary\n",
      "Calculating intra-label distances for Larry_Coker\n",
      "Appending inter-label distances for Larry_Coker to dictionary\n",
      "Calculating intra-label distances for Lars_Von_Trier\n",
      "Appending inter-label distances for Lars_Von_Trier to dictionary\n",
      "Calculating intra-label distances for Lee_Hoi-chang\n",
      "Appending inter-label distances for Lee_Hoi-chang to dictionary\n",
      "Calculating intra-label distances for Lee_Soo-hyuck\n",
      "Appending inter-label distances for Lee_Soo-hyuck to dictionary\n",
      "Calculating intra-label distances for Leslie_Caldwell\n",
      "Appending inter-label distances for Leslie_Caldwell to dictionary\n",
      "Calculating intra-label distances for Leszek_Miller\n",
      "Appending inter-label distances for Leszek_Miller to dictionary\n",
      "Calculating intra-label distances for Lino_Oviedo\n",
      "Appending inter-label distances for Lino_Oviedo to dictionary\n",
      "Calculating intra-label distances for Magdalena_Maleeva\n",
      "Appending inter-label distances for Magdalena_Maleeva to dictionary\n",
      "Calculating intra-label distances for Makhdoom_Amin_Fahim\n",
      "Appending inter-label distances for Makhdoom_Amin_Fahim to dictionary\n",
      "Calculating intra-label distances for Marat_Safin\n",
      "Appending inter-label distances for Marat_Safin to dictionary\n",
      "Calculating intra-label distances for Marc_Grossman\n",
      "Appending inter-label distances for Marc_Grossman to dictionary\n",
      "Calculating intra-label distances for Mariangel_Ruiz_Torrealba\n",
      "Appending inter-label distances for Mariangel_Ruiz_Torrealba to dictionary\n",
      "Calculating intra-label distances for Marieta_Chrousala\n",
      "Appending inter-label distances for Marieta_Chrousala to dictionary\n",
      "Calculating intra-label distances for Mark_Gottfried\n",
      "Appending inter-label distances for Mark_Gottfried to dictionary\n",
      "Calculating intra-label distances for Martin_Verkerk\n",
      "Appending inter-label distances for Martin_Verkerk to dictionary\n",
      "Calculating intra-label distances for Mathias_Reichhold\n",
      "Appending inter-label distances for Mathias_Reichhold to dictionary\n",
      "Calculating intra-label distances for Megan_Mullally\n",
      "Appending inter-label distances for Megan_Mullally to dictionary\n",
      "Calculating intra-label distances for Michael_Caine\n",
      "Appending inter-label distances for Michael_Caine to dictionary\n",
      "Calculating intra-label distances for Michael_Jordan\n",
      "Appending inter-label distances for Michael_Jordan to dictionary\n",
      "Calculating intra-label distances for Michael_Moore\n",
      "Appending inter-label distances for Michael_Moore to dictionary\n",
      "Calculating intra-label distances for Mike_Tyson\n",
      "Appending inter-label distances for Mike_Tyson to dictionary\n",
      "Calculating intra-label distances for Mikhail_Youzhny\n",
      "Appending inter-label distances for Mikhail_Youzhny to dictionary\n",
      "Calculating intra-label distances for Mohammed_Baqir_al-Hakim\n",
      "Appending inter-label distances for Mohammed_Baqir_al-Hakim to dictionary\n",
      "Calculating intra-label distances for Monica_Bellucci\n",
      "Appending inter-label distances for Monica_Bellucci to dictionary\n",
      "Calculating intra-label distances for Monica_Lewinsky\n",
      "Appending inter-label distances for Monica_Lewinsky to dictionary\n",
      "Calculating intra-label distances for Naoto_Kan\n",
      "Appending inter-label distances for Naoto_Kan to dictionary\n",
      "Calculating intra-label distances for Natasha_McElhone\n",
      "Appending inter-label distances for Natasha_McElhone to dictionary\n",
      "Calculating intra-label distances for Nathalie_Baye\n",
      "Appending inter-label distances for Nathalie_Baye to dictionary\n",
      "Calculating intra-label distances for Noah_Wyle\n",
      "Appending inter-label distances for Noah_Wyle to dictionary\n",
      "Calculating intra-label distances for Omar_Sharif\n",
      "Appending inter-label distances for Omar_Sharif to dictionary\n",
      "Calculating intra-label distances for Oprah_Winfrey\n",
      "Appending inter-label distances for Oprah_Winfrey to dictionary\n",
      "Calculating intra-label distances for Osama_bin_Laden\n",
      "Appending inter-label distances for Osama_bin_Laden to dictionary\n",
      "Calculating intra-label distances for Oxana_Fedorova\n",
      "Appending inter-label distances for Oxana_Fedorova to dictionary\n",
      "Calculating intra-label distances for Pascal_Quignard\n",
      "Appending inter-label distances for Pascal_Quignard to dictionary\n",
      "Calculating intra-label distances for Patty_Schnyder\n",
      "Appending inter-label distances for Patty_Schnyder to dictionary\n",
      "Calculating intra-label distances for Paul-Henri_Mathieu\n",
      "Appending inter-label distances for Paul-Henri_Mathieu to dictionary\n",
      "Calculating intra-label distances for Paul_Shanley\n",
      "Appending inter-label distances for Paul_Shanley to dictionary\n",
      "Calculating intra-label distances for Penelope_Cruz\n",
      "Appending inter-label distances for Penelope_Cruz to dictionary\n",
      "Calculating intra-label distances for Peter_Arnett\n",
      "Appending inter-label distances for Peter_Arnett to dictionary\n",
      "Calculating intra-label distances for Petria_Thomas\n",
      "Appending inter-label distances for Petria_Thomas to dictionary\n",
      "Calculating intra-label distances for Pierre_Pettigrew\n",
      "Appending inter-label distances for Pierre_Pettigrew to dictionary\n",
      "Calculating intra-label distances for Prince_Harry\n"
     ]
    },
    {
     "name": "stdout",
     "output_type": "stream",
     "text": [
      "Appending inter-label distances for Prince_Harry to dictionary\n",
      "Calculating intra-label distances for Prince_Naruhito\n",
      "Appending inter-label distances for Prince_Naruhito to dictionary\n",
      "Calculating intra-label distances for Pupi_Avati\n",
      "Appending inter-label distances for Pupi_Avati to dictionary\n",
      "Calculating intra-label distances for Rachel_Griffiths\n",
      "Appending inter-label distances for Rachel_Griffiths to dictionary\n",
      "Calculating intra-label distances for Raoul_Ruiz\n",
      "Appending inter-label distances for Raoul_Ruiz to dictionary\n",
      "Calculating intra-label distances for Rick_Carlisle\n",
      "Appending inter-label distances for Rick_Carlisle to dictionary\n",
      "Calculating intra-label distances for Rick_Dinse\n",
      "Appending inter-label distances for Rick_Dinse to dictionary\n",
      "Calculating intra-label distances for Rick_Stansbury\n",
      "Appending inter-label distances for Rick_Stansbury to dictionary\n",
      "Calculating intra-label distances for Rita_Wilson\n",
      "Appending inter-label distances for Rita_Wilson to dictionary\n",
      "Calculating intra-label distances for Rob_Lowe\n",
      "Appending inter-label distances for Rob_Lowe to dictionary\n",
      "Calculating intra-label distances for Robert_Bonner\n",
      "Appending inter-label distances for Robert_Bonner to dictionary\n",
      "Calculating intra-label distances for Roy_Williams\n",
      "Appending inter-label distances for Roy_Williams to dictionary\n",
      "Calculating intra-label distances for Sally_Field\n",
      "Appending inter-label distances for Sally_Field to dictionary\n",
      "Calculating intra-label distances for Salman_Rushdie\n",
      "Appending inter-label distances for Salman_Rushdie to dictionary\n",
      "Calculating intra-label distances for Sam_Torrance\n",
      "Appending inter-label distances for Sam_Torrance to dictionary\n",
      "Calculating intra-label distances for Sarah_Michelle_Gellar\n",
      "Appending inter-label distances for Sarah_Michelle_Gellar to dictionary\n",
      "Calculating intra-label distances for Shaul_Mofaz\n",
      "Appending inter-label distances for Shaul_Mofaz to dictionary\n",
      "Calculating intra-label distances for Sheila_Copps\n",
      "Appending inter-label distances for Sheila_Copps to dictionary\n",
      "Calculating intra-label distances for Stanley_McChrystal\n",
      "Appending inter-label distances for Stanley_McChrystal to dictionary\n",
      "Calculating intra-label distances for Steve_Ballmer\n",
      "Appending inter-label distances for Steve_Ballmer to dictionary\n",
      "Calculating intra-label distances for Taufik_Hidayat\n",
      "Appending inter-label distances for Taufik_Hidayat to dictionary\n",
      "Calculating intra-label distances for Theresa_May\n",
      "Appending inter-label distances for Theresa_May to dictionary\n",
      "Calculating intra-label distances for Thierry_Falise\n",
      "Appending inter-label distances for Thierry_Falise to dictionary\n",
      "Calculating intra-label distances for Thomas_Fargo\n",
      "Appending inter-label distances for Thomas_Fargo to dictionary\n",
      "Calculating intra-label distances for Tim_Duncan\n",
      "Appending inter-label distances for Tim_Duncan to dictionary\n",
      "Calculating intra-label distances for Tom_Craddick\n",
      "Appending inter-label distances for Tom_Craddick to dictionary\n",
      "Calculating intra-label distances for Tom_Reilly\n",
      "Appending inter-label distances for Tom_Reilly to dictionary\n",
      "Calculating intra-label distances for Tommy_Robredo\n",
      "Appending inter-label distances for Tommy_Robredo to dictionary\n",
      "Calculating intra-label distances for Toni_Braxton\n",
      "Appending inter-label distances for Toni_Braxton to dictionary\n",
      "Calculating intra-label distances for Tony_Bennett\n",
      "Appending inter-label distances for Tony_Bennett to dictionary\n",
      "Calculating intra-label distances for Tony_Shalhoub\n",
      "Appending inter-label distances for Tony_Shalhoub to dictionary\n",
      "Calculating intra-label distances for Vince_Carter\n",
      "Appending inter-label distances for Vince_Carter to dictionary\n",
      "Calculating intra-label distances for Vincent_Gallo\n",
      "Appending inter-label distances for Vincent_Gallo to dictionary\n",
      "Calculating intra-label distances for Wayne_Gretzky\n",
      "Appending inter-label distances for Wayne_Gretzky to dictionary\n",
      "Calculating intra-label distances for William_Bulger\n",
      "Appending inter-label distances for William_Bulger to dictionary\n",
      "Calculating intra-label distances for Wu_Yi\n",
      "Appending inter-label distances for Wu_Yi to dictionary\n",
      "Calculating intra-label distances for Zhang_Ziyi\n",
      "Appending inter-label distances for Zhang_Ziyi to dictionary\n",
      "Calculating intra-label distances for Zoran_Djindjic\n",
      "Appending inter-label distances for Zoran_Djindjic to dictionary\n"
     ]
    }
   ],
   "source": [
    "# Calculate intra-label distances and write to disk\n",
    "dm.calculate_intra_distances(unique_names, all_paths, vectors, json_path)"
   ]
  },
  {
   "cell_type": "code",
   "execution_count": 7,
   "id": "a655718f",
   "metadata": {},
   "outputs": [],
   "source": [
    "# Read intra-label distances from disk and place into dataframe\n",
    "intra_df = utils.load_json_into_frame(json_path)"
   ]
  },
  {
   "cell_type": "code",
   "execution_count": 8,
   "id": "d5ef02ac",
   "metadata": {},
   "outputs": [
    {
     "data": {
      "text/html": [
       "<div>\n",
       "<style scoped>\n",
       "    .dataframe tbody tr th:only-of-type {\n",
       "        vertical-align: middle;\n",
       "    }\n",
       "\n",
       "    .dataframe tbody tr th {\n",
       "        vertical-align: top;\n",
       "    }\n",
       "\n",
       "    .dataframe thead th {\n",
       "        text-align: right;\n",
       "    }\n",
       "</style>\n",
       "<table border=\"1\" class=\"dataframe\">\n",
       "  <thead>\n",
       "    <tr style=\"text-align: right;\">\n",
       "      <th></th>\n",
       "      <th>name</th>\n",
       "      <th>counts</th>\n",
       "      <th>correct_counts</th>\n",
       "      <th>proper_count</th>\n",
       "    </tr>\n",
       "  </thead>\n",
       "  <tbody>\n",
       "  </tbody>\n",
       "</table>\n",
       "</div>"
      ],
      "text/plain": [
       "Empty DataFrame\n",
       "Columns: [name, counts, correct_counts, proper_count]\n",
       "Index: []"
      ]
     },
     "execution_count": 8,
     "metadata": {},
     "output_type": "execute_result"
    }
   ],
   "source": [
    "# Verifying correct counts for each label\n",
    "all_paths = utils.get_all_paths(root_path)\n",
    "intra_df_counts = dm.confirm_intra_distance_counts(intra_df, all_paths)\n",
    "intra_df_counts.loc[intra_df_counts.proper_count == False]"
   ]
  },
  {
   "cell_type": "code",
   "execution_count": 9,
   "id": "e649c745",
   "metadata": {},
   "outputs": [],
   "source": [
    "# Writing intra-label l2 distances to separate csv for further use\n",
    "l2_csv_path = '../data/vectorized/random_sample_intra_distances_l2.csv'\n",
    "intra_l2_df = dm.get_distance_df(intra_df, 'l2_distances')\n",
    "intra_l2_df.to_csv(l2_csv_path, index = False)"
   ]
  },
  {
   "cell_type": "code",
   "execution_count": 10,
   "id": "e1492431",
   "metadata": {},
   "outputs": [],
   "source": [
    "# Writing intra-label cosine distances to separate csv for further use\n",
    "cos_csv_path = '../data/vectorized/random_sample_intra_distances_cos.csv'\n",
    "intra_cos_df = dm.get_distance_df(intra_df, 'cosine_distances')\n",
    "intra_cos_df.to_csv(cos_csv_path, index = False)"
   ]
  },
  {
   "cell_type": "markdown",
   "id": "966d65da",
   "metadata": {},
   "source": [
    "### Inter-Distances for Random Sample"
   ]
  },
  {
   "cell_type": "code",
   "execution_count": 112,
   "id": "1358f701",
   "metadata": {},
   "outputs": [],
   "source": [
    "root_path = '../data/vectorized/random_sample'\n",
    "distances_stem = '../data/vectorized/random_sample_inter_distances'\n",
    "vector_leaf = '-random_sample'"
   ]
  },
  {
   "cell_type": "code",
   "execution_count": 113,
   "id": "7c788f12",
   "metadata": {},
   "outputs": [],
   "source": [
    "# Grab all unique names, vector paths, and load vectors into memory\n",
    "unique_names = utils.get_unique_names(root_path)\n",
    "all_paths, vectors = dm.get_all_paths_and_vectors(root_path)"
   ]
  },
  {
   "cell_type": "code",
   "execution_count": 114,
   "id": "f4305c9d",
   "metadata": {},
   "outputs": [
    {
     "name": "stdout",
     "output_type": "stream",
     "text": [
      "Calculating inter-label distances for Akbar_Hashemi_Rafsanjani\n",
      "Appending inter-label distances for Akbar_Hashemi_Rafsanjani to dictionary\n",
      "Calculating inter-label distances for Alexander_Downer\n",
      "Appending inter-label distances for Alexander_Downer to dictionary\n",
      "Calculating inter-label distances for Alexander_Losyukov\n",
      "Appending inter-label distances for Alexander_Losyukov to dictionary\n",
      "Calculating inter-label distances for Alexandra_Stevenson\n",
      "Appending inter-label distances for Alexandra_Stevenson to dictionary\n",
      "Calculating inter-label distances for Amer_al-Saadi\n",
      "Appending inter-label distances for Amer_al-Saadi to dictionary\n",
      "Calculating inter-label distances for Anders_Fogh_Rasmussen\n",
      "Appending inter-label distances for Anders_Fogh_Rasmussen to dictionary\n",
      "Calculating inter-label distances for Angelo_Reyes\n",
      "Appending inter-label distances for Angelo_Reyes to dictionary\n",
      "Calculating inter-label distances for Anne_Krueger\n",
      "Appending inter-label distances for Anne_Krueger to dictionary\n",
      "Calculating inter-label distances for Antony_Leung\n",
      "Appending inter-label distances for Antony_Leung to dictionary\n",
      "Calculating inter-label distances for Arnold_Palmer\n",
      "Appending inter-label distances for Arnold_Palmer to dictionary\n",
      "Calculating inter-label distances for Ashton_Kutcher\n",
      "Appending inter-label distances for Ashton_Kutcher to dictionary\n",
      "Calculating inter-label distances for Augustin_Calleri\n",
      "Appending inter-label distances for Augustin_Calleri to dictionary\n",
      "Calculating inter-label distances for Bashar_Assad\n",
      "Appending inter-label distances for Bashar_Assad to dictionary\n",
      "Calculating inter-label distances for Biljana_Plavsic\n",
      "Appending inter-label distances for Biljana_Plavsic to dictionary\n",
      "Calculating inter-label distances for Bill_Callahan\n",
      "Appending inter-label distances for Bill_Callahan to dictionary\n",
      "Calculating inter-label distances for Brad_Garrett\n",
      "Appending inter-label distances for Brad_Garrett to dictionary\n",
      "Calculating inter-label distances for Carlos_Manuel_Pruneda\n",
      "Appending inter-label distances for Carlos_Manuel_Pruneda to dictionary\n",
      "Calculating inter-label distances for Carlos_Vives\n",
      "Appending inter-label distances for Carlos_Vives to dictionary\n",
      "Calculating inter-label distances for Caroline_Kennedy\n",
      "Appending inter-label distances for Caroline_Kennedy to dictionary\n",
      "Calculating inter-label distances for Carson_Palmer\n",
      "Appending inter-label distances for Carson_Palmer to dictionary\n",
      "Calculating inter-label distances for Charles_Bronson\n",
      "Appending inter-label distances for Charles_Bronson to dictionary\n",
      "Calculating inter-label distances for Chick_Hearn\n",
      "Appending inter-label distances for Chick_Hearn to dictionary\n",
      "Calculating inter-label distances for Christian_Longo\n",
      "Appending inter-label distances for Christian_Longo to dictionary\n",
      "Calculating inter-label distances for Christopher_Reeve\n",
      "Appending inter-label distances for Christopher_Reeve to dictionary\n",
      "Calculating inter-label distances for Cindy_Crawford\n",
      "Appending inter-label distances for Cindy_Crawford to dictionary\n",
      "Calculating inter-label distances for Claire_Danes\n",
      "Appending inter-label distances for Claire_Danes to dictionary\n",
      "Calculating inter-label distances for Clare_Short\n",
      "Appending inter-label distances for Clare_Short to dictionary\n",
      "Calculating inter-label distances for Conan_OBrien\n",
      "Appending inter-label distances for Conan_OBrien to dictionary\n",
      "Calculating inter-label distances for Dale_Earnhardt_Jr\n",
      "Appending inter-label distances for Dale_Earnhardt_Jr to dictionary\n",
      "Calculating inter-label distances for David_Caruso\n",
      "Appending inter-label distances for David_Caruso to dictionary\n",
      "Calculating inter-label distances for David_Stern\n",
      "Appending inter-label distances for David_Stern to dictionary\n",
      "Calculating inter-label distances for Dean_Barkley\n",
      "Appending inter-label distances for Dean_Barkley to dictionary\n",
      "Calculating inter-label distances for Debbie_Reynolds\n",
      "Appending inter-label distances for Debbie_Reynolds to dictionary\n",
      "Calculating inter-label distances for Demi_Moore\n",
      "Appending inter-label distances for Demi_Moore to dictionary\n",
      "Calculating inter-label distances for Derek_Jeter\n",
      "Appending inter-label distances for Derek_Jeter to dictionary\n",
      "Calculating inter-label distances for Diana_Munz\n",
      "Appending inter-label distances for Diana_Munz to dictionary\n",
      "Calculating inter-label distances for Dick_Clark\n",
      "Appending inter-label distances for Dick_Clark to dictionary\n",
      "Calculating inter-label distances for Donald_Fehr\n",
      "Appending inter-label distances for Donald_Fehr to dictionary\n",
      "Calculating inter-label distances for Doris_Roberts\n",
      "Appending inter-label distances for Doris_Roberts to dictionary\n",
      "Calculating inter-label distances for Edmund_Hillary\n",
      "Appending inter-label distances for Edmund_Hillary to dictionary\n",
      "Calculating inter-label distances for Edwin_Edwards\n",
      "Appending inter-label distances for Edwin_Edwards to dictionary\n",
      "Calculating inter-label distances for Eileen_Coparropa\n",
      "Appending inter-label distances for Eileen_Coparropa to dictionary\n",
      "Calculating inter-label distances for Elena_Bovina\n",
      "Appending inter-label distances for Elena_Bovina to dictionary\n",
      "Calculating inter-label distances for Elijah_Wood\n",
      "Appending inter-label distances for Elijah_Wood to dictionary\n",
      "Calculating inter-label distances for Emma_Thompson\n",
      "Appending inter-label distances for Emma_Thompson to dictionary\n",
      "Calculating inter-label distances for Evan_Rachel_Wood\n",
      "Appending inter-label distances for Evan_Rachel_Wood to dictionary\n",
      "Calculating inter-label distances for Farouk_al-Sharaa\n",
      "Appending inter-label distances for Farouk_al-Sharaa to dictionary\n",
      "Calculating inter-label distances for Fayssal_Mekdad\n",
      "Appending inter-label distances for Fayssal_Mekdad to dictionary\n",
      "Calculating inter-label distances for Felipe_Perez_Roque\n",
      "Appending inter-label distances for Felipe_Perez_Roque to dictionary\n",
      "Calculating inter-label distances for Filippo_Inzaghi\n",
      "Appending inter-label distances for Filippo_Inzaghi to dictionary\n",
      "Calculating inter-label distances for Francisco_Flores\n",
      "Appending inter-label distances for Francisco_Flores to dictionary\n",
      "Calculating inter-label distances for Frank_Cassell\n",
      "Appending inter-label distances for Frank_Cassell to dictionary\n",
      "Calculating inter-label distances for Franz_Muentefering\n",
      "Appending inter-label distances for Franz_Muentefering to dictionary\n",
      "Calculating inter-label distances for Fred_Eckhard\n",
      "Appending inter-label distances for Fred_Eckhard to dictionary\n",
      "Calculating inter-label distances for George_Galloway\n",
      "Appending inter-label distances for George_Galloway to dictionary\n",
      "Calculating inter-label distances for George_Papandreou\n",
      "Appending inter-label distances for George_Papandreou to dictionary\n",
      "Calculating inter-label distances for George_Ryan\n",
      "Appending inter-label distances for George_Ryan to dictionary\n",
      "Calculating inter-label distances for George_Voinovich\n",
      "Appending inter-label distances for George_Voinovich to dictionary\n",
      "Calculating inter-label distances for Geraldine_Chaplin\n",
      "Appending inter-label distances for Geraldine_Chaplin to dictionary\n",
      "Calculating inter-label distances for Gianna_Angelopoulos-Daskalaki\n",
      "Appending inter-label distances for Gianna_Angelopoulos-Daskalaki to dictionary\n",
      "Calculating inter-label distances for Greg_Rusedski\n",
      "Appending inter-label distances for Greg_Rusedski to dictionary\n",
      "Calculating inter-label distances for Gustavo_Kuerten\n",
      "Appending inter-label distances for Gustavo_Kuerten to dictionary\n",
      "Calculating inter-label distances for Heidi_Fleiss\n",
      "Appending inter-label distances for Heidi_Fleiss to dictionary\n",
      "Calculating inter-label distances for Heinz_Feldmann\n",
      "Appending inter-label distances for Heinz_Feldmann to dictionary\n",
      "Calculating inter-label distances for Hilary_Duff\n",
      "Appending inter-label distances for Hilary_Duff to dictionary\n",
      "Calculating inter-label distances for Horst_Koehler\n",
      "Appending inter-label distances for Horst_Koehler to dictionary\n",
      "Calculating inter-label distances for Ian_McKellen\n",
      "Appending inter-label distances for Ian_McKellen to dictionary\n",
      "Calculating inter-label distances for Intisar_Ajouri\n",
      "Appending inter-label distances for Intisar_Ajouri to dictionary\n",
      "Calculating inter-label distances for Isabella_Rossellini\n",
      "Appending inter-label distances for Isabella_Rossellini to dictionary\n",
      "Calculating inter-label distances for James_Caan\n",
      "Appending inter-label distances for James_Caan to dictionary\n",
      "Calculating inter-label distances for James_Gandolfini\n",
      "Appending inter-label distances for James_Gandolfini to dictionary\n",
      "Calculating inter-label distances for Janet_Napolitano\n",
      "Appending inter-label distances for Janet_Napolitano to dictionary\n",
      "Calculating inter-label distances for Jayson_Williams\n",
      "Appending inter-label distances for Jayson_Williams to dictionary\n",
      "Calculating inter-label distances for Jennifer_Keller\n"
     ]
    },
    {
     "name": "stdout",
     "output_type": "stream",
     "text": [
      "Appending inter-label distances for Jennifer_Keller to dictionary\n",
      "Calculating inter-label distances for Jerry_Regier\n",
      "Appending inter-label distances for Jerry_Regier to dictionary\n",
      "Calculating inter-label distances for Jerry_Springer\n",
      "Appending inter-label distances for Jerry_Springer to dictionary\n",
      "Calculating inter-label distances for Jesse_Harris\n",
      "Appending inter-label distances for Jesse_Harris to dictionary\n",
      "Calculating inter-label distances for Jesse_Ventura\n",
      "Appending inter-label distances for Jesse_Ventura to dictionary\n",
      "Calculating inter-label distances for Jodie_Foster\n",
      "Appending inter-label distances for Jodie_Foster to dictionary\n",
      "Calculating inter-label distances for Joe_Torre\n",
      "Appending inter-label distances for Joe_Torre to dictionary\n",
      "Calculating inter-label distances for John_Mayer\n",
      "Appending inter-label distances for John_Mayer to dictionary\n",
      "Calculating inter-label distances for John_Rosa\n",
      "Appending inter-label distances for John_Rosa to dictionary\n",
      "Calculating inter-label distances for John_Swofford\n",
      "Appending inter-label distances for John_Swofford to dictionary\n",
      "Calculating inter-label distances for John_Warner\n",
      "Appending inter-label distances for John_Warner to dictionary\n",
      "Calculating inter-label distances for Jong_Wook_Lee\n",
      "Appending inter-label distances for Jong_Wook_Lee to dictionary\n",
      "Calculating inter-label distances for Joseph_Estrada\n",
      "Appending inter-label distances for Joseph_Estrada to dictionary\n",
      "Calculating inter-label distances for Juan_Ignacio_Chela\n",
      "Appending inter-label distances for Juan_Ignacio_Chela to dictionary\n",
      "Calculating inter-label distances for Justin_Guarini\n",
      "Appending inter-label distances for Justin_Guarini to dictionary\n",
      "Calculating inter-label distances for Justin_Leonard\n",
      "Appending inter-label distances for Justin_Leonard to dictionary\n",
      "Calculating inter-label distances for Kate_Winslet\n",
      "Appending inter-label distances for Kate_Winslet to dictionary\n",
      "Calculating inter-label distances for Katherine_Harris\n",
      "Appending inter-label distances for Katherine_Harris to dictionary\n",
      "Calculating inter-label distances for Kathleen_Kennedy_Townsend\n",
      "Appending inter-label distances for Kathleen_Kennedy_Townsend to dictionary\n",
      "Calculating inter-label distances for Keith_Bogans\n",
      "Appending inter-label distances for Keith_Bogans to dictionary\n",
      "Calculating inter-label distances for Kelly_Clarkson\n",
      "Appending inter-label distances for Kelly_Clarkson to dictionary\n",
      "Calculating inter-label distances for Kemal_Dervis\n",
      "Appending inter-label distances for Kemal_Dervis to dictionary\n",
      "Calculating inter-label distances for Kim_Jong-Il\n",
      "Appending inter-label distances for Kim_Jong-Il to dictionary\n",
      "Calculating inter-label distances for Kim_Yong-il\n",
      "Appending inter-label distances for Kim_Yong-il to dictionary\n",
      "Calculating inter-label distances for Kobe_Bryant\n",
      "Appending inter-label distances for Kobe_Bryant to dictionary\n",
      "Calculating inter-label distances for Kwon_Yang-sook\n",
      "Appending inter-label distances for Kwon_Yang-sook to dictionary\n",
      "Calculating inter-label distances for Larry_Coker\n",
      "Appending inter-label distances for Larry_Coker to dictionary\n",
      "Calculating inter-label distances for Lars_Von_Trier\n",
      "Appending inter-label distances for Lars_Von_Trier to dictionary\n",
      "Calculating inter-label distances for Lee_Hoi-chang\n",
      "Appending inter-label distances for Lee_Hoi-chang to dictionary\n",
      "Calculating inter-label distances for Lee_Soo-hyuck\n",
      "Appending inter-label distances for Lee_Soo-hyuck to dictionary\n",
      "Calculating inter-label distances for Leslie_Caldwell\n",
      "Appending inter-label distances for Leslie_Caldwell to dictionary\n",
      "Calculating inter-label distances for Leszek_Miller\n",
      "Appending inter-label distances for Leszek_Miller to dictionary\n",
      "Calculating inter-label distances for Lino_Oviedo\n",
      "Appending inter-label distances for Lino_Oviedo to dictionary\n",
      "Calculating inter-label distances for Magdalena_Maleeva\n",
      "Appending inter-label distances for Magdalena_Maleeva to dictionary\n",
      "Calculating inter-label distances for Makhdoom_Amin_Fahim\n",
      "Appending inter-label distances for Makhdoom_Amin_Fahim to dictionary\n",
      "Calculating inter-label distances for Marat_Safin\n",
      "Appending inter-label distances for Marat_Safin to dictionary\n",
      "Calculating inter-label distances for Marc_Grossman\n",
      "Appending inter-label distances for Marc_Grossman to dictionary\n",
      "Calculating inter-label distances for Mariangel_Ruiz_Torrealba\n",
      "Appending inter-label distances for Mariangel_Ruiz_Torrealba to dictionary\n",
      "Calculating inter-label distances for Marieta_Chrousala\n",
      "Appending inter-label distances for Marieta_Chrousala to dictionary\n",
      "Calculating inter-label distances for Mark_Gottfried\n",
      "Appending inter-label distances for Mark_Gottfried to dictionary\n",
      "Calculating inter-label distances for Martin_Verkerk\n",
      "Appending inter-label distances for Martin_Verkerk to dictionary\n",
      "Calculating inter-label distances for Mathias_Reichhold\n",
      "Appending inter-label distances for Mathias_Reichhold to dictionary\n",
      "Calculating inter-label distances for Megan_Mullally\n",
      "Appending inter-label distances for Megan_Mullally to dictionary\n",
      "Calculating inter-label distances for Michael_Caine\n",
      "Appending inter-label distances for Michael_Caine to dictionary\n",
      "Calculating inter-label distances for Michael_Jordan\n",
      "Appending inter-label distances for Michael_Jordan to dictionary\n",
      "Calculating inter-label distances for Michael_Moore\n",
      "Appending inter-label distances for Michael_Moore to dictionary\n",
      "Calculating inter-label distances for Mike_Tyson\n",
      "Appending inter-label distances for Mike_Tyson to dictionary\n",
      "Calculating inter-label distances for Mikhail_Youzhny\n",
      "Appending inter-label distances for Mikhail_Youzhny to dictionary\n",
      "Calculating inter-label distances for Mohammed_Baqir_al-Hakim\n",
      "Appending inter-label distances for Mohammed_Baqir_al-Hakim to dictionary\n",
      "Calculating inter-label distances for Monica_Bellucci\n",
      "Appending inter-label distances for Monica_Bellucci to dictionary\n",
      "Calculating inter-label distances for Monica_Lewinsky\n",
      "Appending inter-label distances for Monica_Lewinsky to dictionary\n",
      "Calculating inter-label distances for Naoto_Kan\n",
      "Appending inter-label distances for Naoto_Kan to dictionary\n",
      "Calculating inter-label distances for Natasha_McElhone\n",
      "Appending inter-label distances for Natasha_McElhone to dictionary\n",
      "Calculating inter-label distances for Nathalie_Baye\n",
      "Appending inter-label distances for Nathalie_Baye to dictionary\n",
      "Calculating inter-label distances for Noah_Wyle\n",
      "Appending inter-label distances for Noah_Wyle to dictionary\n",
      "Calculating inter-label distances for Omar_Sharif\n",
      "Appending inter-label distances for Omar_Sharif to dictionary\n",
      "Calculating inter-label distances for Oprah_Winfrey\n",
      "Appending inter-label distances for Oprah_Winfrey to dictionary\n",
      "Calculating inter-label distances for Osama_bin_Laden\n",
      "Appending inter-label distances for Osama_bin_Laden to dictionary\n",
      "Calculating inter-label distances for Oxana_Fedorova\n",
      "Appending inter-label distances for Oxana_Fedorova to dictionary\n",
      "Calculating inter-label distances for Pascal_Quignard\n",
      "Appending inter-label distances for Pascal_Quignard to dictionary\n",
      "Calculating inter-label distances for Patty_Schnyder\n",
      "Appending inter-label distances for Patty_Schnyder to dictionary\n",
      "Calculating inter-label distances for Paul-Henri_Mathieu\n",
      "Appending inter-label distances for Paul-Henri_Mathieu to dictionary\n",
      "Calculating inter-label distances for Paul_Shanley\n",
      "Appending inter-label distances for Paul_Shanley to dictionary\n",
      "Calculating inter-label distances for Penelope_Cruz\n",
      "Appending inter-label distances for Penelope_Cruz to dictionary\n",
      "Calculating inter-label distances for Peter_Arnett\n",
      "Appending inter-label distances for Peter_Arnett to dictionary\n",
      "Calculating inter-label distances for Petria_Thomas\n",
      "Appending inter-label distances for Petria_Thomas to dictionary\n",
      "Calculating inter-label distances for Pierre_Pettigrew\n",
      "Appending inter-label distances for Pierre_Pettigrew to dictionary\n",
      "Calculating inter-label distances for Prince_Harry\n",
      "Appending inter-label distances for Prince_Harry to dictionary\n",
      "Calculating inter-label distances for Prince_Naruhito\n",
      "Appending inter-label distances for Prince_Naruhito to dictionary\n",
      "Calculating inter-label distances for Pupi_Avati\n",
      "Appending inter-label distances for Pupi_Avati to dictionary\n",
      "Calculating inter-label distances for Rachel_Griffiths\n",
      "Appending inter-label distances for Rachel_Griffiths to dictionary\n",
      "Calculating inter-label distances for Raoul_Ruiz\n",
      "Appending inter-label distances for Raoul_Ruiz to dictionary\n",
      "Calculating inter-label distances for Rick_Carlisle\n",
      "Appending inter-label distances for Rick_Carlisle to dictionary\n",
      "Calculating inter-label distances for Rick_Dinse\n",
      "Appending inter-label distances for Rick_Dinse to dictionary\n",
      "Calculating inter-label distances for Rick_Stansbury\n",
      "Appending inter-label distances for Rick_Stansbury to dictionary\n",
      "Calculating inter-label distances for Rita_Wilson\n",
      "Appending inter-label distances for Rita_Wilson to dictionary\n",
      "Calculating inter-label distances for Rob_Lowe\n",
      "Appending inter-label distances for Rob_Lowe to dictionary\n",
      "Calculating inter-label distances for Robert_Bonner\n",
      "Appending inter-label distances for Robert_Bonner to dictionary\n",
      "Calculating inter-label distances for Roy_Williams\n",
      "Appending inter-label distances for Roy_Williams to dictionary\n",
      "Calculating inter-label distances for Sally_Field\n",
      "Appending inter-label distances for Sally_Field to dictionary\n",
      "Calculating inter-label distances for Salman_Rushdie\n",
      "Appending inter-label distances for Salman_Rushdie to dictionary\n",
      "Calculating inter-label distances for Sam_Torrance\n",
      "Appending inter-label distances for Sam_Torrance to dictionary\n",
      "Calculating inter-label distances for Sarah_Michelle_Gellar\n",
      "Appending inter-label distances for Sarah_Michelle_Gellar to dictionary\n",
      "Calculating inter-label distances for Shaul_Mofaz\n",
      "Appending inter-label distances for Shaul_Mofaz to dictionary\n",
      "Calculating inter-label distances for Sheila_Copps\n",
      "Appending inter-label distances for Sheila_Copps to dictionary\n",
      "Calculating inter-label distances for Stanley_McChrystal\n",
      "Appending inter-label distances for Stanley_McChrystal to dictionary\n",
      "Calculating inter-label distances for Steve_Ballmer\n",
      "Appending inter-label distances for Steve_Ballmer to dictionary\n",
      "Calculating inter-label distances for Taufik_Hidayat\n",
      "Appending inter-label distances for Taufik_Hidayat to dictionary\n",
      "Calculating inter-label distances for Theresa_May\n",
      "Appending inter-label distances for Theresa_May to dictionary\n",
      "Calculating inter-label distances for Thierry_Falise\n",
      "Appending inter-label distances for Thierry_Falise to dictionary\n",
      "Calculating inter-label distances for Thomas_Fargo\n",
      "Appending inter-label distances for Thomas_Fargo to dictionary\n",
      "Calculating inter-label distances for Tim_Duncan\n",
      "Appending inter-label distances for Tim_Duncan to dictionary\n",
      "Calculating inter-label distances for Tom_Craddick\n",
      "Appending inter-label distances for Tom_Craddick to dictionary\n",
      "Calculating inter-label distances for Tom_Reilly\n",
      "Appending inter-label distances for Tom_Reilly to dictionary\n",
      "Calculating inter-label distances for Tommy_Robredo\n",
      "Appending inter-label distances for Tommy_Robredo to dictionary\n",
      "Calculating inter-label distances for Toni_Braxton\n",
      "Appending inter-label distances for Toni_Braxton to dictionary\n",
      "Calculating inter-label distances for Tony_Bennett\n",
      "Appending inter-label distances for Tony_Bennett to dictionary\n",
      "Calculating inter-label distances for Tony_Shalhoub\n",
      "Appending inter-label distances for Tony_Shalhoub to dictionary\n",
      "Calculating inter-label distances for Vince_Carter\n",
      "Appending inter-label distances for Vince_Carter to dictionary\n",
      "Calculating inter-label distances for Vincent_Gallo\n",
      "Appending inter-label distances for Vincent_Gallo to dictionary\n",
      "Calculating inter-label distances for Wayne_Gretzky\n",
      "Appending inter-label distances for Wayne_Gretzky to dictionary\n",
      "Calculating inter-label distances for William_Bulger\n",
      "Appending inter-label distances for William_Bulger to dictionary\n",
      "Calculating inter-label distances for Wu_Yi\n",
      "Appending inter-label distances for Wu_Yi to dictionary\n",
      "Calculating inter-label distances for Zhang_Ziyi\n",
      "Appending inter-label distances for Zhang_Ziyi to dictionary\n",
      "Calculating inter-label distances for Zoran_Djindjic\n",
      "Appending inter-label distances for Zoran_Djindjic to dictionary\n",
      "Writing inter-distances intermediate results to ./data/vectorized/random_sample_inter_distances0177.json\n"
     ]
    }
   ],
   "source": [
    "# Calculating inter-label distances and writing to disk\n",
    "# Processing was able to be done using 20 GB of memory, required ~2-3 hours to process\n",
    "dm.calculate_inter_distances(unique_names, all_paths, vectors, distances_stem)"
   ]
  },
  {
   "cell_type": "code",
   "execution_count": 115,
   "id": "bef92fe3",
   "metadata": {},
   "outputs": [],
   "source": [
    "# Grab all paths of inter-label json batches\n",
    "inter_df_jsons = dm.get_batch_paths(distances_stem, '.json', root = '../data/vectorized')"
   ]
  },
  {
   "cell_type": "code",
   "execution_count": 116,
   "id": "debed316",
   "metadata": {},
   "outputs": [],
   "source": [
    "# Process into batch csvs\n",
    "dm.write_inter_batch_frames(inter_df_jsons, distances_stem)"
   ]
  },
  {
   "cell_type": "code",
   "execution_count": 147,
   "id": "112104de",
   "metadata": {},
   "outputs": [
    {
     "data": {
      "text/html": [
       "<div>\n",
       "<style scoped>\n",
       "    .dataframe tbody tr th:only-of-type {\n",
       "        vertical-align: middle;\n",
       "    }\n",
       "\n",
       "    .dataframe tbody tr th {\n",
       "        vertical-align: top;\n",
       "    }\n",
       "\n",
       "    .dataframe thead th {\n",
       "        text-align: right;\n",
       "    }\n",
       "</style>\n",
       "<table border=\"1\" class=\"dataframe\">\n",
       "  <thead>\n",
       "    <tr style=\"text-align: right;\">\n",
       "      <th></th>\n",
       "      <th>image</th>\n",
       "      <th>counts</th>\n",
       "      <th>correct_counts</th>\n",
       "      <th>proper_count</th>\n",
       "    </tr>\n",
       "  </thead>\n",
       "  <tbody>\n",
       "  </tbody>\n",
       "</table>\n",
       "</div>"
      ],
      "text/plain": [
       "Empty DataFrame\n",
       "Columns: [image, counts, correct_counts, proper_count]\n",
       "Index: []"
      ]
     },
     "execution_count": 147,
     "metadata": {},
     "output_type": "execute_result"
    }
   ],
   "source": [
    "# Verifying correct counts for each label\n",
    "pair_df_counts = dm.confirm_inter_distance_counts(distances_stem, vector_leaf)\n",
    "pair_df_counts.loc[pair_df_counts.proper_count == False]"
   ]
  },
  {
   "cell_type": "markdown",
   "id": "2e565dac",
   "metadata": {},
   "source": [
    "### Intra-Distances for Personal Images"
   ]
  },
  {
   "cell_type": "code",
   "execution_count": 3,
   "id": "9c82bb34",
   "metadata": {},
   "outputs": [],
   "source": [
    "root_path = '../data/personal_images/vectorized'\n",
    "json_path = '../data/personal_images/personal_intra_distances.json'"
   ]
  },
  {
   "cell_type": "code",
   "execution_count": 4,
   "id": "e6712f42",
   "metadata": {},
   "outputs": [],
   "source": [
    "# Grab all unique names, vector paths, and load vectors into memory\n",
    "unique_names = utils.get_unique_names(root_path)\n",
    "all_paths, vectors = dm.get_all_paths_and_vectors(root_path)"
   ]
  },
  {
   "cell_type": "code",
   "execution_count": 5,
   "id": "94983e61",
   "metadata": {},
   "outputs": [
    {
     "name": "stdout",
     "output_type": "stream",
     "text": [
      "Calculating intra-label distances for Jack\n",
      "Appending inter-label distances for Jack to dictionary\n",
      "Calculating intra-label distances for Janice\n",
      "Appending inter-label distances for Janice to dictionary\n",
      "Calculating intra-label distances for Sasha\n",
      "Appending inter-label distances for Sasha to dictionary\n"
     ]
    }
   ],
   "source": [
    "# Calculate intra-label distances and write to disk\n",
    "dm.calculate_intra_distances(unique_names, all_paths, vectors, json_path)"
   ]
  },
  {
   "cell_type": "code",
   "execution_count": 6,
   "id": "68b13947",
   "metadata": {},
   "outputs": [],
   "source": [
    "# Read intra-label distances from disk and place into dataframe\n",
    "intra_df = utils.load_json_into_frame(json_path)"
   ]
  },
  {
   "cell_type": "code",
   "execution_count": 7,
   "id": "8abcf6f2",
   "metadata": {},
   "outputs": [
    {
     "data": {
      "text/html": [
       "<div>\n",
       "<style scoped>\n",
       "    .dataframe tbody tr th:only-of-type {\n",
       "        vertical-align: middle;\n",
       "    }\n",
       "\n",
       "    .dataframe tbody tr th {\n",
       "        vertical-align: top;\n",
       "    }\n",
       "\n",
       "    .dataframe thead th {\n",
       "        text-align: right;\n",
       "    }\n",
       "</style>\n",
       "<table border=\"1\" class=\"dataframe\">\n",
       "  <thead>\n",
       "    <tr style=\"text-align: right;\">\n",
       "      <th></th>\n",
       "      <th>name</th>\n",
       "      <th>counts</th>\n",
       "      <th>correct_counts</th>\n",
       "      <th>proper_count</th>\n",
       "    </tr>\n",
       "  </thead>\n",
       "  <tbody>\n",
       "  </tbody>\n",
       "</table>\n",
       "</div>"
      ],
      "text/plain": [
       "Empty DataFrame\n",
       "Columns: [name, counts, correct_counts, proper_count]\n",
       "Index: []"
      ]
     },
     "execution_count": 7,
     "metadata": {},
     "output_type": "execute_result"
    }
   ],
   "source": [
    "# Verifying correct counts for each label\n",
    "all_paths = utils.get_all_paths(root_path)\n",
    "intra_df_counts = dm.confirm_intra_distance_counts(intra_df, all_paths)\n",
    "intra_df_counts.loc[intra_df_counts.proper_count == False]"
   ]
  },
  {
   "cell_type": "code",
   "execution_count": 8,
   "id": "74ee966e",
   "metadata": {},
   "outputs": [],
   "source": [
    "# Writing intra-label l2 distances to separate csv for further use\n",
    "l2_csv_path = '../data/personal_images/personal_intra_distances_l2.csv'\n",
    "intra_l2_df = dm.get_distance_df(intra_df, 'l2_distances')\n",
    "intra_l2_df.to_csv(l2_csv_path, index = False)"
   ]
  },
  {
   "cell_type": "code",
   "execution_count": 9,
   "id": "323f228c",
   "metadata": {},
   "outputs": [],
   "source": [
    "# Writing intra-label cosine distances to separate csv for further use\n",
    "cos_csv_path = '../data/personal_images/personal_intra_distances_cos.csv'\n",
    "intra_cos_df = dm.get_distance_df(intra_df, 'cosine_distances')\n",
    "intra_cos_df.to_csv(cos_csv_path, index = False)"
   ]
  },
  {
   "cell_type": "markdown",
   "id": "24272a9a",
   "metadata": {},
   "source": [
    "### Inter-Distances for Personal Images"
   ]
  },
  {
   "cell_type": "code",
   "execution_count": 10,
   "id": "7e6e023c",
   "metadata": {},
   "outputs": [],
   "source": [
    "root_path = '../data/personal_images/vectorized'\n",
    "distances_stem = '../data/personal_images/personal_inter_distances'\n",
    "vector_leaf = '-personal.pickle'"
   ]
  },
  {
   "cell_type": "code",
   "execution_count": 5,
   "id": "abf855fd",
   "metadata": {},
   "outputs": [],
   "source": [
    "# Grab all unique names, vector paths, and load vectors into memory\n",
    "unique_names = utils.get_unique_names(root_path)\n",
    "all_paths, vectors = dm.get_all_paths_and_vectors(root_path)"
   ]
  },
  {
   "cell_type": "code",
   "execution_count": 6,
   "id": "01989f1a",
   "metadata": {},
   "outputs": [
    {
     "name": "stdout",
     "output_type": "stream",
     "text": [
      "Calculating inter-label distances for Jack\n",
      "Appending inter-label distances for Jack to dictionary\n",
      "Calculating inter-label distances for Janice\n",
      "Appending inter-label distances for Janice to dictionary\n",
      "Calculating inter-label distances for Sasha\n",
      "Appending inter-label distances for Sasha to dictionary\n",
      "Writing inter-distances intermediate results to ./data/personal_images/personal_inter_distances0002.json\n"
     ]
    }
   ],
   "source": [
    "# Calculating inter-label distances and writing to disk\n",
    "# Processing was able to be done using 20 GB of memory, required ~2-3 hours to process\n",
    "dm.calculate_inter_distances(unique_names, all_paths, vectors, distances_stem)"
   ]
  },
  {
   "cell_type": "code",
   "execution_count": 7,
   "id": "be15e70e",
   "metadata": {},
   "outputs": [],
   "source": [
    "# Grab all paths of inter-label json batches\n",
    "inter_df_jsons = dm.get_batch_paths(distances_stem, '.json', root = '../data/personal_images')"
   ]
  },
  {
   "cell_type": "code",
   "execution_count": 8,
   "id": "d1c617b6",
   "metadata": {},
   "outputs": [],
   "source": [
    "# Process into batch csvs\n",
    "dm.write_inter_batch_frames(inter_df_jsons, distances_stem, slices = (0, 3))"
   ]
  },
  {
   "cell_type": "code",
   "execution_count": 11,
   "id": "d1f460f4",
   "metadata": {},
   "outputs": [
    {
     "data": {
      "text/html": [
       "<div>\n",
       "<style scoped>\n",
       "    .dataframe tbody tr th:only-of-type {\n",
       "        vertical-align: middle;\n",
       "    }\n",
       "\n",
       "    .dataframe tbody tr th {\n",
       "        vertical-align: top;\n",
       "    }\n",
       "\n",
       "    .dataframe thead th {\n",
       "        text-align: right;\n",
       "    }\n",
       "</style>\n",
       "<table border=\"1\" class=\"dataframe\">\n",
       "  <thead>\n",
       "    <tr style=\"text-align: right;\">\n",
       "      <th></th>\n",
       "      <th>image</th>\n",
       "      <th>counts</th>\n",
       "      <th>correct_counts</th>\n",
       "      <th>proper_count</th>\n",
       "    </tr>\n",
       "  </thead>\n",
       "  <tbody>\n",
       "  </tbody>\n",
       "</table>\n",
       "</div>"
      ],
      "text/plain": [
       "Empty DataFrame\n",
       "Columns: [image, counts, correct_counts, proper_count]\n",
       "Index: []"
      ]
     },
     "execution_count": 11,
     "metadata": {},
     "output_type": "execute_result"
    }
   ],
   "source": [
    "# Verifying correct counts for each label\n",
    "pair_df_counts = dm.confirm_inter_distance_counts(distances_stem, vector_leaf, root = '../data/personal_images')\n",
    "pair_df_counts.loc[pair_df_counts.proper_count == False]"
   ]
  },
  {
   "cell_type": "markdown",
   "id": "839d9bb3",
   "metadata": {},
   "source": [
    "## Intra- and Inter-Distances for Personal Images Batch 2"
   ]
  },
  {
   "cell_type": "markdown",
   "id": "6d208d8e",
   "metadata": {},
   "source": [
    "### Intra-Distances for Personal Images Batch 2"
   ]
  },
  {
   "cell_type": "code",
   "execution_count": 18,
   "id": "eef78756",
   "metadata": {},
   "outputs": [],
   "source": [
    "root_path = '../data/personal_images_batch2/vectorized'\n",
    "json_path = '../data/personal_images_batch2/personal_intra_distances.json'"
   ]
  },
  {
   "cell_type": "code",
   "execution_count": 19,
   "id": "c6c717d2",
   "metadata": {},
   "outputs": [],
   "source": [
    "# Grab all unique names, vector paths, and load vectors into memory\n",
    "unique_names = utils.get_unique_names(root_path, string_delim = '-')\n",
    "all_paths, vectors = dm.get_all_paths_and_vectors(root_path)"
   ]
  },
  {
   "cell_type": "code",
   "execution_count": 20,
   "id": "6a70a900",
   "metadata": {},
   "outputs": [
    {
     "name": "stdout",
     "output_type": "stream",
     "text": [
      "Calculating intra-label distances for Adam\n",
      "Appending inter-label distances for Adam to dictionary\n",
      "Calculating intra-label distances for Dan1\n",
      "Appending inter-label distances for Dan1 to dictionary\n",
      "Calculating intra-label distances for Dan2\n",
      "Appending inter-label distances for Dan2 to dictionary\n",
      "Calculating intra-label distances for Ed\n",
      "Appending inter-label distances for Ed to dictionary\n",
      "Calculating intra-label distances for Eric\n",
      "Appending inter-label distances for Eric to dictionary\n",
      "Calculating intra-label distances for Girl\n",
      "Appending inter-label distances for Girl to dictionary\n",
      "Calculating intra-label distances for Izhak\n",
      "Appending inter-label distances for Izhak to dictionary\n",
      "Calculating intra-label distances for Jack\n",
      "Appending inter-label distances for Jack to dictionary\n",
      "Calculating intra-label distances for Jen\n",
      "Appending inter-label distances for Jen to dictionary\n",
      "Calculating intra-label distances for Josh1\n",
      "Appending inter-label distances for Josh1 to dictionary\n",
      "Calculating intra-label distances for Josh2\n",
      "Appending inter-label distances for Josh2 to dictionary\n",
      "Calculating intra-label distances for Josh3\n",
      "Appending inter-label distances for Josh3 to dictionary\n",
      "Calculating intra-label distances for Josh4\n",
      "Appending inter-label distances for Josh4 to dictionary\n",
      "Calculating intra-label distances for Joyce\n",
      "Appending inter-label distances for Joyce to dictionary\n",
      "Calculating intra-label distances for Lauren\n",
      "Appending inter-label distances for Lauren to dictionary\n",
      "Calculating intra-label distances for Li\n",
      "Appending inter-label distances for Li to dictionary\n",
      "Calculating intra-label distances for Luke1\n",
      "Appending inter-label distances for Luke1 to dictionary\n",
      "Calculating intra-label distances for Luke2\n",
      "Appending inter-label distances for Luke2 to dictionary\n",
      "Calculating intra-label distances for Marina1\n",
      "Appending inter-label distances for Marina1 to dictionary\n",
      "Calculating intra-label distances for Marina2\n",
      "Appending inter-label distances for Marina2 to dictionary\n",
      "Calculating intra-label distances for Marina3\n",
      "Appending inter-label distances for Marina3 to dictionary\n",
      "Calculating intra-label distances for Model1\n",
      "Appending inter-label distances for Model1 to dictionary\n",
      "Calculating intra-label distances for Model2\n",
      "Appending inter-label distances for Model2 to dictionary\n",
      "Calculating intra-label distances for Sarah\n",
      "Appending inter-label distances for Sarah to dictionary\n",
      "Calculating intra-label distances for Sasha\n",
      "Appending inter-label distances for Sasha to dictionary\n"
     ]
    }
   ],
   "source": [
    "# Calculate intra-label distances and write to disk\n",
    "dm.calculate_intra_distances(unique_names, all_paths, vectors, json_path, string_delim = '-')"
   ]
  },
  {
   "cell_type": "code",
   "execution_count": 21,
   "id": "07bb41c5",
   "metadata": {},
   "outputs": [],
   "source": [
    "# Read intra-label distances from disk and place into dataframe\n",
    "intra_df = utils.load_json_into_frame(json_path)"
   ]
  },
  {
   "cell_type": "code",
   "execution_count": 24,
   "id": "ae7d9fe2",
   "metadata": {},
   "outputs": [
    {
     "data": {
      "text/html": [
       "<div>\n",
       "<style scoped>\n",
       "    .dataframe tbody tr th:only-of-type {\n",
       "        vertical-align: middle;\n",
       "    }\n",
       "\n",
       "    .dataframe tbody tr th {\n",
       "        vertical-align: top;\n",
       "    }\n",
       "\n",
       "    .dataframe thead th {\n",
       "        text-align: right;\n",
       "    }\n",
       "</style>\n",
       "<table border=\"1\" class=\"dataframe\">\n",
       "  <thead>\n",
       "    <tr style=\"text-align: right;\">\n",
       "      <th></th>\n",
       "      <th>name</th>\n",
       "      <th>counts</th>\n",
       "      <th>correct_counts</th>\n",
       "      <th>proper_count</th>\n",
       "    </tr>\n",
       "  </thead>\n",
       "  <tbody>\n",
       "  </tbody>\n",
       "</table>\n",
       "</div>"
      ],
      "text/plain": [
       "Empty DataFrame\n",
       "Columns: [name, counts, correct_counts, proper_count]\n",
       "Index: []"
      ]
     },
     "execution_count": 24,
     "metadata": {},
     "output_type": "execute_result"
    }
   ],
   "source": [
    "# Verifying correct counts for each label\n",
    "all_paths = utils.get_all_paths(root_path)\n",
    "intra_df_counts = dm.confirm_intra_distance_counts(intra_df, all_paths, string_delim = '-')\n",
    "intra_df_counts.loc[intra_df_counts.proper_count == False]"
   ]
  },
  {
   "cell_type": "code",
   "execution_count": 25,
   "id": "d9320bfb",
   "metadata": {},
   "outputs": [],
   "source": [
    "# Writing intra-label l2 distances to separate csv for further use\n",
    "l2_csv_path = '../data/personal_images_batch2/personal_intra_distances_l2.csv'\n",
    "intra_l2_df = dm.get_distance_df(intra_df, 'l2_distances')\n",
    "intra_l2_df.to_csv(l2_csv_path, index = False)"
   ]
  },
  {
   "cell_type": "code",
   "execution_count": 26,
   "id": "dac13eab",
   "metadata": {},
   "outputs": [],
   "source": [
    "# Writing intra-label cosine distances to separate csv for further use\n",
    "cos_csv_path = '../data/personal_images_batch2/personal_intra_distances_cos.csv'\n",
    "intra_cos_df = dm.get_distance_df(intra_df, 'cosine_distances')\n",
    "intra_cos_df.to_csv(cos_csv_path, index = False)"
   ]
  },
  {
   "cell_type": "markdown",
   "id": "0abdeb03",
   "metadata": {},
   "source": [
    "### Inter-Distances for Personal Images Batch 2"
   ]
  },
  {
   "cell_type": "code",
   "execution_count": 2,
   "id": "fb1f25e9",
   "metadata": {},
   "outputs": [],
   "source": [
    "root_path = '../data/personal_images_batch2/vectorized'\n",
    "distances_stem = '../data/personal_images_batch2/personal_inter_distances'\n",
    "vector_leaf = '-personal.pickle'"
   ]
  },
  {
   "cell_type": "code",
   "execution_count": 3,
   "id": "345e61df",
   "metadata": {},
   "outputs": [],
   "source": [
    "# Grab all unique names, vector paths, and load vectors into memory\n",
    "unique_names = utils.get_unique_names(root_path, string_delim = '-')\n",
    "all_paths, vectors = dm.get_all_paths_and_vectors(root_path)"
   ]
  },
  {
   "cell_type": "code",
   "execution_count": 4,
   "id": "a1a31849",
   "metadata": {},
   "outputs": [
    {
     "name": "stdout",
     "output_type": "stream",
     "text": [
      "Calculating inter-label distances for Adam\n",
      "Appending inter-label distances for Adam to dictionary\n",
      "Calculating inter-label distances for Dan1\n",
      "Appending inter-label distances for Dan1 to dictionary\n",
      "Calculating inter-label distances for Dan2\n",
      "Appending inter-label distances for Dan2 to dictionary\n",
      "Calculating inter-label distances for Ed\n",
      "Appending inter-label distances for Ed to dictionary\n",
      "Calculating inter-label distances for Eric\n",
      "Appending inter-label distances for Eric to dictionary\n",
      "Calculating inter-label distances for Girl\n",
      "Appending inter-label distances for Girl to dictionary\n",
      "Calculating inter-label distances for Izhak\n",
      "Appending inter-label distances for Izhak to dictionary\n",
      "Calculating inter-label distances for Jack\n",
      "Appending inter-label distances for Jack to dictionary\n",
      "Calculating inter-label distances for Jen\n",
      "Appending inter-label distances for Jen to dictionary\n",
      "Calculating inter-label distances for Josh1\n",
      "Appending inter-label distances for Josh1 to dictionary\n",
      "Calculating inter-label distances for Josh2\n",
      "Appending inter-label distances for Josh2 to dictionary\n",
      "Calculating inter-label distances for Josh3\n",
      "Appending inter-label distances for Josh3 to dictionary\n",
      "Calculating inter-label distances for Josh4\n",
      "Appending inter-label distances for Josh4 to dictionary\n",
      "Calculating inter-label distances for Joyce\n",
      "Appending inter-label distances for Joyce to dictionary\n",
      "Calculating inter-label distances for Lauren\n",
      "Appending inter-label distances for Lauren to dictionary\n",
      "Calculating inter-label distances for Li\n",
      "Appending inter-label distances for Li to dictionary\n",
      "Calculating inter-label distances for Luke1\n",
      "Appending inter-label distances for Luke1 to dictionary\n",
      "Calculating inter-label distances for Luke2\n",
      "Appending inter-label distances for Luke2 to dictionary\n",
      "Calculating inter-label distances for Marina1\n",
      "Appending inter-label distances for Marina1 to dictionary\n",
      "Calculating inter-label distances for Marina2\n",
      "Appending inter-label distances for Marina2 to dictionary\n",
      "Calculating inter-label distances for Marina3\n",
      "Appending inter-label distances for Marina3 to dictionary\n",
      "Calculating inter-label distances for Model1\n",
      "Appending inter-label distances for Model1 to dictionary\n",
      "Calculating inter-label distances for Model2\n",
      "Appending inter-label distances for Model2 to dictionary\n",
      "Calculating inter-label distances for Sarah\n",
      "Appending inter-label distances for Sarah to dictionary\n",
      "Calculating inter-label distances for Sasha\n",
      "Appending inter-label distances for Sasha to dictionary\n",
      "Writing inter-distances intermediate results to ./data/personal_images_batch2/personal_inter_distances0024.json\n"
     ]
    }
   ],
   "source": [
    "# Calculating inter-label distances and writing to disk\n",
    "# Processing was able to be done using 20 GB of memory, required ~2-3 hours to process\n",
    "dm.calculate_inter_distances(unique_names, all_paths, vectors, distances_stem, string_delim = '-')"
   ]
  },
  {
   "cell_type": "code",
   "execution_count": 5,
   "id": "f01fbc9e",
   "metadata": {},
   "outputs": [],
   "source": [
    "# Grab all paths of inter-label json batches\n",
    "inter_df_jsons = dm.get_batch_paths(distances_stem, '.json', root = '../data/personal_images_batch2')"
   ]
  },
  {
   "cell_type": "code",
   "execution_count": 6,
   "id": "2ccbaa76",
   "metadata": {},
   "outputs": [],
   "source": [
    "# Process into batch csvs\n",
    "dm.write_inter_batch_frames(inter_df_jsons, distances_stem, slices = (0, 3))"
   ]
  },
  {
   "cell_type": "code",
   "execution_count": 7,
   "id": "4dea0d5d",
   "metadata": {},
   "outputs": [
    {
     "data": {
      "text/html": [
       "<div>\n",
       "<style scoped>\n",
       "    .dataframe tbody tr th:only-of-type {\n",
       "        vertical-align: middle;\n",
       "    }\n",
       "\n",
       "    .dataframe tbody tr th {\n",
       "        vertical-align: top;\n",
       "    }\n",
       "\n",
       "    .dataframe thead th {\n",
       "        text-align: right;\n",
       "    }\n",
       "</style>\n",
       "<table border=\"1\" class=\"dataframe\">\n",
       "  <thead>\n",
       "    <tr style=\"text-align: right;\">\n",
       "      <th></th>\n",
       "      <th>image</th>\n",
       "      <th>counts</th>\n",
       "      <th>correct_counts</th>\n",
       "      <th>proper_count</th>\n",
       "    </tr>\n",
       "  </thead>\n",
       "  <tbody>\n",
       "  </tbody>\n",
       "</table>\n",
       "</div>"
      ],
      "text/plain": [
       "Empty DataFrame\n",
       "Columns: [image, counts, correct_counts, proper_count]\n",
       "Index: []"
      ]
     },
     "execution_count": 7,
     "metadata": {},
     "output_type": "execute_result"
    }
   ],
   "source": [
    "# Verifying correct counts for each label\n",
    "pair_df_counts = dm.confirm_inter_distance_counts(distances_stem, vector_leaf,\n",
    "                                                  root = '../data/personal_images_batch2', numbering_length = 3)\n",
    "pair_df_counts.loc[pair_df_counts.proper_count == False]"
   ]
  },
  {
   "cell_type": "markdown",
   "id": "1e1ec02d",
   "metadata": {},
   "source": [
    "# Comparisons for Thresholding"
   ]
  },
  {
   "cell_type": "markdown",
   "id": "a69db4c3",
   "metadata": {},
   "source": [
    "## Padded_152"
   ]
  },
  {
   "cell_type": "code",
   "execution_count": null,
   "id": "23fed334",
   "metadata": {},
   "outputs": [],
   "source": [
    "intra_stem = 'padded_152_intra_distances_'\n",
    "inter_stem = 'padded_152_inter_distances_'\n",
    "intra_l2_path = os.path.join('../data/vectorized', intra_stem + 'l2.csv')\n",
    "intra_cos_path = os.path.join('../data/vectorized', intra_stem + 'cos.csv')"
   ]
  },
  {
   "cell_type": "code",
   "execution_count": null,
   "id": "87cd7c7a",
   "metadata": {},
   "outputs": [],
   "source": [
    "intra_l2_df = pd.read_csv(intra_l2_path)\n",
    "inter_l2_df = dm.get_unbatched_frame(inter_stem, 'l2')"
   ]
  },
  {
   "cell_type": "code",
   "execution_count": null,
   "id": "eb4b3a64",
   "metadata": {},
   "outputs": [],
   "source": [
    "# Descriptive statistics for intra-label l2 distances\n",
    "intra_l2_df.describe()"
   ]
  },
  {
   "cell_type": "code",
   "execution_count": null,
   "id": "c553bcc8",
   "metadata": {},
   "outputs": [],
   "source": [
    "# Distribution of intra-label l2 distances\n",
    "sns.histplot(data = intra_l2_df, x = 'l2_distances', stat = 'count', bins = 50);"
   ]
  },
  {
   "cell_type": "code",
   "execution_count": null,
   "id": "2bed529e",
   "metadata": {},
   "outputs": [],
   "source": [
    "# Descriptive statistics for inter-label l2 distances\n",
    "inter_l2_df.describe()"
   ]
  },
  {
   "cell_type": "code",
   "execution_count": null,
   "id": "a671e650",
   "metadata": {},
   "outputs": [],
   "source": [
    "# Distribution of inter-label l2 distances\n",
    "sns.histplot(data = inter_l2_df, x = 'l2_distances', stat = 'count', bins = 50);"
   ]
  },
  {
   "cell_type": "code",
   "execution_count": null,
   "id": "55b50bc6",
   "metadata": {},
   "outputs": [],
   "source": [
    "# Overlaid distributes of inter- and intra-label l2 distances\n",
    "fig, ax = plt.subplots(figsize = (15, 10))\n",
    "\n",
    "sns.histplot(data = intra_l2_df, x = 'l2_distances', stat = 'proportion', bins = 50, ax = ax);\n",
    "sns.histplot(data = inter_l2_df, x = 'l2_distances', stat = 'proportion', bins = 50, ax = ax);"
   ]
  },
  {
   "cell_type": "code",
   "execution_count": null,
   "id": "160a0580",
   "metadata": {},
   "outputs": [],
   "source": [
    "intra_cos_df = pd.read_csv(intra_cos_path)\n",
    "inter_cos_df = dm.get_unbatched_frame(inter_stem, 'cos')"
   ]
  },
  {
   "cell_type": "code",
   "execution_count": null,
   "id": "8ee93dd2",
   "metadata": {},
   "outputs": [],
   "source": [
    "# Descriptive statistics for intra-label cosine distances\n",
    "intra_cos_df.describe()"
   ]
  },
  {
   "cell_type": "code",
   "execution_count": null,
   "id": "c56eb479",
   "metadata": {},
   "outputs": [],
   "source": [
    "# Distribution of intra-label cosine distances\n",
    "sns.histplot(data = intra_cos_df, x = 'cosine_distances', stat = 'count', bins = 50);"
   ]
  },
  {
   "cell_type": "code",
   "execution_count": null,
   "id": "b790be63",
   "metadata": {},
   "outputs": [],
   "source": [
    "# Descriptive statistics for inter-label cosine distances\n",
    "inter_cos_df.describe()"
   ]
  },
  {
   "cell_type": "code",
   "execution_count": null,
   "id": "3d17cdba",
   "metadata": {},
   "outputs": [],
   "source": [
    "# Distribution of inter-label cosine distances\n",
    "sns.histplot(data = inter_cos_df, x = 'cosine_distances', stat = 'count', bins = 50);"
   ]
  },
  {
   "cell_type": "code",
   "execution_count": null,
   "id": "9ec94f72",
   "metadata": {},
   "outputs": [],
   "source": [
    "# Overlaid distributes of inter- and intra-label l2 distances\n",
    "fig, ax = plt.subplots(figsize = (15, 10))\n",
    "\n",
    "sns.histplot(data = intra_cos_df, x = 'cosine_distances', stat = 'density', bins = 50, ax = ax);\n",
    "sns.histplot(data = inter_cos_df, x = 'cosine_distances', stat = 'density', bins = 50, ax = ax);"
   ]
  },
  {
   "cell_type": "markdown",
   "id": "81eb098e",
   "metadata": {},
   "source": [
    "## Stretched_152"
   ]
  },
  {
   "cell_type": "code",
   "execution_count": null,
   "id": "9bfc359b",
   "metadata": {},
   "outputs": [],
   "source": [
    "intra_stem = 'stretched_152_intra_distances_'\n",
    "inter_stem = 'stretched_152_inter_distances_'\n",
    "intra_l2_path = os.path.join('../data/vectorized', intra_stem + 'l2.csv')\n",
    "intra_cos_path = os.path.join('../data/vectorized', intra_stem + 'cos.csv')"
   ]
  },
  {
   "cell_type": "code",
   "execution_count": null,
   "id": "9e57f499",
   "metadata": {},
   "outputs": [],
   "source": [
    "intra_l2_df = pd.read_csv(intra_l2_path)\n",
    "inter_l2_df = dm.get_unbatched_frame(inter_stem, 'l2')"
   ]
  },
  {
   "cell_type": "code",
   "execution_count": null,
   "id": "d415ec2d",
   "metadata": {},
   "outputs": [],
   "source": [
    "# Descriptive statistics for intra-label l2 distances\n",
    "intra_l2_df.describe()"
   ]
  },
  {
   "cell_type": "code",
   "execution_count": null,
   "id": "bce959ef",
   "metadata": {},
   "outputs": [],
   "source": [
    "# Distribution of intra-label l2 distances\n",
    "sns.histplot(data = intra_l2_df, x = 'l2_distances', stat = 'count', bins = 50);"
   ]
  },
  {
   "cell_type": "code",
   "execution_count": null,
   "id": "8a768f7a",
   "metadata": {},
   "outputs": [],
   "source": [
    "# Descriptive statistics for inter-label l2 distances\n",
    "inter_l2_df.describe()"
   ]
  },
  {
   "cell_type": "code",
   "execution_count": null,
   "id": "8a215253",
   "metadata": {},
   "outputs": [],
   "source": [
    "# Distribution of inter-label l2 distances\n",
    "sns.histplot(data = inter_l2_df, x = 'l2_distances', stat = 'count', bins = 50);"
   ]
  },
  {
   "cell_type": "code",
   "execution_count": null,
   "id": "77031b65",
   "metadata": {},
   "outputs": [],
   "source": [
    "# Overlaid distributes of inter- and intra-label l2 distances\n",
    "fig, ax = plt.subplots(figsize = (15, 10))\n",
    "\n",
    "sns.histplot(data = intra_l2_df, x = 'l2_distances', stat = 'density', bins = 50, ax = ax);\n",
    "sns.histplot(data = inter_l2_df, x = 'l2_distances', stat = 'density', bins = 50, ax = ax);"
   ]
  },
  {
   "cell_type": "code",
   "execution_count": null,
   "id": "ab102882",
   "metadata": {},
   "outputs": [],
   "source": [
    "intra_cos_df = pd.read_csv(intra_cos_path)\n",
    "inter_cos_df = dm.get_unbatched_frame(inter_stem, 'cos')"
   ]
  },
  {
   "cell_type": "code",
   "execution_count": null,
   "id": "8b9da7b7",
   "metadata": {},
   "outputs": [],
   "source": [
    "# Descriptive statistics for intra-label cosine distances\n",
    "intra_cos_df.describe()"
   ]
  },
  {
   "cell_type": "code",
   "execution_count": null,
   "id": "2518e3d7",
   "metadata": {},
   "outputs": [],
   "source": [
    "# Distribution of intra-label cosine distances\n",
    "sns.histplot(data = intra_cos_df, x = 'cosine_distances', stat = 'count', bins = 50);"
   ]
  },
  {
   "cell_type": "code",
   "execution_count": null,
   "id": "ec8f7f0a",
   "metadata": {},
   "outputs": [],
   "source": [
    "# Descriptive statistics for inter-label cosine distances\n",
    "inter_cos_df.describe()"
   ]
  },
  {
   "cell_type": "code",
   "execution_count": null,
   "id": "3cd65f16",
   "metadata": {},
   "outputs": [],
   "source": [
    "# Distribution of inter-label cosine distances\n",
    "sns.histplot(data = inter_cos_df, x = 'cosine_distances', stat = 'count', bins = 50);"
   ]
  },
  {
   "cell_type": "code",
   "execution_count": null,
   "id": "4c97ca9f",
   "metadata": {},
   "outputs": [],
   "source": [
    "# Overlaid distributes of inter- and intra-label l2 distances\n",
    "fig, ax = plt.subplots(figsize = (15, 10))\n",
    "\n",
    "sns.histplot(data = intra_cos_df, x = 'cosine_distances', stat = 'density', bins = 50, ax = ax);\n",
    "sns.histplot(data = inter_cos_df, x = 'cosine_distances', stat = 'density', bins = 50, ax = ax);"
   ]
  },
  {
   "cell_type": "markdown",
   "id": "a10eff13",
   "metadata": {},
   "source": [
    "## Ghosh_152"
   ]
  },
  {
   "cell_type": "code",
   "execution_count": 4,
   "id": "441ad078",
   "metadata": {},
   "outputs": [],
   "source": [
    "intra_stem = 'ghosh_152_intra_distances_'\n",
    "inter_stem = 'ghosh_152_inter_distances_'\n",
    "intra_l2_path = os.path.join('../data/vectorized', intra_stem + 'l2.csv')\n",
    "intra_cos_path = os.path.join('../data/vectorized', intra_stem + 'cos.csv')"
   ]
  },
  {
   "cell_type": "code",
   "execution_count": null,
   "id": "f977fd24",
   "metadata": {},
   "outputs": [],
   "source": [
    "intra_l2_df = pd.read_csv(intra_l2_path)\n",
    "inter_l2_df = dm.get_unbatched_frame(inter_stem, 'l2')"
   ]
  },
  {
   "cell_type": "code",
   "execution_count": null,
   "id": "f64c5662",
   "metadata": {},
   "outputs": [],
   "source": [
    "# Descriptive statistics for intra-label l2 distances\n",
    "intra_l2_df.describe()"
   ]
  },
  {
   "cell_type": "code",
   "execution_count": null,
   "id": "c0ca5241",
   "metadata": {},
   "outputs": [],
   "source": [
    "# Distribution of intra-label l2 distances\n",
    "sns.histplot(data = intra_l2_df, x = 'l2_distances', stat = 'count', bins = 50);"
   ]
  },
  {
   "cell_type": "code",
   "execution_count": null,
   "id": "1c36f53b",
   "metadata": {},
   "outputs": [],
   "source": [
    "# Descriptive statistics for inter-label l2 distances\n",
    "inter_l2_df.describe()"
   ]
  },
  {
   "cell_type": "code",
   "execution_count": null,
   "id": "01045309",
   "metadata": {},
   "outputs": [],
   "source": [
    "# Distribution of inter-label l2 distances\n",
    "sns.histplot(data = inter_l2_df, x = 'l2_distances', stat = 'count', bins = 50);"
   ]
  },
  {
   "cell_type": "code",
   "execution_count": null,
   "id": "3569f9c1",
   "metadata": {},
   "outputs": [],
   "source": [
    "# Overlaid distributes of inter- and intra-label l2 distances\n",
    "fig, ax = plt.subplots(figsize = (15, 10))\n",
    "\n",
    "sns.histplot(data = intra_l2_df, x = 'l2_distances', stat = 'density', bins = 50, ax = ax);\n",
    "sns.histplot(data = inter_l2_df, x = 'l2_distances', stat = 'density', bins = 50, ax = ax);"
   ]
  },
  {
   "cell_type": "code",
   "execution_count": 5,
   "id": "5d88cfe5",
   "metadata": {},
   "outputs": [],
   "source": [
    "intra_cos_df = pd.read_csv(intra_cos_path)\n",
    "inter_cos_df = dm.get_unbatched_frame(inter_stem, 'cos')"
   ]
  },
  {
   "cell_type": "code",
   "execution_count": null,
   "id": "c14a67d7",
   "metadata": {},
   "outputs": [],
   "source": [
    "# Descriptive statistics for intra-label cosine distances\n",
    "intra_cos_df.describe()"
   ]
  },
  {
   "cell_type": "code",
   "execution_count": null,
   "id": "fb3962c2",
   "metadata": {},
   "outputs": [],
   "source": [
    "# Distribution of intra-label cosine distances\n",
    "sns.histplot(data = intra_cos_df, x = 'cosine_distances', stat = 'count', bins = 50);"
   ]
  },
  {
   "cell_type": "code",
   "execution_count": null,
   "id": "5e4828ae",
   "metadata": {},
   "outputs": [],
   "source": [
    "# Descriptive statistics for inter-label cosine distances\n",
    "inter_cos_df.describe()"
   ]
  },
  {
   "cell_type": "code",
   "execution_count": null,
   "id": "3285e3e6",
   "metadata": {},
   "outputs": [],
   "source": [
    "# Distribution of inter-label cosine distances\n",
    "sns.histplot(data = inter_cos_df, x = 'cosine_distances', stat = 'count', bins = 50);"
   ]
  },
  {
   "cell_type": "code",
   "execution_count": null,
   "id": "24e59d76",
   "metadata": {},
   "outputs": [],
   "source": [
    "# Overlaid distributes of inter- and intra-label l2 distances\n",
    "fig, ax = plt.subplots(figsize = (15, 10))\n",
    "\n",
    "sns.histplot(data = intra_cos_df, x = 'cosine_distances', stat = 'density', bins = 50, ax = ax);\n",
    "sns.histplot(data = inter_cos_df, x = 'cosine_distances', stat = 'density', bins = 50, ax = ax);"
   ]
  },
  {
   "cell_type": "markdown",
   "id": "0058ac5d",
   "metadata": {},
   "source": [
    "## Random Sample"
   ]
  },
  {
   "cell_type": "code",
   "execution_count": 20,
   "id": "e8eafc7d",
   "metadata": {},
   "outputs": [],
   "source": [
    "intra_stem = 'random_sample_intra_distances_'\n",
    "inter_stem = 'random_sample_inter_distances_'\n",
    "intra_l2_path = os.path.join('../data/vectorized', intra_stem + 'l2.csv')\n",
    "intra_cos_path = os.path.join('../data/vectorized', intra_stem + 'cos.csv')"
   ]
  },
  {
   "cell_type": "code",
   "execution_count": 32,
   "id": "353c1def",
   "metadata": {},
   "outputs": [],
   "source": [
    "intra_l2_df = pd.read_csv(intra_l2_path)\n",
    "inter_l2_df = dm.get_unbatched_frame(inter_stem, 'l2')"
   ]
  },
  {
   "cell_type": "code",
   "execution_count": 33,
   "id": "60f57ad2",
   "metadata": {},
   "outputs": [
    {
     "data": {
      "text/html": [
       "<div>\n",
       "<style scoped>\n",
       "    .dataframe tbody tr th:only-of-type {\n",
       "        vertical-align: middle;\n",
       "    }\n",
       "\n",
       "    .dataframe tbody tr th {\n",
       "        vertical-align: top;\n",
       "    }\n",
       "\n",
       "    .dataframe thead th {\n",
       "        text-align: right;\n",
       "    }\n",
       "</style>\n",
       "<table border=\"1\" class=\"dataframe\">\n",
       "  <thead>\n",
       "    <tr style=\"text-align: right;\">\n",
       "      <th></th>\n",
       "      <th>l2_distances</th>\n",
       "    </tr>\n",
       "  </thead>\n",
       "  <tbody>\n",
       "    <tr>\n",
       "      <th>count</th>\n",
       "      <td>500.000000</td>\n",
       "    </tr>\n",
       "    <tr>\n",
       "      <th>mean</th>\n",
       "      <td>65.500514</td>\n",
       "    </tr>\n",
       "    <tr>\n",
       "      <th>std</th>\n",
       "      <td>11.542427</td>\n",
       "    </tr>\n",
       "    <tr>\n",
       "      <th>min</th>\n",
       "      <td>27.301184</td>\n",
       "    </tr>\n",
       "    <tr>\n",
       "      <th>25%</th>\n",
       "      <td>57.964328</td>\n",
       "    </tr>\n",
       "    <tr>\n",
       "      <th>50%</th>\n",
       "      <td>65.388187</td>\n",
       "    </tr>\n",
       "    <tr>\n",
       "      <th>75%</th>\n",
       "      <td>74.334183</td>\n",
       "    </tr>\n",
       "    <tr>\n",
       "      <th>max</th>\n",
       "      <td>99.358757</td>\n",
       "    </tr>\n",
       "  </tbody>\n",
       "</table>\n",
       "</div>"
      ],
      "text/plain": [
       "       l2_distances\n",
       "count    500.000000\n",
       "mean      65.500514\n",
       "std       11.542427\n",
       "min       27.301184\n",
       "25%       57.964328\n",
       "50%       65.388187\n",
       "75%       74.334183\n",
       "max       99.358757"
      ]
     },
     "execution_count": 33,
     "metadata": {},
     "output_type": "execute_result"
    }
   ],
   "source": [
    "# Descriptive statistics for intra-label l2 distances\n",
    "intra_l2_df.describe()"
   ]
  },
  {
   "cell_type": "code",
   "execution_count": 34,
   "id": "2351a846",
   "metadata": {},
   "outputs": [
    {
     "data": {
      "image/png": "[encoded data removed]",
      "text/plain": [
       "<Figure size 640x480 with 1 Axes>"
      ]
     },
     "metadata": {},
     "output_type": "display_data"
    }
   ],
   "source": [
    "# Distribution of intra-label l2 distances\n",
    "sns.histplot(data = intra_l2_df, x = 'l2_distances', stat = 'count', bins = 25);"
   ]
  },
  {
   "cell_type": "code",
   "execution_count": 35,
   "id": "ea041b8d",
   "metadata": {},
   "outputs": [
    {
     "data": {
      "text/html": [
       "<div>\n",
       "<style scoped>\n",
       "    .dataframe tbody tr th:only-of-type {\n",
       "        vertical-align: middle;\n",
       "    }\n",
       "\n",
       "    .dataframe tbody tr th {\n",
       "        vertical-align: top;\n",
       "    }\n",
       "\n",
       "    .dataframe thead th {\n",
       "        text-align: right;\n",
       "    }\n",
       "</style>\n",
       "<table border=\"1\" class=\"dataframe\">\n",
       "  <thead>\n",
       "    <tr style=\"text-align: right;\">\n",
       "      <th></th>\n",
       "      <th>l2_distances</th>\n",
       "    </tr>\n",
       "  </thead>\n",
       "  <tbody>\n",
       "    <tr>\n",
       "      <th>count</th>\n",
       "      <td>126256.000000</td>\n",
       "    </tr>\n",
       "    <tr>\n",
       "      <th>mean</th>\n",
       "      <td>79.777457</td>\n",
       "    </tr>\n",
       "    <tr>\n",
       "      <th>std</th>\n",
       "      <td>8.393699</td>\n",
       "    </tr>\n",
       "    <tr>\n",
       "      <th>min</th>\n",
       "      <td>46.623009</td>\n",
       "    </tr>\n",
       "    <tr>\n",
       "      <th>25%</th>\n",
       "      <td>73.977518</td>\n",
       "    </tr>\n",
       "    <tr>\n",
       "      <th>50%</th>\n",
       "      <td>79.612900</td>\n",
       "    </tr>\n",
       "    <tr>\n",
       "      <th>75%</th>\n",
       "      <td>85.406538</td>\n",
       "    </tr>\n",
       "    <tr>\n",
       "      <th>max</th>\n",
       "      <td>118.496796</td>\n",
       "    </tr>\n",
       "  </tbody>\n",
       "</table>\n",
       "</div>"
      ],
      "text/plain": [
       "        l2_distances\n",
       "count  126256.000000\n",
       "mean       79.777457\n",
       "std         8.393699\n",
       "min        46.623009\n",
       "25%        73.977518\n",
       "50%        79.612900\n",
       "75%        85.406538\n",
       "max       118.496796"
      ]
     },
     "execution_count": 35,
     "metadata": {},
     "output_type": "execute_result"
    }
   ],
   "source": [
    "# Descriptive statistics for inter-label l2 distances\n",
    "inter_l2_df.describe()"
   ]
  },
  {
   "cell_type": "code",
   "execution_count": 36,
   "id": "dc46d03d",
   "metadata": {},
   "outputs": [
    {
     "data": {
      "image/png": "[encoded data removed]",
      "text/plain": [
       "<Figure size 640x480 with 1 Axes>"
      ]
     },
     "metadata": {},
     "output_type": "display_data"
    }
   ],
   "source": [
    "# Distribution of inter-label l2 distances\n",
    "sns.histplot(data = inter_l2_df, x = 'l2_distances', stat = 'count', bins = 25);"
   ]
  },
  {
   "cell_type": "code",
   "execution_count": 37,
   "id": "d7dd4ebd",
   "metadata": {},
   "outputs": [
    {
     "data": {
      "image/png": "[encoded data removed]",
      "text/plain": [
       "<Figure size 1500x1000 with 1 Axes>"
      ]
     },
     "metadata": {},
     "output_type": "display_data"
    }
   ],
   "source": [
    "# Overlaid distributes of inter- and intra-label l2 distances\n",
    "fig, ax = plt.subplots(figsize = (15, 10))\n",
    "\n",
    "sns.histplot(data = intra_l2_df, x = 'l2_distances', stat = 'density', bins = 25, ax = ax);\n",
    "sns.histplot(data = inter_l2_df, x = 'l2_distances', stat = 'density', bins = 25, ax = ax);"
   ]
  },
  {
   "cell_type": "code",
   "execution_count": 21,
   "id": "ffb5d6f7",
   "metadata": {},
   "outputs": [],
   "source": [
    "intra_cos_df = pd.read_csv(intra_cos_path)\n",
    "inter_cos_df = dm.get_unbatched_frame(inter_stem, 'cos')"
   ]
  },
  {
   "cell_type": "code",
   "execution_count": 39,
   "id": "c947a092",
   "metadata": {},
   "outputs": [
    {
     "data": {
      "text/html": [
       "<div>\n",
       "<style scoped>\n",
       "    .dataframe tbody tr th:only-of-type {\n",
       "        vertical-align: middle;\n",
       "    }\n",
       "\n",
       "    .dataframe tbody tr th {\n",
       "        vertical-align: top;\n",
       "    }\n",
       "\n",
       "    .dataframe thead th {\n",
       "        text-align: right;\n",
       "    }\n",
       "</style>\n",
       "<table border=\"1\" class=\"dataframe\">\n",
       "  <thead>\n",
       "    <tr style=\"text-align: right;\">\n",
       "      <th></th>\n",
       "      <th>cosine_distances</th>\n",
       "    </tr>\n",
       "  </thead>\n",
       "  <tbody>\n",
       "    <tr>\n",
       "      <th>count</th>\n",
       "      <td>500.000000</td>\n",
       "    </tr>\n",
       "    <tr>\n",
       "      <th>mean</th>\n",
       "      <td>0.363881</td>\n",
       "    </tr>\n",
       "    <tr>\n",
       "      <th>std</th>\n",
       "      <td>0.111778</td>\n",
       "    </tr>\n",
       "    <tr>\n",
       "      <th>min</th>\n",
       "      <td>0.079243</td>\n",
       "    </tr>\n",
       "    <tr>\n",
       "      <th>25%</th>\n",
       "      <td>0.290026</td>\n",
       "    </tr>\n",
       "    <tr>\n",
       "      <th>50%</th>\n",
       "      <td>0.364214</td>\n",
       "    </tr>\n",
       "    <tr>\n",
       "      <th>75%</th>\n",
       "      <td>0.440022</td>\n",
       "    </tr>\n",
       "    <tr>\n",
       "      <th>max</th>\n",
       "      <td>0.682245</td>\n",
       "    </tr>\n",
       "  </tbody>\n",
       "</table>\n",
       "</div>"
      ],
      "text/plain": [
       "       cosine_distances\n",
       "count        500.000000\n",
       "mean           0.363881\n",
       "std            0.111778\n",
       "min            0.079243\n",
       "25%            0.290026\n",
       "50%            0.364214\n",
       "75%            0.440022\n",
       "max            0.682245"
      ]
     },
     "execution_count": 39,
     "metadata": {},
     "output_type": "execute_result"
    }
   ],
   "source": [
    "# Descriptive statistics for intra-label cosine distances\n",
    "intra_cos_df.describe()"
   ]
  },
  {
   "cell_type": "code",
   "execution_count": 40,
   "id": "7c5b17e5",
   "metadata": {},
   "outputs": [
    {
     "data": {
      "image/png": "[encoded data removed]",
      "text/plain": [
       "<Figure size 640x480 with 1 Axes>"
      ]
     },
     "metadata": {},
     "output_type": "display_data"
    }
   ],
   "source": [
    "# Distribution of intra-label cosine distances\n",
    "sns.histplot(data = intra_cos_df, x = 'cosine_distances', stat = 'count', bins = 25);"
   ]
  },
  {
   "cell_type": "code",
   "execution_count": 41,
   "id": "ce83a108",
   "metadata": {},
   "outputs": [
    {
     "data": {
      "text/html": [
       "<div>\n",
       "<style scoped>\n",
       "    .dataframe tbody tr th:only-of-type {\n",
       "        vertical-align: middle;\n",
       "    }\n",
       "\n",
       "    .dataframe tbody tr th {\n",
       "        vertical-align: top;\n",
       "    }\n",
       "\n",
       "    .dataframe thead th {\n",
       "        text-align: right;\n",
       "    }\n",
       "</style>\n",
       "<table border=\"1\" class=\"dataframe\">\n",
       "  <thead>\n",
       "    <tr style=\"text-align: right;\">\n",
       "      <th></th>\n",
       "      <th>cosine_distances</th>\n",
       "    </tr>\n",
       "  </thead>\n",
       "  <tbody>\n",
       "    <tr>\n",
       "      <th>count</th>\n",
       "      <td>126256.000000</td>\n",
       "    </tr>\n",
       "    <tr>\n",
       "      <th>mean</th>\n",
       "      <td>0.526808</td>\n",
       "    </tr>\n",
       "    <tr>\n",
       "      <th>std</th>\n",
       "      <td>0.073754</td>\n",
       "    </tr>\n",
       "    <tr>\n",
       "      <th>min</th>\n",
       "      <td>0.242617</td>\n",
       "    </tr>\n",
       "    <tr>\n",
       "      <th>25%</th>\n",
       "      <td>0.476516</td>\n",
       "    </tr>\n",
       "    <tr>\n",
       "      <th>50%</th>\n",
       "      <td>0.528374</td>\n",
       "    </tr>\n",
       "    <tr>\n",
       "      <th>75%</th>\n",
       "      <td>0.578748</td>\n",
       "    </tr>\n",
       "    <tr>\n",
       "      <th>max</th>\n",
       "      <td>0.783843</td>\n",
       "    </tr>\n",
       "  </tbody>\n",
       "</table>\n",
       "</div>"
      ],
      "text/plain": [
       "       cosine_distances\n",
       "count     126256.000000\n",
       "mean           0.526808\n",
       "std            0.073754\n",
       "min            0.242617\n",
       "25%            0.476516\n",
       "50%            0.528374\n",
       "75%            0.578748\n",
       "max            0.783843"
      ]
     },
     "execution_count": 41,
     "metadata": {},
     "output_type": "execute_result"
    }
   ],
   "source": [
    "# Descriptive statistics for inter-label cosine distances\n",
    "inter_cos_df.describe()"
   ]
  },
  {
   "cell_type": "code",
   "execution_count": 42,
   "id": "0f92b545",
   "metadata": {},
   "outputs": [
    {
     "data": {
      "image/png": "[encoded data removed]",
      "text/plain": [
       "<Figure size 640x480 with 1 Axes>"
      ]
     },
     "metadata": {},
     "output_type": "display_data"
    }
   ],
   "source": [
    "# Distribution of inter-label cosine distances\n",
    "sns.histplot(data = inter_cos_df, x = 'cosine_distances', stat = 'count', bins = 25);"
   ]
  },
  {
   "cell_type": "code",
   "execution_count": 43,
   "id": "ae2ca28c",
   "metadata": {},
   "outputs": [
    {
     "data": {
      "image/png": "[encoded data removed]",
      "text/plain": [
       "<Figure size 1500x1000 with 1 Axes>"
      ]
     },
     "metadata": {},
     "output_type": "display_data"
    }
   ],
   "source": [
    "# Overlaid distributes of inter- and intra-label l2 distances\n",
    "fig, ax = plt.subplots(figsize = (15, 10))\n",
    "\n",
    "sns.histplot(data = intra_cos_df, x = 'cosine_distances', stat = 'density', bins = 25, ax = ax);\n",
    "sns.histplot(data = inter_cos_df, x = 'cosine_distances', stat = 'density', bins = 25, ax = ax);"
   ]
  },
  {
   "cell_type": "code",
   "execution_count": 30,
   "id": "93de56ce",
   "metadata": {},
   "outputs": [
    {
     "data": {
      "image/png": "[encoded data removed]",
      "text/plain": [
       "<Figure size 1500x1000 with 1 Axes>"
      ]
     },
     "metadata": {},
     "output_type": "display_data"
    }
   ],
   "source": [
    "# Overlaid distributes of inter- and intra-label l2 distances\n",
    "fig, ax = plt.subplots(figsize = (15, 10))\n",
    "\n",
    "sns.kdeplot(data = intra_cos_df, x = 'cosine_distances', common_norm = True, ax = ax);\n",
    "sns.kdeplot(data = inter_cos_df, x = 'cosine_distances', common_norm = True, ax = ax);"
   ]
  },
  {
   "cell_type": "code",
   "execution_count": null,
   "id": "35daf865",
   "metadata": {},
   "outputs": [],
   "source": []
  },
  {
   "cell_type": "markdown",
   "id": "c77a3528",
   "metadata": {},
   "source": [
    "## Personal Images"
   ]
  },
  {
   "cell_type": "code",
   "execution_count": 18,
   "id": "5d0e9326",
   "metadata": {},
   "outputs": [],
   "source": [
    "intra_stem = 'personal_intra_distances_'\n",
    "inter_stem = 'personal_inter_distances_'\n",
    "intra_cos_path = os.path.join('../data/personal_images', intra_stem + 'cos.csv')\n",
    "intra_cos_df = pd.read_csv(intra_cos_path)\n",
    "inter_cos_df = dm.get_unbatched_frame(inter_stem, 'cos', root = '../data/personal_images')"
   ]
  },
  {
   "cell_type": "code",
   "execution_count": 23,
   "id": "36f08cb2",
   "metadata": {},
   "outputs": [
    {
     "data": {
      "image/png": "[encoded data removed]",
      "text/plain": [
       "<Figure size 1500x1000 with 1 Axes>"
      ]
     },
     "metadata": {},
     "output_type": "display_data"
    }
   ],
   "source": [
    "# Overlaid distributes of inter- and intra-label l2 distances\n",
    "fig, ax = plt.subplots(figsize = (15, 10))\n",
    "\n",
    "sns.histplot(data = intra_cos_df, x = 'cosine_distances', stat = 'density', bins = 10, ax = ax);\n",
    "sns.histplot(data = inter_cos_df, x = 'cosine_distances', stat = 'density', bins = 10, ax = ax);"
   ]
  },
  {
   "cell_type": "code",
   "execution_count": 26,
   "id": "758517bf",
   "metadata": {},
   "outputs": [],
   "source": [
    "intra_cos_df['type'] = 'intra'\n",
    "inter_cos_df['type'] = 'inter'\n",
    "cos_df = pd.concat([intra_cos_df, inter_cos_df])"
   ]
  },
  {
   "cell_type": "code",
   "execution_count": 30,
   "id": "325a8f64",
   "metadata": {},
   "outputs": [
    {
     "data": {
      "text/html": [
       "<div>\n",
       "<style scoped>\n",
       "    .dataframe tbody tr th:only-of-type {\n",
       "        vertical-align: middle;\n",
       "    }\n",
       "\n",
       "    .dataframe tbody tr th {\n",
       "        vertical-align: top;\n",
       "    }\n",
       "\n",
       "    .dataframe thead th {\n",
       "        text-align: right;\n",
       "    }\n",
       "</style>\n",
       "<table border=\"1\" class=\"dataframe\">\n",
       "  <thead>\n",
       "    <tr style=\"text-align: right;\">\n",
       "      <th></th>\n",
       "      <th>cosine_distances</th>\n",
       "    </tr>\n",
       "  </thead>\n",
       "  <tbody>\n",
       "    <tr>\n",
       "      <th>count</th>\n",
       "      <td>15.000000</td>\n",
       "    </tr>\n",
       "    <tr>\n",
       "      <th>mean</th>\n",
       "      <td>0.397418</td>\n",
       "    </tr>\n",
       "    <tr>\n",
       "      <th>std</th>\n",
       "      <td>0.137187</td>\n",
       "    </tr>\n",
       "    <tr>\n",
       "      <th>min</th>\n",
       "      <td>0.149522</td>\n",
       "    </tr>\n",
       "    <tr>\n",
       "      <th>25%</th>\n",
       "      <td>0.291633</td>\n",
       "    </tr>\n",
       "    <tr>\n",
       "      <th>50%</th>\n",
       "      <td>0.455461</td>\n",
       "    </tr>\n",
       "    <tr>\n",
       "      <th>75%</th>\n",
       "      <td>0.501131</td>\n",
       "    </tr>\n",
       "    <tr>\n",
       "      <th>max</th>\n",
       "      <td>0.533463</td>\n",
       "    </tr>\n",
       "  </tbody>\n",
       "</table>\n",
       "</div>"
      ],
      "text/plain": [
       "       cosine_distances\n",
       "count         15.000000\n",
       "mean           0.397418\n",
       "std            0.137187\n",
       "min            0.149522\n",
       "25%            0.291633\n",
       "50%            0.455461\n",
       "75%            0.501131\n",
       "max            0.533463"
      ]
     },
     "execution_count": 30,
     "metadata": {},
     "output_type": "execute_result"
    }
   ],
   "source": [
    "cos_df.loc[cos_df.type == 'intra'].describe()"
   ]
  },
  {
   "cell_type": "code",
   "execution_count": 31,
   "id": "11071a9a",
   "metadata": {},
   "outputs": [
    {
     "data": {
      "text/html": [
       "<div>\n",
       "<style scoped>\n",
       "    .dataframe tbody tr th:only-of-type {\n",
       "        vertical-align: middle;\n",
       "    }\n",
       "\n",
       "    .dataframe tbody tr th {\n",
       "        vertical-align: top;\n",
       "    }\n",
       "\n",
       "    .dataframe thead th {\n",
       "        text-align: right;\n",
       "    }\n",
       "</style>\n",
       "<table border=\"1\" class=\"dataframe\">\n",
       "  <thead>\n",
       "    <tr style=\"text-align: right;\">\n",
       "      <th></th>\n",
       "      <th>cosine_distances</th>\n",
       "    </tr>\n",
       "  </thead>\n",
       "  <tbody>\n",
       "    <tr>\n",
       "      <th>count</th>\n",
       "      <td>40.000000</td>\n",
       "    </tr>\n",
       "    <tr>\n",
       "      <th>mean</th>\n",
       "      <td>0.524977</td>\n",
       "    </tr>\n",
       "    <tr>\n",
       "      <th>std</th>\n",
       "      <td>0.073801</td>\n",
       "    </tr>\n",
       "    <tr>\n",
       "      <th>min</th>\n",
       "      <td>0.338761</td>\n",
       "    </tr>\n",
       "    <tr>\n",
       "      <th>25%</th>\n",
       "      <td>0.475613</td>\n",
       "    </tr>\n",
       "    <tr>\n",
       "      <th>50%</th>\n",
       "      <td>0.527895</td>\n",
       "    </tr>\n",
       "    <tr>\n",
       "      <th>75%</th>\n",
       "      <td>0.590928</td>\n",
       "    </tr>\n",
       "    <tr>\n",
       "      <th>max</th>\n",
       "      <td>0.643930</td>\n",
       "    </tr>\n",
       "  </tbody>\n",
       "</table>\n",
       "</div>"
      ],
      "text/plain": [
       "       cosine_distances\n",
       "count         40.000000\n",
       "mean           0.524977\n",
       "std            0.073801\n",
       "min            0.338761\n",
       "25%            0.475613\n",
       "50%            0.527895\n",
       "75%            0.590928\n",
       "max            0.643930"
      ]
     },
     "execution_count": 31,
     "metadata": {},
     "output_type": "execute_result"
    }
   ],
   "source": [
    "cos_df.loc[cos_df.type == 'inter'].describe()"
   ]
  },
  {
   "cell_type": "markdown",
   "id": "b426b12e",
   "metadata": {},
   "source": [
    "## Personal Images Batch 2"
   ]
  },
  {
   "cell_type": "code",
   "execution_count": 27,
   "id": "d193c424",
   "metadata": {},
   "outputs": [],
   "source": [
    "intra_stem = 'personal_intra_distances_'\n",
    "inter_stem = 'personal_inter_distances_'\n",
    "intra_cos_path = os.path.join('../data/personal_images_batch2', intra_stem + 'cos.csv')\n",
    "intra_cos_df = pd.read_csv(intra_cos_path)\n",
    "inter_cos_df = dm.get_unbatched_frame(inter_stem, 'cos', root = '../data/personal_images_batch2')"
   ]
  },
  {
   "cell_type": "code",
   "execution_count": 28,
   "id": "f6d7fc1c",
   "metadata": {},
   "outputs": [
    {
     "data": {
      "image/png": "[encoded data removed]",
      "text/plain": [
       "<Figure size 1500x1000 with 1 Axes>"
      ]
     },
     "metadata": {},
     "output_type": "display_data"
    }
   ],
   "source": [
    "# Overlaid distributes of inter- and intra-label l2 distances\n",
    "fig, ax = plt.subplots(figsize = (15, 10))\n",
    "\n",
    "sns.histplot(data = intra_cos_df, x = 'cosine_distances', stat = 'proportion', bins = 10, ax = ax);\n",
    "sns.histplot(data = inter_cos_df, x = 'cosine_distances', stat = 'proportion', bins = 10, ax = ax);"
   ]
  },
  {
   "cell_type": "code",
   "execution_count": null,
   "id": "1d474273",
   "metadata": {},
   "outputs": [],
   "source": []
  },
  {
   "cell_type": "code",
   "execution_count": null,
   "id": "4aac5140",
   "metadata": {},
   "outputs": [],
   "source": []
  },
  {
   "cell_type": "markdown",
   "id": "8ad2bd4f",
   "metadata": {},
   "source": [
    "# Investigation into Metrics"
   ]
  },
  {
   "cell_type": "code",
   "execution_count": 2,
   "id": "1f306c97",
   "metadata": {},
   "outputs": [],
   "source": [
    "intra_stem = 'random_sample_intra_distances_'\n",
    "inter_stem = 'random_sample_inter_distances_'\n",
    "intra_cos_path = os.path.join('../data/vectorized', intra_stem + 'cos.csv')\n",
    "intra_cos_df = pd.read_csv(intra_cos_path)\n",
    "inter_cos_df = dm.get_unbatched_frame(inter_stem, 'cos')"
   ]
  },
  {
   "cell_type": "code",
   "execution_count": 78,
   "id": "e44f5ec0",
   "metadata": {},
   "outputs": [],
   "source": [
    "intra_cos_df['type'] = 'intra'\n",
    "inter_cos_df['type'] = 'inter'\n",
    "sample_cos_df = pd.concat([intra_cos_df, inter_cos_df])"
   ]
  },
  {
   "cell_type": "code",
   "execution_count": 79,
   "id": "61c60081",
   "metadata": {},
   "outputs": [],
   "source": [
    "intra_mean = intra_cos_df['cosine_distances'].mean()\n",
    "intra_std = intra_cos_df['cosine_distances'].std()"
   ]
  },
  {
   "cell_type": "code",
   "execution_count": 80,
   "id": "37ac57e7",
   "metadata": {},
   "outputs": [],
   "source": [
    "inter_mean = inter_cos_df['cosine_distances'].mean()\n",
    "inter_std = inter_cos_df['cosine_distances'].std()"
   ]
  },
  {
   "cell_type": "code",
   "execution_count": 81,
   "id": "57c620b4",
   "metadata": {},
   "outputs": [],
   "source": [
    "iterative_thresholds = np.linspace(0.1, 0.9, 100).tolist()"
   ]
  },
  {
   "cell_type": "code",
   "execution_count": 82,
   "id": "c91588d0",
   "metadata": {},
   "outputs": [],
   "source": [
    "for thresh in iterative_thresholds:\n",
    "    sample_cos_df[f'iterative_{thresh:.04f}'] = sample_cos_df.cosine_distances.apply(lambda x: int(x < thresh))"
   ]
  },
  {
   "cell_type": "code",
   "execution_count": 83,
   "id": "25bc756f",
   "metadata": {},
   "outputs": [],
   "source": [
    "# Because each threshold columns has 1 for true and 0 for false, mean = positive count / total count\n",
    "groupby = sample_cos_df.drop('cosine_distances', axis = 1).groupby(['type']).mean()"
   ]
  },
  {
   "cell_type": "code",
   "execution_count": 84,
   "id": "2c003b15",
   "metadata": {},
   "outputs": [
    {
     "data": {
      "text/html": [
       "<div>\n",
       "<style scoped>\n",
       "    .dataframe tbody tr th:only-of-type {\n",
       "        vertical-align: middle;\n",
       "    }\n",
       "\n",
       "    .dataframe tbody tr th {\n",
       "        vertical-align: top;\n",
       "    }\n",
       "\n",
       "    .dataframe thead th {\n",
       "        text-align: right;\n",
       "    }\n",
       "</style>\n",
       "<table border=\"1\" class=\"dataframe\">\n",
       "  <thead>\n",
       "    <tr style=\"text-align: right;\">\n",
       "      <th></th>\n",
       "      <th>iterative_0.1000</th>\n",
       "      <th>iterative_0.1081</th>\n",
       "      <th>iterative_0.1162</th>\n",
       "      <th>iterative_0.1242</th>\n",
       "      <th>iterative_0.1323</th>\n",
       "      <th>iterative_0.1404</th>\n",
       "      <th>iterative_0.1485</th>\n",
       "      <th>iterative_0.1566</th>\n",
       "      <th>iterative_0.1646</th>\n",
       "      <th>iterative_0.1727</th>\n",
       "      <th>...</th>\n",
       "      <th>iterative_0.8273</th>\n",
       "      <th>iterative_0.8354</th>\n",
       "      <th>iterative_0.8434</th>\n",
       "      <th>iterative_0.8515</th>\n",
       "      <th>iterative_0.8596</th>\n",
       "      <th>iterative_0.8677</th>\n",
       "      <th>iterative_0.8758</th>\n",
       "      <th>iterative_0.8838</th>\n",
       "      <th>iterative_0.8919</th>\n",
       "      <th>iterative_0.9000</th>\n",
       "    </tr>\n",
       "    <tr>\n",
       "      <th>type</th>\n",
       "      <th></th>\n",
       "      <th></th>\n",
       "      <th></th>\n",
       "      <th></th>\n",
       "      <th></th>\n",
       "      <th></th>\n",
       "      <th></th>\n",
       "      <th></th>\n",
       "      <th></th>\n",
       "      <th></th>\n",
       "      <th></th>\n",
       "      <th></th>\n",
       "      <th></th>\n",
       "      <th></th>\n",
       "      <th></th>\n",
       "      <th></th>\n",
       "      <th></th>\n",
       "      <th></th>\n",
       "      <th></th>\n",
       "      <th></th>\n",
       "      <th></th>\n",
       "    </tr>\n",
       "  </thead>\n",
       "  <tbody>\n",
       "    <tr>\n",
       "      <th>inter</th>\n",
       "      <td>0.000</td>\n",
       "      <td>0.000</td>\n",
       "      <td>0.00</td>\n",
       "      <td>0.000</td>\n",
       "      <td>0.00</td>\n",
       "      <td>0.00</td>\n",
       "      <td>0.000</td>\n",
       "      <td>0.00</td>\n",
       "      <td>0.000</td>\n",
       "      <td>0.000</td>\n",
       "      <td>...</td>\n",
       "      <td>1.0</td>\n",
       "      <td>1.0</td>\n",
       "      <td>1.0</td>\n",
       "      <td>1.0</td>\n",
       "      <td>1.0</td>\n",
       "      <td>1.0</td>\n",
       "      <td>1.0</td>\n",
       "      <td>1.0</td>\n",
       "      <td>1.0</td>\n",
       "      <td>1.0</td>\n",
       "    </tr>\n",
       "    <tr>\n",
       "      <th>intra</th>\n",
       "      <td>0.006</td>\n",
       "      <td>0.008</td>\n",
       "      <td>0.01</td>\n",
       "      <td>0.014</td>\n",
       "      <td>0.02</td>\n",
       "      <td>0.02</td>\n",
       "      <td>0.026</td>\n",
       "      <td>0.03</td>\n",
       "      <td>0.036</td>\n",
       "      <td>0.044</td>\n",
       "      <td>...</td>\n",
       "      <td>1.0</td>\n",
       "      <td>1.0</td>\n",
       "      <td>1.0</td>\n",
       "      <td>1.0</td>\n",
       "      <td>1.0</td>\n",
       "      <td>1.0</td>\n",
       "      <td>1.0</td>\n",
       "      <td>1.0</td>\n",
       "      <td>1.0</td>\n",
       "      <td>1.0</td>\n",
       "    </tr>\n",
       "  </tbody>\n",
       "</table>\n",
       "<p>2 rows × 100 columns</p>\n",
       "</div>"
      ],
      "text/plain": [
       "       iterative_0.1000  iterative_0.1081  iterative_0.1162  iterative_0.1242  \\\n",
       "type                                                                            \n",
       "inter             0.000             0.000              0.00             0.000   \n",
       "intra             0.006             0.008              0.01             0.014   \n",
       "\n",
       "       iterative_0.1323  iterative_0.1404  iterative_0.1485  iterative_0.1566  \\\n",
       "type                                                                            \n",
       "inter              0.00              0.00             0.000              0.00   \n",
       "intra              0.02              0.02             0.026              0.03   \n",
       "\n",
       "       iterative_0.1646  iterative_0.1727  ...  iterative_0.8273  \\\n",
       "type                                       ...                     \n",
       "inter             0.000             0.000  ...               1.0   \n",
       "intra             0.036             0.044  ...               1.0   \n",
       "\n",
       "       iterative_0.8354  iterative_0.8434  iterative_0.8515  iterative_0.8596  \\\n",
       "type                                                                            \n",
       "inter               1.0               1.0               1.0               1.0   \n",
       "intra               1.0               1.0               1.0               1.0   \n",
       "\n",
       "       iterative_0.8677  iterative_0.8758  iterative_0.8838  iterative_0.8919  \\\n",
       "type                                                                            \n",
       "inter               1.0               1.0               1.0               1.0   \n",
       "intra               1.0               1.0               1.0               1.0   \n",
       "\n",
       "       iterative_0.9000  \n",
       "type                     \n",
       "inter               1.0  \n",
       "intra               1.0  \n",
       "\n",
       "[2 rows x 100 columns]"
      ]
     },
     "execution_count": 84,
     "metadata": {},
     "output_type": "execute_result"
    }
   ],
   "source": [
    "groupby"
   ]
  },
  {
   "cell_type": "code",
   "execution_count": 85,
   "id": "63d7fb6b",
   "metadata": {},
   "outputs": [],
   "source": [
    "threshold_columns = groupby.columns.values"
   ]
  },
  {
   "cell_type": "code",
   "execution_count": 86,
   "id": "b9410647",
   "metadata": {},
   "outputs": [],
   "source": [
    "class0_num, class1_num = sample_cos_df['type'].value_counts().values"
   ]
  },
  {
   "cell_type": "code",
   "execution_count": 87,
   "id": "327d41f8",
   "metadata": {},
   "outputs": [],
   "source": [
    "tprs, tnrs, fprs, fnrs = zip(*[st.expand_classification_rates(groupby.iloc[1][i], groupby.iloc[0][i])\n",
    "                          for i in range(len(threshold_columns))])"
   ]
  },
  {
   "cell_type": "code",
   "execution_count": 88,
   "id": "a5986745",
   "metadata": {},
   "outputs": [],
   "source": [
    "tps, tns, fps, fns = zip(*[st.classification_rates_to_nominal(tprs[i], tnrs[i], fprs[i], fnrs[i], class1_num, class0_num)\n",
    "                          for i in range(len(threshold_columns))])"
   ]
  },
  {
   "cell_type": "code",
   "execution_count": 89,
   "id": "b1a37455",
   "metadata": {},
   "outputs": [],
   "source": [
    "prevalences = [st.prevalence(tps[i], fns[i], class1_num + class0_num) for i in range(len(threshold_columns))]\n",
    "biases = [st.bias(tps[i], fps[i], class1_num + class0_num) for i in range(len(threshold_columns))]"
   ]
  },
  {
   "cell_type": "code",
   "execution_count": 90,
   "id": "a6ea6234",
   "metadata": {},
   "outputs": [],
   "source": [
    "balanced_accuracies = [st.balanced_accuracy_binary(tprs[i], tnrs[i]) for i in range(len(threshold_columns))]\n",
    "precisions = [st.class_precision(tprs[i], fprs[i], class1_num, class0_num) for i in range(len(threshold_columns))]\n",
    "informednesses = [st.informedness(tprs[i], tnrs[i]) for i in range(len(threshold_columns))]\n",
    "markednesses = [st.markedness(tprs[i], fprs[i], class1_num, class0_num) for i in range(len(threshold_columns))]\n",
    "mccs = [st.matthews_cc(tps[i], tns[i], fps[i], fns[i]) for i in range(len(threshold_columns))]"
   ]
  },
  {
   "cell_type": "code",
   "execution_count": 91,
   "id": "cdc06af4",
   "metadata": {},
   "outputs": [],
   "source": [
    "metrics_table = pd.DataFrame(columns = ['threshold_type', 'threshold_value',\n",
    "                                        'balanced_accuracy', 'precision', 'recall',\n",
    "                                        'f1_score', 'informedness', 'markedness', 'matthews_cc',\n",
    "                                        'prevalence', 'bias'])"
   ]
  },
  {
   "cell_type": "code",
   "execution_count": 92,
   "id": "7ca4328c",
   "metadata": {},
   "outputs": [],
   "source": [
    "metrics_table.threshold_type = threshold_columns\n",
    "metrics_table.threshold_value = iterative_thresholds\n",
    "metrics_table.balanced_accuracy = balanced_accuracies\n",
    "metrics_table.precision = precisions\n",
    "metrics_table.recall = tprs\n",
    "metrics_table.f1_score = 2 * (metrics_table.precision * metrics_table.recall) / (metrics_table.precision + metrics_table.recall)\n",
    "metrics_table.informedness = informednesses\n",
    "metrics_table.markedness = markednesses\n",
    "metrics_table.matthews_cc = mccs\n",
    "metrics_table.prevalence = prevalences\n",
    "metrics_table.bias = biases"
   ]
  },
  {
   "cell_type": "code",
   "execution_count": 93,
   "id": "bfc26819",
   "metadata": {},
   "outputs": [
    {
     "data": {
      "text/html": [
       "<div>\n",
       "<style scoped>\n",
       "    .dataframe tbody tr th:only-of-type {\n",
       "        vertical-align: middle;\n",
       "    }\n",
       "\n",
       "    .dataframe tbody tr th {\n",
       "        vertical-align: top;\n",
       "    }\n",
       "\n",
       "    .dataframe thead th {\n",
       "        text-align: right;\n",
       "    }\n",
       "</style>\n",
       "<table border=\"1\" class=\"dataframe\">\n",
       "  <thead>\n",
       "    <tr style=\"text-align: right;\">\n",
       "      <th></th>\n",
       "      <th>threshold_type</th>\n",
       "      <th>threshold_value</th>\n",
       "      <th>balanced_accuracy</th>\n",
       "      <th>precision</th>\n",
       "      <th>recall</th>\n",
       "      <th>f1_score</th>\n",
       "      <th>informedness</th>\n",
       "      <th>markedness</th>\n",
       "      <th>matthews_cc</th>\n",
       "      <th>prevalence</th>\n",
       "      <th>bias</th>\n",
       "    </tr>\n",
       "  </thead>\n",
       "  <tbody>\n",
       "    <tr>\n",
       "      <th>0</th>\n",
       "      <td>iterative_0.1000</td>\n",
       "      <td>0.100000</td>\n",
       "      <td>0.503</td>\n",
       "      <td>1.000000</td>\n",
       "      <td>0.006</td>\n",
       "      <td>0.011928</td>\n",
       "      <td>0.006</td>\n",
       "      <td>0.996079</td>\n",
       "      <td>0.077308</td>\n",
       "      <td>0.003945</td>\n",
       "      <td>0.000024</td>\n",
       "    </tr>\n",
       "    <tr>\n",
       "      <th>1</th>\n",
       "      <td>iterative_0.1081</td>\n",
       "      <td>0.108081</td>\n",
       "      <td>0.504</td>\n",
       "      <td>1.000000</td>\n",
       "      <td>0.008</td>\n",
       "      <td>0.015873</td>\n",
       "      <td>0.008</td>\n",
       "      <td>0.996087</td>\n",
       "      <td>0.089268</td>\n",
       "      <td>0.003945</td>\n",
       "      <td>0.000032</td>\n",
       "    </tr>\n",
       "    <tr>\n",
       "      <th>2</th>\n",
       "      <td>iterative_0.1162</td>\n",
       "      <td>0.116162</td>\n",
       "      <td>0.505</td>\n",
       "      <td>1.000000</td>\n",
       "      <td>0.010</td>\n",
       "      <td>0.019802</td>\n",
       "      <td>0.010</td>\n",
       "      <td>0.996095</td>\n",
       "      <td>0.099805</td>\n",
       "      <td>0.003945</td>\n",
       "      <td>0.000039</td>\n",
       "    </tr>\n",
       "    <tr>\n",
       "      <th>3</th>\n",
       "      <td>iterative_0.1242</td>\n",
       "      <td>0.124242</td>\n",
       "      <td>0.507</td>\n",
       "      <td>1.000000</td>\n",
       "      <td>0.014</td>\n",
       "      <td>0.027613</td>\n",
       "      <td>0.014</td>\n",
       "      <td>0.996110</td>\n",
       "      <td>0.118091</td>\n",
       "      <td>0.003945</td>\n",
       "      <td>0.000055</td>\n",
       "    </tr>\n",
       "    <tr>\n",
       "      <th>4</th>\n",
       "      <td>iterative_0.1323</td>\n",
       "      <td>0.132323</td>\n",
       "      <td>0.510</td>\n",
       "      <td>1.000000</td>\n",
       "      <td>0.020</td>\n",
       "      <td>0.039216</td>\n",
       "      <td>0.020</td>\n",
       "      <td>0.996134</td>\n",
       "      <td>0.141148</td>\n",
       "      <td>0.003945</td>\n",
       "      <td>0.000079</td>\n",
       "    </tr>\n",
       "    <tr>\n",
       "      <th>...</th>\n",
       "      <td>...</td>\n",
       "      <td>...</td>\n",
       "      <td>...</td>\n",
       "      <td>...</td>\n",
       "      <td>...</td>\n",
       "      <td>...</td>\n",
       "      <td>...</td>\n",
       "      <td>...</td>\n",
       "      <td>...</td>\n",
       "      <td>...</td>\n",
       "      <td>...</td>\n",
       "    </tr>\n",
       "    <tr>\n",
       "      <th>95</th>\n",
       "      <td>iterative_0.8677</td>\n",
       "      <td>0.867677</td>\n",
       "      <td>0.500</td>\n",
       "      <td>0.003945</td>\n",
       "      <td>1.000</td>\n",
       "      <td>0.007858</td>\n",
       "      <td>0.000</td>\n",
       "      <td>NaN</td>\n",
       "      <td>NaN</td>\n",
       "      <td>0.003945</td>\n",
       "      <td>1.000000</td>\n",
       "    </tr>\n",
       "    <tr>\n",
       "      <th>96</th>\n",
       "      <td>iterative_0.8758</td>\n",
       "      <td>0.875758</td>\n",
       "      <td>0.500</td>\n",
       "      <td>0.003945</td>\n",
       "      <td>1.000</td>\n",
       "      <td>0.007858</td>\n",
       "      <td>0.000</td>\n",
       "      <td>NaN</td>\n",
       "      <td>NaN</td>\n",
       "      <td>0.003945</td>\n",
       "      <td>1.000000</td>\n",
       "    </tr>\n",
       "    <tr>\n",
       "      <th>97</th>\n",
       "      <td>iterative_0.8838</td>\n",
       "      <td>0.883838</td>\n",
       "      <td>0.500</td>\n",
       "      <td>0.003945</td>\n",
       "      <td>1.000</td>\n",
       "      <td>0.007858</td>\n",
       "      <td>0.000</td>\n",
       "      <td>NaN</td>\n",
       "      <td>NaN</td>\n",
       "      <td>0.003945</td>\n",
       "      <td>1.000000</td>\n",
       "    </tr>\n",
       "    <tr>\n",
       "      <th>98</th>\n",
       "      <td>iterative_0.8919</td>\n",
       "      <td>0.891919</td>\n",
       "      <td>0.500</td>\n",
       "      <td>0.003945</td>\n",
       "      <td>1.000</td>\n",
       "      <td>0.007858</td>\n",
       "      <td>0.000</td>\n",
       "      <td>NaN</td>\n",
       "      <td>NaN</td>\n",
       "      <td>0.003945</td>\n",
       "      <td>1.000000</td>\n",
       "    </tr>\n",
       "    <tr>\n",
       "      <th>99</th>\n",
       "      <td>iterative_0.9000</td>\n",
       "      <td>0.900000</td>\n",
       "      <td>0.500</td>\n",
       "      <td>0.003945</td>\n",
       "      <td>1.000</td>\n",
       "      <td>0.007858</td>\n",
       "      <td>0.000</td>\n",
       "      <td>NaN</td>\n",
       "      <td>NaN</td>\n",
       "      <td>0.003945</td>\n",
       "      <td>1.000000</td>\n",
       "    </tr>\n",
       "  </tbody>\n",
       "</table>\n",
       "<p>100 rows × 11 columns</p>\n",
       "</div>"
      ],
      "text/plain": [
       "      threshold_type  threshold_value  balanced_accuracy  precision  recall  \\\n",
       "0   iterative_0.1000         0.100000              0.503   1.000000   0.006   \n",
       "1   iterative_0.1081         0.108081              0.504   1.000000   0.008   \n",
       "2   iterative_0.1162         0.116162              0.505   1.000000   0.010   \n",
       "3   iterative_0.1242         0.124242              0.507   1.000000   0.014   \n",
       "4   iterative_0.1323         0.132323              0.510   1.000000   0.020   \n",
       "..               ...              ...                ...        ...     ...   \n",
       "95  iterative_0.8677         0.867677              0.500   0.003945   1.000   \n",
       "96  iterative_0.8758         0.875758              0.500   0.003945   1.000   \n",
       "97  iterative_0.8838         0.883838              0.500   0.003945   1.000   \n",
       "98  iterative_0.8919         0.891919              0.500   0.003945   1.000   \n",
       "99  iterative_0.9000         0.900000              0.500   0.003945   1.000   \n",
       "\n",
       "    f1_score  informedness  markedness  matthews_cc  prevalence      bias  \n",
       "0   0.011928         0.006    0.996079     0.077308    0.003945  0.000024  \n",
       "1   0.015873         0.008    0.996087     0.089268    0.003945  0.000032  \n",
       "2   0.019802         0.010    0.996095     0.099805    0.003945  0.000039  \n",
       "3   0.027613         0.014    0.996110     0.118091    0.003945  0.000055  \n",
       "4   0.039216         0.020    0.996134     0.141148    0.003945  0.000079  \n",
       "..       ...           ...         ...          ...         ...       ...  \n",
       "95  0.007858         0.000         NaN          NaN    0.003945  1.000000  \n",
       "96  0.007858         0.000         NaN          NaN    0.003945  1.000000  \n",
       "97  0.007858         0.000         NaN          NaN    0.003945  1.000000  \n",
       "98  0.007858         0.000         NaN          NaN    0.003945  1.000000  \n",
       "99  0.007858         0.000         NaN          NaN    0.003945  1.000000  \n",
       "\n",
       "[100 rows x 11 columns]"
      ]
     },
     "execution_count": 93,
     "metadata": {},
     "output_type": "execute_result"
    }
   ],
   "source": [
    "metrics_table"
   ]
  },
  {
   "cell_type": "code",
   "execution_count": 100,
   "id": "df90ffff",
   "metadata": {},
   "outputs": [
    {
     "data": {
      "image/png": "[encoded data removed]",
      "text/plain": [
       "<Figure size 640x480 with 1 Axes>"
      ]
     },
     "metadata": {},
     "output_type": "display_data"
    }
   ],
   "source": [
    "auc_score = auc(metrics_table.recall, metrics_table.precision)\n",
    "class1_ratio = class1_num / (class1_num + class0_num)\n",
    "prc = PrecisionRecallDisplay(metrics_table.precision, metrics_table.recall);\n",
    "prc.plot();\n",
    "hline = plt.axhline(y = class1_ratio, linestyle = '--', color = 'k');\n",
    "plt.title('Precision-Recall Curve on Ghosh-Preprocessed Sampled LFW')\n",
    "plt.legend([prc.line_, hline], [f'Precision-Recall Curve (AUC: {auc_score:.04f})',\n",
    "                                f'Unskilled Baseline (AUC: {class1_ratio:.04f})']);"
   ]
  },
  {
   "cell_type": "code",
   "execution_count": 95,
   "id": "94e898db",
   "metadata": {},
   "outputs": [
    {
     "data": {
      "text/html": [
       "<div>\n",
       "<style scoped>\n",
       "    .dataframe tbody tr th:only-of-type {\n",
       "        vertical-align: middle;\n",
       "    }\n",
       "\n",
       "    .dataframe tbody tr th {\n",
       "        vertical-align: top;\n",
       "    }\n",
       "\n",
       "    .dataframe thead th {\n",
       "        text-align: right;\n",
       "    }\n",
       "</style>\n",
       "<table border=\"1\" class=\"dataframe\">\n",
       "  <thead>\n",
       "    <tr style=\"text-align: right;\">\n",
       "      <th></th>\n",
       "      <th>threshold_type</th>\n",
       "      <th>threshold_value</th>\n",
       "      <th>balanced_accuracy</th>\n",
       "      <th>precision</th>\n",
       "      <th>recall</th>\n",
       "      <th>f1_score</th>\n",
       "      <th>informedness</th>\n",
       "      <th>markedness</th>\n",
       "      <th>matthews_cc</th>\n",
       "      <th>prevalence</th>\n",
       "      <th>bias</th>\n",
       "    </tr>\n",
       "  </thead>\n",
       "  <tbody>\n",
       "    <tr>\n",
       "      <th>19</th>\n",
       "      <td>iterative_0.2535</td>\n",
       "      <td>0.253535</td>\n",
       "      <td>0.584996</td>\n",
       "      <td>0.988372</td>\n",
       "      <td>0.170</td>\n",
       "      <td>0.290102</td>\n",
       "      <td>0.169992</td>\n",
       "      <td>0.985096</td>\n",
       "      <td>0.409217</td>\n",
       "      <td>0.003945</td>\n",
       "      <td>0.000678</td>\n",
       "    </tr>\n",
       "    <tr>\n",
       "      <th>20</th>\n",
       "      <td>iterative_0.2616</td>\n",
       "      <td>0.261616</td>\n",
       "      <td>0.591976</td>\n",
       "      <td>0.938776</td>\n",
       "      <td>0.184</td>\n",
       "      <td>0.307692</td>\n",
       "      <td>0.183952</td>\n",
       "      <td>0.935554</td>\n",
       "      <td>0.414846</td>\n",
       "      <td>0.003945</td>\n",
       "      <td>0.000773</td>\n",
       "    </tr>\n",
       "    <tr>\n",
       "      <th>21</th>\n",
       "      <td>iterative_0.2697</td>\n",
       "      <td>0.269697</td>\n",
       "      <td>0.604952</td>\n",
       "      <td>0.897436</td>\n",
       "      <td>0.210</td>\n",
       "      <td>0.340357</td>\n",
       "      <td>0.209905</td>\n",
       "      <td>0.894317</td>\n",
       "      <td>0.433268</td>\n",
       "      <td>0.003945</td>\n",
       "      <td>0.000923</td>\n",
       "    </tr>\n",
       "    <tr>\n",
       "      <th>22</th>\n",
       "      <td>iterative_0.2778</td>\n",
       "      <td>0.277778</td>\n",
       "      <td>0.609885</td>\n",
       "      <td>0.791367</td>\n",
       "      <td>0.220</td>\n",
       "      <td>0.344288</td>\n",
       "      <td>0.219770</td>\n",
       "      <td>0.788287</td>\n",
       "      <td>0.416224</td>\n",
       "      <td>0.003945</td>\n",
       "      <td>0.001097</td>\n",
       "    </tr>\n",
       "    <tr>\n",
       "      <th>23</th>\n",
       "      <td>iterative_0.2859</td>\n",
       "      <td>0.285859</td>\n",
       "      <td>0.619794</td>\n",
       "      <td>0.697674</td>\n",
       "      <td>0.240</td>\n",
       "      <td>0.357143</td>\n",
       "      <td>0.239588</td>\n",
       "      <td>0.694672</td>\n",
       "      <td>0.407965</td>\n",
       "      <td>0.003945</td>\n",
       "      <td>0.001357</td>\n",
       "    </tr>\n",
       "  </tbody>\n",
       "</table>\n",
       "</div>"
      ],
      "text/plain": [
       "      threshold_type  threshold_value  balanced_accuracy  precision  recall  \\\n",
       "19  iterative_0.2535         0.253535           0.584996   0.988372   0.170   \n",
       "20  iterative_0.2616         0.261616           0.591976   0.938776   0.184   \n",
       "21  iterative_0.2697         0.269697           0.604952   0.897436   0.210   \n",
       "22  iterative_0.2778         0.277778           0.609885   0.791367   0.220   \n",
       "23  iterative_0.2859         0.285859           0.619794   0.697674   0.240   \n",
       "\n",
       "    f1_score  informedness  markedness  matthews_cc  prevalence      bias  \n",
       "19  0.290102      0.169992    0.985096     0.409217    0.003945  0.000678  \n",
       "20  0.307692      0.183952    0.935554     0.414846    0.003945  0.000773  \n",
       "21  0.340357      0.209905    0.894317     0.433268    0.003945  0.000923  \n",
       "22  0.344288      0.219770    0.788287     0.416224    0.003945  0.001097  \n",
       "23  0.357143      0.239588    0.694672     0.407965    0.003945  0.001357  "
      ]
     },
     "execution_count": 95,
     "metadata": {},
     "output_type": "execute_result"
    }
   ],
   "source": [
    "metrics_table.loc[metrics_table.threshold_value >= 0.25].sort_values('precision', ascending = False).head()"
   ]
  },
  {
   "cell_type": "code",
   "execution_count": 103,
   "id": "54825eeb",
   "metadata": {},
   "outputs": [
    {
     "data": {
      "text/html": [
       "<div>\n",
       "<style scoped>\n",
       "    .dataframe tbody tr th:only-of-type {\n",
       "        vertical-align: middle;\n",
       "    }\n",
       "\n",
       "    .dataframe tbody tr th {\n",
       "        vertical-align: top;\n",
       "    }\n",
       "\n",
       "    .dataframe thead th {\n",
       "        text-align: right;\n",
       "    }\n",
       "</style>\n",
       "<table border=\"1\" class=\"dataframe\">\n",
       "  <thead>\n",
       "    <tr style=\"text-align: right;\">\n",
       "      <th></th>\n",
       "      <th>threshold_type</th>\n",
       "      <th>threshold_value</th>\n",
       "      <th>balanced_accuracy</th>\n",
       "      <th>precision</th>\n",
       "      <th>recall</th>\n",
       "      <th>f1_score</th>\n",
       "      <th>informedness</th>\n",
       "      <th>markedness</th>\n",
       "      <th>matthews_cc</th>\n",
       "      <th>prevalence</th>\n",
       "      <th>bias</th>\n",
       "    </tr>\n",
       "  </thead>\n",
       "  <tbody>\n",
       "    <tr>\n",
       "      <th>43</th>\n",
       "      <td>iterative_0.4475</td>\n",
       "      <td>0.447475</td>\n",
       "      <td>0.812796</td>\n",
       "      <td>0.020455</td>\n",
       "      <td>0.772</td>\n",
       "      <td>0.039853</td>\n",
       "      <td>0.625591</td>\n",
       "      <td>0.019398</td>\n",
       "      <td>0.110160</td>\n",
       "      <td>0.003945</td>\n",
       "      <td>0.148877</td>\n",
       "    </tr>\n",
       "    <tr>\n",
       "      <th>42</th>\n",
       "      <td>iterative_0.4394</td>\n",
       "      <td>0.439394</td>\n",
       "      <td>0.811724</td>\n",
       "      <td>0.023539</td>\n",
       "      <td>0.746</td>\n",
       "      <td>0.045638</td>\n",
       "      <td>0.623447</td>\n",
       "      <td>0.022394</td>\n",
       "      <td>0.118159</td>\n",
       "      <td>0.003945</td>\n",
       "      <td>0.125012</td>\n",
       "    </tr>\n",
       "    <tr>\n",
       "      <th>44</th>\n",
       "      <td>iterative_0.4556</td>\n",
       "      <td>0.455556</td>\n",
       "      <td>0.811063</td>\n",
       "      <td>0.017966</td>\n",
       "      <td>0.794</td>\n",
       "      <td>0.035137</td>\n",
       "      <td>0.622127</td>\n",
       "      <td>0.016982</td>\n",
       "      <td>0.102786</td>\n",
       "      <td>0.003945</td>\n",
       "      <td>0.174327</td>\n",
       "    </tr>\n",
       "    <tr>\n",
       "      <th>41</th>\n",
       "      <td>iterative_0.4313</td>\n",
       "      <td>0.431313</td>\n",
       "      <td>0.811052</td>\n",
       "      <td>0.027368</td>\n",
       "      <td>0.724</td>\n",
       "      <td>0.052743</td>\n",
       "      <td>0.622104</td>\n",
       "      <td>0.026153</td>\n",
       "      <td>0.127553</td>\n",
       "      <td>0.003945</td>\n",
       "      <td>0.104350</td>\n",
       "    </tr>\n",
       "    <tr>\n",
       "      <th>40</th>\n",
       "      <td>iterative_0.4232</td>\n",
       "      <td>0.423232</td>\n",
       "      <td>0.810026</td>\n",
       "      <td>0.032143</td>\n",
       "      <td>0.704</td>\n",
       "      <td>0.061479</td>\n",
       "      <td>0.620052</td>\n",
       "      <td>0.030865</td>\n",
       "      <td>0.138340</td>\n",
       "      <td>0.003945</td>\n",
       "      <td>0.086394</td>\n",
       "    </tr>\n",
       "    <tr>\n",
       "      <th>45</th>\n",
       "      <td>iterative_0.4636</td>\n",
       "      <td>0.463636</td>\n",
       "      <td>0.807577</td>\n",
       "      <td>0.015835</td>\n",
       "      <td>0.816</td>\n",
       "      <td>0.031067</td>\n",
       "      <td>0.615154</td>\n",
       "      <td>0.014924</td>\n",
       "      <td>0.095815</td>\n",
       "      <td>0.003945</td>\n",
       "      <td>0.203272</td>\n",
       "    </tr>\n",
       "    <tr>\n",
       "      <th>39</th>\n",
       "      <td>iterative_0.4152</td>\n",
       "      <td>0.415152</td>\n",
       "      <td>0.805550</td>\n",
       "      <td>0.037615</td>\n",
       "      <td>0.680</td>\n",
       "      <td>0.071286</td>\n",
       "      <td>0.611100</td>\n",
       "      <td>0.036256</td>\n",
       "      <td>0.148848</td>\n",
       "      <td>0.003945</td>\n",
       "      <td>0.071310</td>\n",
       "    </tr>\n",
       "    <tr>\n",
       "      <th>38</th>\n",
       "      <td>iterative_0.4071</td>\n",
       "      <td>0.407071</td>\n",
       "      <td>0.800954</td>\n",
       "      <td>0.044393</td>\n",
       "      <td>0.658</td>\n",
       "      <td>0.083175</td>\n",
       "      <td>0.601908</td>\n",
       "      <td>0.042961</td>\n",
       "      <td>0.160805</td>\n",
       "      <td>0.003945</td>\n",
       "      <td>0.058467</td>\n",
       "    </tr>\n",
       "    <tr>\n",
       "      <th>46</th>\n",
       "      <td>iterative_0.4717</td>\n",
       "      <td>0.471717</td>\n",
       "      <td>0.800394</td>\n",
       "      <td>0.014050</td>\n",
       "      <td>0.832</td>\n",
       "      <td>0.027634</td>\n",
       "      <td>0.600787</td>\n",
       "      <td>0.013186</td>\n",
       "      <td>0.089004</td>\n",
       "      <td>0.003945</td>\n",
       "      <td>0.233583</td>\n",
       "    </tr>\n",
       "    <tr>\n",
       "      <th>47</th>\n",
       "      <td>iterative_0.4798</td>\n",
       "      <td>0.479798</td>\n",
       "      <td>0.793323</td>\n",
       "      <td>0.012621</td>\n",
       "      <td>0.850</td>\n",
       "      <td>0.024872</td>\n",
       "      <td>0.586646</td>\n",
       "      <td>0.011815</td>\n",
       "      <td>0.083254</td>\n",
       "      <td>0.003945</td>\n",
       "      <td>0.265668</td>\n",
       "    </tr>\n",
       "  </tbody>\n",
       "</table>\n",
       "</div>"
      ],
      "text/plain": [
       "      threshold_type  threshold_value  balanced_accuracy  precision  recall  \\\n",
       "43  iterative_0.4475         0.447475           0.812796   0.020455   0.772   \n",
       "42  iterative_0.4394         0.439394           0.811724   0.023539   0.746   \n",
       "44  iterative_0.4556         0.455556           0.811063   0.017966   0.794   \n",
       "41  iterative_0.4313         0.431313           0.811052   0.027368   0.724   \n",
       "40  iterative_0.4232         0.423232           0.810026   0.032143   0.704   \n",
       "45  iterative_0.4636         0.463636           0.807577   0.015835   0.816   \n",
       "39  iterative_0.4152         0.415152           0.805550   0.037615   0.680   \n",
       "38  iterative_0.4071         0.407071           0.800954   0.044393   0.658   \n",
       "46  iterative_0.4717         0.471717           0.800394   0.014050   0.832   \n",
       "47  iterative_0.4798         0.479798           0.793323   0.012621   0.850   \n",
       "\n",
       "    f1_score  informedness  markedness  matthews_cc  prevalence      bias  \n",
       "43  0.039853      0.625591    0.019398     0.110160    0.003945  0.148877  \n",
       "42  0.045638      0.623447    0.022394     0.118159    0.003945  0.125012  \n",
       "44  0.035137      0.622127    0.016982     0.102786    0.003945  0.174327  \n",
       "41  0.052743      0.622104    0.026153     0.127553    0.003945  0.104350  \n",
       "40  0.061479      0.620052    0.030865     0.138340    0.003945  0.086394  \n",
       "45  0.031067      0.615154    0.014924     0.095815    0.003945  0.203272  \n",
       "39  0.071286      0.611100    0.036256     0.148848    0.003945  0.071310  \n",
       "38  0.083175      0.601908    0.042961     0.160805    0.003945  0.058467  \n",
       "46  0.027634      0.600787    0.013186     0.089004    0.003945  0.233583  \n",
       "47  0.024872      0.586646    0.011815     0.083254    0.003945  0.265668  "
      ]
     },
     "execution_count": 103,
     "metadata": {},
     "output_type": "execute_result"
    }
   ],
   "source": [
    "metrics_table.loc[metrics_table.threshold_value >= 0.25].sort_values('balanced_accuracy', ascending = False).head(10)"
   ]
  },
  {
   "cell_type": "code",
   "execution_count": 102,
   "id": "4c0a6eef",
   "metadata": {},
   "outputs": [
    {
     "data": {
      "text/html": [
       "<div>\n",
       "<style scoped>\n",
       "    .dataframe tbody tr th:only-of-type {\n",
       "        vertical-align: middle;\n",
       "    }\n",
       "\n",
       "    .dataframe tbody tr th {\n",
       "        vertical-align: top;\n",
       "    }\n",
       "\n",
       "    .dataframe thead th {\n",
       "        text-align: right;\n",
       "    }\n",
       "</style>\n",
       "<table border=\"1\" class=\"dataframe\">\n",
       "  <thead>\n",
       "    <tr style=\"text-align: right;\">\n",
       "      <th></th>\n",
       "      <th>threshold_type</th>\n",
       "      <th>threshold_value</th>\n",
       "      <th>balanced_accuracy</th>\n",
       "      <th>precision</th>\n",
       "      <th>recall</th>\n",
       "      <th>f1_score</th>\n",
       "      <th>informedness</th>\n",
       "      <th>markedness</th>\n",
       "      <th>matthews_cc</th>\n",
       "      <th>prevalence</th>\n",
       "      <th>bias</th>\n",
       "    </tr>\n",
       "  </thead>\n",
       "  <tbody>\n",
       "    <tr>\n",
       "      <th>24</th>\n",
       "      <td>iterative_0.2939</td>\n",
       "      <td>0.293939</td>\n",
       "      <td>0.628667</td>\n",
       "      <td>0.605634</td>\n",
       "      <td>0.258</td>\n",
       "      <td>0.361851</td>\n",
       "      <td>0.257335</td>\n",
       "      <td>0.602702</td>\n",
       "      <td>0.393822</td>\n",
       "      <td>0.003945</td>\n",
       "      <td>0.001680</td>\n",
       "    </tr>\n",
       "    <tr>\n",
       "      <th>23</th>\n",
       "      <td>iterative_0.2859</td>\n",
       "      <td>0.285859</td>\n",
       "      <td>0.619794</td>\n",
       "      <td>0.697674</td>\n",
       "      <td>0.240</td>\n",
       "      <td>0.357143</td>\n",
       "      <td>0.239588</td>\n",
       "      <td>0.694672</td>\n",
       "      <td>0.407965</td>\n",
       "      <td>0.003945</td>\n",
       "      <td>0.001357</td>\n",
       "    </tr>\n",
       "    <tr>\n",
       "      <th>26</th>\n",
       "      <td>iterative_0.3101</td>\n",
       "      <td>0.310101</td>\n",
       "      <td>0.652145</td>\n",
       "      <td>0.414634</td>\n",
       "      <td>0.306</td>\n",
       "      <td>0.352129</td>\n",
       "      <td>0.304289</td>\n",
       "      <td>0.411889</td>\n",
       "      <td>0.354024</td>\n",
       "      <td>0.003945</td>\n",
       "      <td>0.002911</td>\n",
       "    </tr>\n",
       "    <tr>\n",
       "      <th>25</th>\n",
       "      <td>iterative_0.3020</td>\n",
       "      <td>0.302020</td>\n",
       "      <td>0.637410</td>\n",
       "      <td>0.480836</td>\n",
       "      <td>0.276</td>\n",
       "      <td>0.350699</td>\n",
       "      <td>0.274820</td>\n",
       "      <td>0.477974</td>\n",
       "      <td>0.362432</td>\n",
       "      <td>0.003945</td>\n",
       "      <td>0.002264</td>\n",
       "    </tr>\n",
       "    <tr>\n",
       "      <th>27</th>\n",
       "      <td>iterative_0.3182</td>\n",
       "      <td>0.318182</td>\n",
       "      <td>0.667804</td>\n",
       "      <td>0.358811</td>\n",
       "      <td>0.338</td>\n",
       "      <td>0.348095</td>\n",
       "      <td>0.335608</td>\n",
       "      <td>0.356190</td>\n",
       "      <td>0.345746</td>\n",
       "      <td>0.003945</td>\n",
       "      <td>0.003716</td>\n",
       "    </tr>\n",
       "    <tr>\n",
       "      <th>22</th>\n",
       "      <td>iterative_0.2778</td>\n",
       "      <td>0.277778</td>\n",
       "      <td>0.609885</td>\n",
       "      <td>0.791367</td>\n",
       "      <td>0.220</td>\n",
       "      <td>0.344288</td>\n",
       "      <td>0.219770</td>\n",
       "      <td>0.788287</td>\n",
       "      <td>0.416224</td>\n",
       "      <td>0.003945</td>\n",
       "      <td>0.001097</td>\n",
       "    </tr>\n",
       "    <tr>\n",
       "      <th>28</th>\n",
       "      <td>iterative_0.3263</td>\n",
       "      <td>0.326263</td>\n",
       "      <td>0.687368</td>\n",
       "      <td>0.314476</td>\n",
       "      <td>0.378</td>\n",
       "      <td>0.343324</td>\n",
       "      <td>0.374737</td>\n",
       "      <td>0.312011</td>\n",
       "      <td>0.341938</td>\n",
       "      <td>0.003945</td>\n",
       "      <td>0.004741</td>\n",
       "    </tr>\n",
       "    <tr>\n",
       "      <th>21</th>\n",
       "      <td>iterative_0.2697</td>\n",
       "      <td>0.269697</td>\n",
       "      <td>0.604952</td>\n",
       "      <td>0.897436</td>\n",
       "      <td>0.210</td>\n",
       "      <td>0.340357</td>\n",
       "      <td>0.209905</td>\n",
       "      <td>0.894317</td>\n",
       "      <td>0.433268</td>\n",
       "      <td>0.003945</td>\n",
       "      <td>0.000923</td>\n",
       "    </tr>\n",
       "    <tr>\n",
       "      <th>29</th>\n",
       "      <td>iterative_0.3343</td>\n",
       "      <td>0.334343</td>\n",
       "      <td>0.699671</td>\n",
       "      <td>0.255696</td>\n",
       "      <td>0.404</td>\n",
       "      <td>0.313178</td>\n",
       "      <td>0.399343</td>\n",
       "      <td>0.253330</td>\n",
       "      <td>0.318066</td>\n",
       "      <td>0.003945</td>\n",
       "      <td>0.006232</td>\n",
       "    </tr>\n",
       "    <tr>\n",
       "      <th>20</th>\n",
       "      <td>iterative_0.2616</td>\n",
       "      <td>0.261616</td>\n",
       "      <td>0.591976</td>\n",
       "      <td>0.938776</td>\n",
       "      <td>0.184</td>\n",
       "      <td>0.307692</td>\n",
       "      <td>0.183952</td>\n",
       "      <td>0.935554</td>\n",
       "      <td>0.414846</td>\n",
       "      <td>0.003945</td>\n",
       "      <td>0.000773</td>\n",
       "    </tr>\n",
       "  </tbody>\n",
       "</table>\n",
       "</div>"
      ],
      "text/plain": [
       "      threshold_type  threshold_value  balanced_accuracy  precision  recall  \\\n",
       "24  iterative_0.2939         0.293939           0.628667   0.605634   0.258   \n",
       "23  iterative_0.2859         0.285859           0.619794   0.697674   0.240   \n",
       "26  iterative_0.3101         0.310101           0.652145   0.414634   0.306   \n",
       "25  iterative_0.3020         0.302020           0.637410   0.480836   0.276   \n",
       "27  iterative_0.3182         0.318182           0.667804   0.358811   0.338   \n",
       "22  iterative_0.2778         0.277778           0.609885   0.791367   0.220   \n",
       "28  iterative_0.3263         0.326263           0.687368   0.314476   0.378   \n",
       "21  iterative_0.2697         0.269697           0.604952   0.897436   0.210   \n",
       "29  iterative_0.3343         0.334343           0.699671   0.255696   0.404   \n",
       "20  iterative_0.2616         0.261616           0.591976   0.938776   0.184   \n",
       "\n",
       "    f1_score  informedness  markedness  matthews_cc  prevalence      bias  \n",
       "24  0.361851      0.257335    0.602702     0.393822    0.003945  0.001680  \n",
       "23  0.357143      0.239588    0.694672     0.407965    0.003945  0.001357  \n",
       "26  0.352129      0.304289    0.411889     0.354024    0.003945  0.002911  \n",
       "25  0.350699      0.274820    0.477974     0.362432    0.003945  0.002264  \n",
       "27  0.348095      0.335608    0.356190     0.345746    0.003945  0.003716  \n",
       "22  0.344288      0.219770    0.788287     0.416224    0.003945  0.001097  \n",
       "28  0.343324      0.374737    0.312011     0.341938    0.003945  0.004741  \n",
       "21  0.340357      0.209905    0.894317     0.433268    0.003945  0.000923  \n",
       "29  0.313178      0.399343    0.253330     0.318066    0.003945  0.006232  \n",
       "20  0.307692      0.183952    0.935554     0.414846    0.003945  0.000773  "
      ]
     },
     "execution_count": 102,
     "metadata": {},
     "output_type": "execute_result"
    }
   ],
   "source": [
    "metrics_table.loc[metrics_table.threshold_value >= 0.25].sort_values('f1_score', ascending = False).head(10)"
   ]
  },
  {
   "cell_type": "code",
   "execution_count": 101,
   "id": "9fa0b1b6",
   "metadata": {},
   "outputs": [
    {
     "data": {
      "text/html": [
       "<div>\n",
       "<style scoped>\n",
       "    .dataframe tbody tr th:only-of-type {\n",
       "        vertical-align: middle;\n",
       "    }\n",
       "\n",
       "    .dataframe tbody tr th {\n",
       "        vertical-align: top;\n",
       "    }\n",
       "\n",
       "    .dataframe thead th {\n",
       "        text-align: right;\n",
       "    }\n",
       "</style>\n",
       "<table border=\"1\" class=\"dataframe\">\n",
       "  <thead>\n",
       "    <tr style=\"text-align: right;\">\n",
       "      <th></th>\n",
       "      <th>threshold_type</th>\n",
       "      <th>threshold_value</th>\n",
       "      <th>balanced_accuracy</th>\n",
       "      <th>precision</th>\n",
       "      <th>recall</th>\n",
       "      <th>f1_score</th>\n",
       "      <th>informedness</th>\n",
       "      <th>markedness</th>\n",
       "      <th>matthews_cc</th>\n",
       "      <th>prevalence</th>\n",
       "      <th>bias</th>\n",
       "    </tr>\n",
       "  </thead>\n",
       "  <tbody>\n",
       "    <tr>\n",
       "      <th>21</th>\n",
       "      <td>iterative_0.2697</td>\n",
       "      <td>0.269697</td>\n",
       "      <td>0.604952</td>\n",
       "      <td>0.897436</td>\n",
       "      <td>0.210</td>\n",
       "      <td>0.340357</td>\n",
       "      <td>0.209905</td>\n",
       "      <td>0.894317</td>\n",
       "      <td>0.433268</td>\n",
       "      <td>0.003945</td>\n",
       "      <td>0.000923</td>\n",
       "    </tr>\n",
       "    <tr>\n",
       "      <th>22</th>\n",
       "      <td>iterative_0.2778</td>\n",
       "      <td>0.277778</td>\n",
       "      <td>0.609885</td>\n",
       "      <td>0.791367</td>\n",
       "      <td>0.220</td>\n",
       "      <td>0.344288</td>\n",
       "      <td>0.219770</td>\n",
       "      <td>0.788287</td>\n",
       "      <td>0.416224</td>\n",
       "      <td>0.003945</td>\n",
       "      <td>0.001097</td>\n",
       "    </tr>\n",
       "    <tr>\n",
       "      <th>20</th>\n",
       "      <td>iterative_0.2616</td>\n",
       "      <td>0.261616</td>\n",
       "      <td>0.591976</td>\n",
       "      <td>0.938776</td>\n",
       "      <td>0.184</td>\n",
       "      <td>0.307692</td>\n",
       "      <td>0.183952</td>\n",
       "      <td>0.935554</td>\n",
       "      <td>0.414846</td>\n",
       "      <td>0.003945</td>\n",
       "      <td>0.000773</td>\n",
       "    </tr>\n",
       "    <tr>\n",
       "      <th>19</th>\n",
       "      <td>iterative_0.2535</td>\n",
       "      <td>0.253535</td>\n",
       "      <td>0.584996</td>\n",
       "      <td>0.988372</td>\n",
       "      <td>0.170</td>\n",
       "      <td>0.290102</td>\n",
       "      <td>0.169992</td>\n",
       "      <td>0.985096</td>\n",
       "      <td>0.409217</td>\n",
       "      <td>0.003945</td>\n",
       "      <td>0.000678</td>\n",
       "    </tr>\n",
       "    <tr>\n",
       "      <th>23</th>\n",
       "      <td>iterative_0.2859</td>\n",
       "      <td>0.285859</td>\n",
       "      <td>0.619794</td>\n",
       "      <td>0.697674</td>\n",
       "      <td>0.240</td>\n",
       "      <td>0.357143</td>\n",
       "      <td>0.239588</td>\n",
       "      <td>0.694672</td>\n",
       "      <td>0.407965</td>\n",
       "      <td>0.003945</td>\n",
       "      <td>0.001357</td>\n",
       "    </tr>\n",
       "    <tr>\n",
       "      <th>24</th>\n",
       "      <td>iterative_0.2939</td>\n",
       "      <td>0.293939</td>\n",
       "      <td>0.628667</td>\n",
       "      <td>0.605634</td>\n",
       "      <td>0.258</td>\n",
       "      <td>0.361851</td>\n",
       "      <td>0.257335</td>\n",
       "      <td>0.602702</td>\n",
       "      <td>0.393822</td>\n",
       "      <td>0.003945</td>\n",
       "      <td>0.001680</td>\n",
       "    </tr>\n",
       "    <tr>\n",
       "      <th>25</th>\n",
       "      <td>iterative_0.3020</td>\n",
       "      <td>0.302020</td>\n",
       "      <td>0.637410</td>\n",
       "      <td>0.480836</td>\n",
       "      <td>0.276</td>\n",
       "      <td>0.350699</td>\n",
       "      <td>0.274820</td>\n",
       "      <td>0.477974</td>\n",
       "      <td>0.362432</td>\n",
       "      <td>0.003945</td>\n",
       "      <td>0.002264</td>\n",
       "    </tr>\n",
       "    <tr>\n",
       "      <th>26</th>\n",
       "      <td>iterative_0.3101</td>\n",
       "      <td>0.310101</td>\n",
       "      <td>0.652145</td>\n",
       "      <td>0.414634</td>\n",
       "      <td>0.306</td>\n",
       "      <td>0.352129</td>\n",
       "      <td>0.304289</td>\n",
       "      <td>0.411889</td>\n",
       "      <td>0.354024</td>\n",
       "      <td>0.003945</td>\n",
       "      <td>0.002911</td>\n",
       "    </tr>\n",
       "    <tr>\n",
       "      <th>27</th>\n",
       "      <td>iterative_0.3182</td>\n",
       "      <td>0.318182</td>\n",
       "      <td>0.667804</td>\n",
       "      <td>0.358811</td>\n",
       "      <td>0.338</td>\n",
       "      <td>0.348095</td>\n",
       "      <td>0.335608</td>\n",
       "      <td>0.356190</td>\n",
       "      <td>0.345746</td>\n",
       "      <td>0.003945</td>\n",
       "      <td>0.003716</td>\n",
       "    </tr>\n",
       "    <tr>\n",
       "      <th>28</th>\n",
       "      <td>iterative_0.3263</td>\n",
       "      <td>0.326263</td>\n",
       "      <td>0.687368</td>\n",
       "      <td>0.314476</td>\n",
       "      <td>0.378</td>\n",
       "      <td>0.343324</td>\n",
       "      <td>0.374737</td>\n",
       "      <td>0.312011</td>\n",
       "      <td>0.341938</td>\n",
       "      <td>0.003945</td>\n",
       "      <td>0.004741</td>\n",
       "    </tr>\n",
       "  </tbody>\n",
       "</table>\n",
       "</div>"
      ],
      "text/plain": [
       "      threshold_type  threshold_value  balanced_accuracy  precision  recall  \\\n",
       "21  iterative_0.2697         0.269697           0.604952   0.897436   0.210   \n",
       "22  iterative_0.2778         0.277778           0.609885   0.791367   0.220   \n",
       "20  iterative_0.2616         0.261616           0.591976   0.938776   0.184   \n",
       "19  iterative_0.2535         0.253535           0.584996   0.988372   0.170   \n",
       "23  iterative_0.2859         0.285859           0.619794   0.697674   0.240   \n",
       "24  iterative_0.2939         0.293939           0.628667   0.605634   0.258   \n",
       "25  iterative_0.3020         0.302020           0.637410   0.480836   0.276   \n",
       "26  iterative_0.3101         0.310101           0.652145   0.414634   0.306   \n",
       "27  iterative_0.3182         0.318182           0.667804   0.358811   0.338   \n",
       "28  iterative_0.3263         0.326263           0.687368   0.314476   0.378   \n",
       "\n",
       "    f1_score  informedness  markedness  matthews_cc  prevalence      bias  \n",
       "21  0.340357      0.209905    0.894317     0.433268    0.003945  0.000923  \n",
       "22  0.344288      0.219770    0.788287     0.416224    0.003945  0.001097  \n",
       "20  0.307692      0.183952    0.935554     0.414846    0.003945  0.000773  \n",
       "19  0.290102      0.169992    0.985096     0.409217    0.003945  0.000678  \n",
       "23  0.357143      0.239588    0.694672     0.407965    0.003945  0.001357  \n",
       "24  0.361851      0.257335    0.602702     0.393822    0.003945  0.001680  \n",
       "25  0.350699      0.274820    0.477974     0.362432    0.003945  0.002264  \n",
       "26  0.352129      0.304289    0.411889     0.354024    0.003945  0.002911  \n",
       "27  0.348095      0.335608    0.356190     0.345746    0.003945  0.003716  \n",
       "28  0.343324      0.374737    0.312011     0.341938    0.003945  0.004741  "
      ]
     },
     "execution_count": 101,
     "metadata": {},
     "output_type": "execute_result"
    }
   ],
   "source": [
    "metrics_table.loc[metrics_table.threshold_value >= 0.25].sort_values('matthews_cc', ascending = False).head(10)"
   ]
  },
  {
   "cell_type": "code",
   "execution_count": 99,
   "id": "0982b6ad",
   "metadata": {},
   "outputs": [
    {
     "data": {
      "text/html": [
       "<div>\n",
       "<style scoped>\n",
       "    .dataframe tbody tr th:only-of-type {\n",
       "        vertical-align: middle;\n",
       "    }\n",
       "\n",
       "    .dataframe tbody tr th {\n",
       "        vertical-align: top;\n",
       "    }\n",
       "\n",
       "    .dataframe thead th {\n",
       "        text-align: right;\n",
       "    }\n",
       "</style>\n",
       "<table border=\"1\" class=\"dataframe\">\n",
       "  <thead>\n",
       "    <tr style=\"text-align: right;\">\n",
       "      <th></th>\n",
       "      <th>threshold_type</th>\n",
       "      <th>threshold_value</th>\n",
       "      <th>balanced_accuracy</th>\n",
       "      <th>precision</th>\n",
       "      <th>recall</th>\n",
       "      <th>f1_score</th>\n",
       "      <th>informedness</th>\n",
       "      <th>markedness</th>\n",
       "      <th>matthews_cc</th>\n",
       "      <th>prevalence</th>\n",
       "      <th>bias</th>\n",
       "    </tr>\n",
       "  </thead>\n",
       "  <tbody>\n",
       "    <tr>\n",
       "      <th>19</th>\n",
       "      <td>iterative_0.2535</td>\n",
       "      <td>0.253535</td>\n",
       "      <td>0.584996</td>\n",
       "      <td>0.988372</td>\n",
       "      <td>0.170</td>\n",
       "      <td>0.290102</td>\n",
       "      <td>0.169992</td>\n",
       "      <td>0.985096</td>\n",
       "      <td>0.409217</td>\n",
       "      <td>0.003945</td>\n",
       "      <td>0.000678</td>\n",
       "    </tr>\n",
       "    <tr>\n",
       "      <th>20</th>\n",
       "      <td>iterative_0.2616</td>\n",
       "      <td>0.261616</td>\n",
       "      <td>0.591976</td>\n",
       "      <td>0.938776</td>\n",
       "      <td>0.184</td>\n",
       "      <td>0.307692</td>\n",
       "      <td>0.183952</td>\n",
       "      <td>0.935554</td>\n",
       "      <td>0.414846</td>\n",
       "      <td>0.003945</td>\n",
       "      <td>0.000773</td>\n",
       "    </tr>\n",
       "    <tr>\n",
       "      <th>21</th>\n",
       "      <td>iterative_0.2697</td>\n",
       "      <td>0.269697</td>\n",
       "      <td>0.604952</td>\n",
       "      <td>0.897436</td>\n",
       "      <td>0.210</td>\n",
       "      <td>0.340357</td>\n",
       "      <td>0.209905</td>\n",
       "      <td>0.894317</td>\n",
       "      <td>0.433268</td>\n",
       "      <td>0.003945</td>\n",
       "      <td>0.000923</td>\n",
       "    </tr>\n",
       "    <tr>\n",
       "      <th>22</th>\n",
       "      <td>iterative_0.2778</td>\n",
       "      <td>0.277778</td>\n",
       "      <td>0.609885</td>\n",
       "      <td>0.791367</td>\n",
       "      <td>0.220</td>\n",
       "      <td>0.344288</td>\n",
       "      <td>0.219770</td>\n",
       "      <td>0.788287</td>\n",
       "      <td>0.416224</td>\n",
       "      <td>0.003945</td>\n",
       "      <td>0.001097</td>\n",
       "    </tr>\n",
       "    <tr>\n",
       "      <th>23</th>\n",
       "      <td>iterative_0.2859</td>\n",
       "      <td>0.285859</td>\n",
       "      <td>0.619794</td>\n",
       "      <td>0.697674</td>\n",
       "      <td>0.240</td>\n",
       "      <td>0.357143</td>\n",
       "      <td>0.239588</td>\n",
       "      <td>0.694672</td>\n",
       "      <td>0.407965</td>\n",
       "      <td>0.003945</td>\n",
       "      <td>0.001357</td>\n",
       "    </tr>\n",
       "  </tbody>\n",
       "</table>\n",
       "</div>"
      ],
      "text/plain": [
       "      threshold_type  threshold_value  balanced_accuracy  precision  recall  \\\n",
       "19  iterative_0.2535         0.253535           0.584996   0.988372   0.170   \n",
       "20  iterative_0.2616         0.261616           0.591976   0.938776   0.184   \n",
       "21  iterative_0.2697         0.269697           0.604952   0.897436   0.210   \n",
       "22  iterative_0.2778         0.277778           0.609885   0.791367   0.220   \n",
       "23  iterative_0.2859         0.285859           0.619794   0.697674   0.240   \n",
       "\n",
       "    f1_score  informedness  markedness  matthews_cc  prevalence      bias  \n",
       "19  0.290102      0.169992    0.985096     0.409217    0.003945  0.000678  \n",
       "20  0.307692      0.183952    0.935554     0.414846    0.003945  0.000773  \n",
       "21  0.340357      0.209905    0.894317     0.433268    0.003945  0.000923  \n",
       "22  0.344288      0.219770    0.788287     0.416224    0.003945  0.001097  \n",
       "23  0.357143      0.239588    0.694672     0.407965    0.003945  0.001357  "
      ]
     },
     "execution_count": 99,
     "metadata": {},
     "output_type": "execute_result"
    }
   ],
   "source": [
    "metrics_table.loc[metrics_table.threshold_value >= 0.25].sort_values('markedness', ascending = False).head()"
   ]
  },
  {
   "cell_type": "code",
   "execution_count": null,
   "id": "6bf6847e",
   "metadata": {},
   "outputs": [],
   "source": []
  },
  {
   "cell_type": "code",
   "execution_count": null,
   "id": "7a0283e3",
   "metadata": {},
   "outputs": [],
   "source": []
  }
 ],
 "metadata": {
  "kernelspec": {
   "display_name": "Python 3 (ipykernel)",
   "language": "python",
   "name": "python3"
  },
  "language_info": {
   "codemirror_mode": {
    "name": "ipython",
    "version": 3
   },
   "file_extension": ".py",
   "mimetype": "text/x-python",
   "name": "python",
   "nbconvert_exporter": "python",
   "pygments_lexer": "ipython3",
   "version": "3.8.10"
  }
 },
 "nbformat": 4,
 "nbformat_minor": 5
}
