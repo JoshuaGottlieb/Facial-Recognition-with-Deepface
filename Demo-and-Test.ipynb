{
 "cells": [
  {
   "cell_type": "code",
   "execution_count": null,
   "id": "9f14fca7",
   "metadata": {},
   "outputs": [],
   "source": [
    "# Library and Personal Module Imports\n",
    "import os\n",
    "import cv2\n",
    "import numpy as np\n",
    "import matplotlib.pyplot as plt\n",
    "import src.modules.face_api as face_api"
   ]
  },
  {
   "cell_type": "code",
   "execution_count": null,
   "id": "cda78fda",
   "metadata": {},
   "outputs": [],
   "source": [
    "# Initialize a model to pass into future functions for fast vectorization.\n",
    "model = face_api.init_model()"
   ]
  },
  {
   "cell_type": "code",
   "execution_count": null,
   "id": "8ca2498c",
   "metadata": {},
   "outputs": [],
   "source": [
    "# Specify threshold strategy: default matthews_cc, least strict is balanced_acc, see face_api.py for more details\n",
    "# Specify threshold strictness: 1 to 5 from most to least strict\n",
    "# Specify maximum number of matches to return if distances are less than threshold, positive integer\n",
    "threshold_strategy = 'balanced_acc'\n",
    "threshold_strictness = 5\n",
    "match_num = 3\n",
    "\n",
    "# threshold_strategy = 'matthews_cc'\n",
    "# threshold_strictness = 2\n",
    "# match_num = 1"
   ]
  },
  {
   "cell_type": "code",
   "execution_count": null,
   "id": "af60a89b",
   "metadata": {},
   "outputs": [],
   "source": [
    "# Specify reference directories for images and vectors to compare against.\n",
    "# Specify number of digits as suffix for images\n",
    "# reference_dir = './data/dummy_dataset/reference_images'\n",
    "# vector_dir = './data/dummy_dataset/reference_vectors'\n",
    "# num_digits = 4\n",
    "\n",
    "reference_dir = './data/personal_images_batch2/reference_images'\n",
    "vector_dir = './data/personal_images_batch2/reference_vectors'\n",
    "num_digits = 2\n",
    "\n",
    "vector_dict = face_api.load_vector_dict(vector_dir, num_digits = num_digits)"
   ]
  },
  {
   "cell_type": "code",
   "execution_count": null,
   "id": "bd8a47d2",
   "metadata": {},
   "outputs": [],
   "source": [
    "# Specify input image directory and name to check against.\n",
    "# image_dir = './data/dummy_dataset/input_images'\n",
    "# image_name = 'Wayne_Gretzky_0002.jpg'\n",
    "# image_name = 'Sarah_Michelle_Gellar_0002.jpg'\n",
    "\n",
    "image_dir = './data/personal_images_batch2/input_images'\n",
    "\n",
    "# image_name = 'Jack-04.jpg'\n",
    "# image_name = 'Adam-02.jpg'\n",
    "# image_name = 'Ed-02.jpg'\n",
    "image_name = 'Dan1-02.jpg'\n",
    "\n",
    "image_path = os.path.join(image_dir, image_name)"
   ]
  },
  {
   "cell_type": "code",
   "execution_count": null,
   "id": "f072e327",
   "metadata": {},
   "outputs": [],
   "source": [
    "# Load in base image for inspection\n",
    "base_image = cv2.imread(image_path)[:, :, ::-1]"
   ]
  },
  {
   "cell_type": "code",
   "execution_count": null,
   "id": "5a9730b1",
   "metadata": {},
   "outputs": [],
   "source": [
    "# Show base image\n",
    "fig, ax = plt.subplots(figsize = (4, 3))\n",
    "\n",
    "ax.imshow(base_image);\n",
    "\n",
    "ax.set_title(f'{image_name.split(\".\")[0]}')\n",
    "ax.set_xlabel('Input Image');\n",
    "ax.set_xticks([]);\n",
    "ax.set_yticks([]);\n",
    "ax.grid(False);\n",
    "\n",
    "plt.tight_layout();"
   ]
  },
  {
   "cell_type": "code",
   "execution_count": null,
   "id": "c53139db",
   "metadata": {},
   "outputs": [],
   "source": [
    "# Perform Matching\n",
    "match_details = face_api.find_image_match(image_path, vector_dict, model = model,\n",
    "                                          threshold_strategy = threshold_strategy,\n",
    "                                          threshold_strictness = threshold_strictness,\n",
    "                                          match_num = match_num)"
   ]
  },
  {
   "cell_type": "code",
   "execution_count": null,
   "id": "5a620024",
   "metadata": {},
   "outputs": [],
   "source": [
    "# If no matches are found, print match details, else show matches found\n",
    "if type(match_details) == str:\n",
    "    print(match_details)\n",
    "else:\n",
    "    # Display results\n",
    "    # Split results into fields\n",
    "    matches, threshold, metric = match_details\n",
    "    \n",
    "    # Number of subplots\n",
    "    n = len(matches) + 1\n",
    "    \n",
    "    # Load matched images\n",
    "    matched_images = [cv2.imread(os.path.join(reference_dir, x[0] + '.jpg'))[:, :, ::-1] for x in matches]\n",
    "\n",
    "    # Create subplots for base image and all matched images\n",
    "    fig, ax = plt.subplots(1, n, figsize = (round(n * 2.5), 4))\n",
    "    \n",
    "    # Display base image\n",
    "    ax[0].imshow(base_image);\n",
    "    ax[0].set_title(f'{image_name.split(\".\")[0]}');\n",
    "    ax[0].set_xlabel('Input Image');\n",
    "    \n",
    "    # Turn off axis numbers\n",
    "    for a in ax:\n",
    "        a.set_xticks([]);\n",
    "        a.set_yticks([]);\n",
    "        a.grid(False);\n",
    "    \n",
    "    # Display matched images\n",
    "    for i in range(len(matched_images)):\n",
    "        ax[i + 1].imshow(matched_images[i]);\n",
    "        ax[i + 1].set_title(f'{matches[i][0]}');\n",
    "        ax[i + 1].set_xlabel(f'Distance: {matches[i][1]:.03f}');\n",
    "    \n",
    "    plt.tight_layout();"
   ]
  },
  {
   "cell_type": "code",
   "execution_count": null,
   "id": "d30c1547",
   "metadata": {},
   "outputs": [],
   "source": []
  }
 ],
 "metadata": {
  "kernelspec": {
   "display_name": "Python 3 (ipykernel)",
   "language": "python",
   "name": "python3"
  },
  "language_info": {
   "codemirror_mode": {
    "name": "ipython",
    "version": 3
   },
   "file_extension": ".py",
   "mimetype": "text/x-python",
   "name": "python",
   "nbconvert_exporter": "python",
   "pygments_lexer": "ipython3",
   "version": "3.8.10"
  }
 },
 "nbformat": 4,
 "nbformat_minor": 5
}
